{
 "metadata": {
  "language_info": {
   "codemirror_mode": {
    "name": "ipython",
    "version": 3
   },
   "file_extension": ".py",
   "mimetype": "text/x-python",
   "name": "python",
   "nbconvert_exporter": "python",
   "pygments_lexer": "ipython3",
   "version": 3
  },
  "orig_nbformat": 2,
  "kernelspec": {
   "name": "python_defaultSpec_1595233757398",
   "display_name": "Python 3.8.3 64-bit"
  }
 },
 "nbformat": 4,
 "nbformat_minor": 2,
 "cells": [
  {
   "cell_type": "markdown",
   "metadata": {},
   "source": [
    "# Thinking in Algorithms \n",
    "\n",
    "## Sample Problem\n",
    "### consider points P in a single plane. Compute the convex hull from the set\n",
    "a convex hull is the smallest convex shape that fully encloses all the points P. Write an algortihm to compute the convex hull from the set. \n",
    "\n",
    "given a convex hull for P, any line segment drawn between any two points in P lies totally within the hull. For the hull (outside) any 3 \n",
    "consecutive clockwise points will form a right angle \n",
    "\n",
    "![image](convex_hull.PNG)\n",
    "\n",
    "  \n",
    "    \n",
    "\n",
    "      \n",
    "       \n",
    "\n",
    "# Naive Solution \n",
    "A convex hull exists for 3 or more points. if any of the remaining n - 3 points are con-tained within this triangle then they cannot be part of the \n",
    "hull. This generl process can be shown with the pseudocode bellow. \n"
   ]
  },
  {
   "cell_type": "code",
   "execution_count": null,
   "metadata": {},
   "outputs": [],
   "source": [
    "slowhull(P) \n",
    "    foreach p0 in p do\n",
    "        foreach p1 in {p-p0} do \n",
    "            foreach p2 in {p-p0-p1} do \n",
    "                for p3 in {P-p0-p1-p2} do \n",
    "                    if p3 is contained with triangle(p0, p1, p2) \n",
    "                        mark p3 as internal\n",
    "                        \n",
    "Create array A with all non-internal points in P \n",
    "Determine leftmost point, left, in A \n",
    "sort A by angle formed with vertical line through left \n",
    "return A   "
   ]
  },
  {
   "cell_type": "markdown",
   "metadata": {},
   "source": [
    "## Greedy \n",
    "    1. Remove from P its lowest point, low, which must be part of the hull. e.g. lowest y value \n",
    "    2. sort the remaining n-1 points in descending order by the angle fromed in relation to the vertical line trhough low. \n",
    "       The Pn-2 is the rightmost point and P0 is the leftmost point. \n",
    "    3. Start with a partial convex hull fromed from three points in this order {pn-2, low, p0}. Try to extend te hull by \n",
    "       considering, in order, each of the points p1 to pn-2 if the last three points of the partial hull ever turn left, the hull \n",
    "       containins an incorrect point that must be removed. Since any 3 points in the hull must form a right angle when considered clockwise \n",
    "    4. once all points are considered the partial hull completes \n",
    "\n",
    "![image](Greedy_convex_hull.PNG)\n",
    "\n",
    "   \n",
    "  "
   ]
  },
  {
   "cell_type": "code",
   "execution_count": null,
   "metadata": {},
   "outputs": [],
   "source": []
  }
 ]
}