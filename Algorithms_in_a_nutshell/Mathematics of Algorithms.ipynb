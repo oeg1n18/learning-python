{
 "metadata": {
  "language_info": {
   "codemirror_mode": {
    "name": "ipython",
    "version": 3
   },
   "file_extension": ".py",
   "mimetype": "text/x-python",
   "name": "python",
   "nbconvert_exporter": "python",
   "pygments_lexer": "ipython3",
   "version": 3
  },
  "orig_nbformat": 2,
  "kernelspec": {
   "name": "python_defaultSpec_1595239707096",
   "display_name": "Python 3.8.3 64-bit"
  }
 },
 "nbformat": 4,
 "nbformat_minor": 2,
 "cells": [
  {
   "cell_type": "markdown",
   "metadata": {},
   "source": [
    "# The Mathematics of Algorithms \n",
    "\n",
    "## Rate of growth of functions\n",
    "We describe the behvaiour of an algorithm by the rate of growth of its execution time as a function of the size of the input problem instance. \n",
    "\n",
    "### Sequential search \n",
    "sequential Search examines a list of m > 1 distinct elements, one at a time, until a desired value, v, is found. For now we assume that: \n",
    "  * There are n distinct elements in the list \n",
    "  * The list contains the desired value v \n",
    "  * Each element in the list is equally likely to be the desired value v\n",
    "\n",
    "To evaluate it's performance we must know on average how many elements it examines until it finds the value v. As each of the n elements in the list are equally likely to be n   \n",
    "\n",
    "![image](sequential_search_av.PNG)\n",
    "\n",
    "The algorithm always examines about half the the number of elements in the list. Therefore there is a linear relationship with the size of instance of the object and time to \n",
    "solve the problem. \n",
    "\n"
   ]
  },
  {
   "cell_type": "markdown",
   "metadata": {
    "tags": []
   },
   "source": [
    "## Analysis in the Best, Average and Worst Cases \n",
    "take simple sorting algorithms for example. Some will perform better on certain data sets and worst on others for example \n",
    "  * The data could contain large runs of elements already sorted \n",
    "  * The input could contain duplicate values \n",
    "  * Regardless of the size n of the input set, the elements could be drawn from a much smaller set and contain a significant number \n",
    "    of duplicate values  \n",
    "\n",
    "to provide some guidance algorithms are usually presented with guidance with repecnt to three different cases \n",
    "  \n",
    "-  \n",
    "-  \n",
    "-  \n",
    "-  \n",
    "-  \n",
    "      \n",
    "      \n",
    "**worst case**  designers typically describe properties of input instances that create the worst \n",
    "runtime behavious \n",
    "\n",
    "**Average case** describes the performance of the algorithm on random problem instances. this is the behaviour you can expect to get \n",
    "\n",
    "\n",
    "**Best Case** defines a class of problems for which the algorithm exhibits best runtime behavious \n",
    "\n",
    "## Lower and Upper bounds\n",
    "the goal is to classify the behaviour of an algorithm as it solves instances of increasing size, n. The classification is stated as O(f(n)) where f(n) is the \n",
    "relative performance of the function. Usually n^2/n^3.... \n",
    "\n",
    "  * The lower bound for the execution time of an algorithm is classified as Ω(f(n)) where f(n) is the best performance. \n",
    "  * the upper bound for the execution time of an algorithm is O(f(n)) where f(n) corresponds to the worst case scenario.\n",
    "\n",
    "## Performance Families \n",
    "families are classified by there performance on instances of size n. By doing so you can determine which algorithm is best suited to solve your problem. \n",
    "A secondary performance evaluation would be how much memory the algorithm uses.\n",
    "* Constand O(l)\n",
    "* Logarithmic: O(log n) \n",
    "* sublinear: O(n^d) d<1 \n",
    "* linear: O(n)\n",
    "* Linearithmic; O(n logn) \n",
    "* Quadratic: O(n^2)\n",
    "* Exponential: O(2^n)\n",
    "\n",
    "\n",
    "## Log n Behavious \n",
    "the performance of these types of algorithms would be 1 + log(n) (log to the base 2). An example of this would be if you had to guess a number from a range and each guess you were told wether \n",
    "the sought value was higher or lower from than your guess. "
   ]
  },
  {
   "cell_type": "code",
   "execution_count": 19,
   "metadata": {},
   "outputs": [],
   "source": [
    "# compute number of turns when n is guarenteed to be in range [low,high]\n",
    "def int_turns(n, low, high): \n",
    "    turns = 0\n",
    "    while high>=low: \n",
    "        turns = turns + 1\n",
    "        mid = (low + high)/2\n",
    "        if mid == n: \n",
    "            return turns \n",
    "        elif mid < n:\n",
    "            low = mid + 1\n",
    "        else: \n",
    "            high = mid - 1\n",
    "    return turns\n",
    "\n"
   ]
  },
  {
   "cell_type": "code",
   "execution_count": 22,
   "metadata": {},
   "outputs": [
    {
     "output_type": "execute_result",
     "data": {
      "text/plain": "9"
     },
     "metadata": {},
     "execution_count": 22
    }
   ],
   "source": [
    "i = int_turns(348,0,1000)\n",
    "i"
   ]
  },
  {
   "cell_type": "markdown",
   "metadata": {},
   "source": [
    "Logarithmic algorithms are extremely efficient becuase they rapidly converge on a solution"
   ]
  },
  {
   "cell_type": "markdown",
   "metadata": {},
   "source": [
    "## Sublinear O(n^d) behavior for d<1 \n",
    "Sometimes an algorithms behavior is better than linear but not quite as got as log(n). for example a k-d tree in multiple dimensions can partition a set of n d-dimensional points efficiently. "
   ]
  },
  {
   "cell_type": "markdown",
   "metadata": {},
   "source": [
    "### Linear performance \n",
    "A child can evaluate 5 + 7 but what about 35 + 17. Specifically how hard is it to add two n-digit numbers. for example in primary school when you where taught to add the long digit numbers \n",
    "the process may have looked something like the code below"
   ]
  },
  {
   "cell_type": "code",
   "execution_count": 27,
   "metadata": {
    "tags": []
   },
   "outputs": [
    {
     "output_type": "stream",
     "name": "stdout",
     "text": "[0. 2. 4. 6. 9. 1. 3. 5. 7. 8.]\n"
    }
   ],
   "source": [
    "import numpy as np\n",
    "\n",
    "def addition(n1, n2): \n",
    "    sum = np.zeros(len(n1))\n",
    "    pos = len(n1)-1\n",
    "    carry = 0\n",
    "    while pos>0: \n",
    "        total = n1[pos] + n2[pos] + carry\n",
    "        if total < 10:\n",
    "            sum[pos] = total\n",
    "            carry = 0\n",
    "            pos = pos-1\n",
    "        else:\n",
    "            sum[pos] = total%10\n",
    "            carry = 1\n",
    "            pos = pos-1\n",
    "    print(sum)\n",
    "\n",
    "\n",
    "num1 = np.arange(10)\n",
    "num2 = np.arange(10)\n",
    "addition(num1, num2)"
   ]
  },
  {
   "cell_type": "markdown",
   "metadata": {},
   "source": [
    "This algorithm has linear behaviour. As the size of the instance object double e.g. elements in the array double the execution time also doubles provided the constant is small. ( y = mx + c)"
   ]
  },
  {
   "cell_type": "code",
   "execution_count": null,
   "metadata": {},
   "outputs": [],
   "source": []
  }
 ]
}