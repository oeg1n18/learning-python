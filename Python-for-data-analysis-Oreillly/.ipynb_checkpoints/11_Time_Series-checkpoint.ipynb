{
 "cells": [
  {
   "cell_type": "markdown",
   "metadata": {},
   "source": [
    "# Time Series \n",
    "how you mark and refer to time series data depends on the application, and you may have one of the following  \n",
    "* Timestamps, specific instants in time\n",
    "* fixed periods, such as the month jan 2007 or the full year 2010\n",
    "* intervals of time, indicated by a start and end timestamp. Periods can be thought of as special cases of intervals\n",
    "* Experiment or elapsed time; each timestamp is a measure of time relative to a particular start time(e.g. the diameter of a cookie baking each seocond since being placed in the oven)"
   ]
  },
  {
   "cell_type": "code",
   "execution_count": 1,
   "metadata": {},
   "outputs": [],
   "source": [
    "import pandas as pd"
   ]
  },
  {
   "cell_type": "code",
   "execution_count": 2,
   "metadata": {},
   "outputs": [
    {
     "data": {
      "text/plain": [
       "datetime.datetime(2020, 8, 4, 9, 30, 29, 933331)"
      ]
     },
     "execution_count": 2,
     "metadata": {},
     "output_type": "execute_result"
    }
   ],
   "source": [
    "\n",
    "from datetime import datetime\n",
    "now = datetime.now()\n",
    "now"
   ]
  },
  {
   "cell_type": "code",
   "execution_count": 3,
   "metadata": {},
   "outputs": [
    {
     "data": {
      "text/plain": [
       "(2020, 8, 4)"
      ]
     },
     "execution_count": 3,
     "metadata": {},
     "output_type": "execute_result"
    }
   ],
   "source": [
    "now.year, now.month, now.day"
   ]
  },
  {
   "cell_type": "code",
   "execution_count": 4,
   "metadata": {},
   "outputs": [
    {
     "data": {
      "text/plain": [
       "datetime.timedelta(926, 56700)"
      ]
     },
     "execution_count": 4,
     "metadata": {},
     "output_type": "execute_result"
    }
   ],
   "source": [
    "delta = datetime(2011, 1, 7) - datetime(2008, 6, 24, 8, 15)\n",
    "delta"
   ]
  },
  {
   "cell_type": "code",
   "execution_count": 5,
   "metadata": {},
   "outputs": [
    {
     "data": {
      "text/plain": [
       "datetime.datetime(2011, 1, 31, 0, 0)"
      ]
     },
     "execution_count": 5,
     "metadata": {},
     "output_type": "execute_result"
    }
   ],
   "source": [
    "from datetime import timedelta\n",
    "start = datetime(2011, 1, 7)\n",
    "start + 2 * timedelta(12)"
   ]
  },
  {
   "cell_type": "markdown",
   "metadata": {},
   "source": [
    "## Converting Between String and Datetime"
   ]
  },
  {
   "cell_type": "code",
   "execution_count": 6,
   "metadata": {},
   "outputs": [
    {
     "data": {
      "text/plain": [
       "'1998-12-28 00:00:00'"
      ]
     },
     "execution_count": 6,
     "metadata": {},
     "output_type": "execute_result"
    }
   ],
   "source": [
    "stamp = datetime(1998, 12, 28)\n",
    "str(stamp)"
   ]
  },
  {
   "cell_type": "code",
   "execution_count": 7,
   "metadata": {},
   "outputs": [
    {
     "data": {
      "text/plain": [
       "'1998-12-28'"
      ]
     },
     "execution_count": 7,
     "metadata": {},
     "output_type": "execute_result"
    }
   ],
   "source": [
    "stamp.strftime('%Y-%m-%d')"
   ]
  },
  {
   "cell_type": "markdown",
   "metadata": {},
   "source": [
    "## Datetime format specification \n",
    "%Y -- four  \n",
    "%y -- Two-digit year  \n",
    "%m -- Two-digit month  \n",
    "%d -- Two-digit day  \n",
    "%H -- Hour (24 hour clock)  \n",
    "%I -- House (12 hour clock)  \n",
    "%M -- Two-digit minute   \n",
    "%S -- Second [00,61] 61 account for leap second  \n",
    "%w -- Weekday as integer [0(sunday), 6]  \n",
    "%U -- Week number of the year [0-53]; sunday is considered the first day of the week, and days before the first sunday of the year are \"week 0\"   \n",
    "%W -- Week number of the year [00, 53] Monday is considered the first day of the week, and days before the first monday of the year are week \"0\"\n",
    "%z -- UTC time zone offset as +HHMM or -HHMM; empty if time zone naive   \n",
    "%F -- Shortcut for %Y-%m-%d  \n",
    "%D -- Shortcut for %m/%d/%y   \n",
    "<br/>\n",
    "you can use the same methods to convert strings to dates using datetime.strptime "
   ]
  },
  {
   "cell_type": "code",
   "execution_count": 8,
   "metadata": {},
   "outputs": [
    {
     "data": {
      "text/plain": [
       "datetime.datetime(2011, 1, 3, 0, 0)"
      ]
     },
     "execution_count": 8,
     "metadata": {},
     "output_type": "execute_result"
    }
   ],
   "source": [
    "value = '2011-01-03'\n",
    "datetime.strptime(value, '%Y-%m-%d')"
   ]
  },
  {
   "cell_type": "code",
   "execution_count": 12,
   "metadata": {},
   "outputs": [
    {
     "data": {
      "text/plain": [
       "2011-01-02    0.495205\n",
       "2011-01-05   -0.269290\n",
       "2011-01-07    0.856273\n",
       "2011-01-08   -0.707436\n",
       "2011-01-10    0.942841\n",
       "2011-01-12   -0.609319\n",
       "dtype: float64"
      ]
     },
     "execution_count": 12,
     "metadata": {},
     "output_type": "execute_result"
    }
   ],
   "source": [
    "import numpy as np\n",
    "dates = [datetime(2011, 1, 2), datetime(2011, 1, 5), datetime(2011, 1, 7), datetime(2011, 1, 8), datetime(2011, 1, 10), datetime(2011, 1, 12)]\n",
    "ts = pd.Series(np.random.randn(6), index=dates)\n",
    "ts"
   ]
  },
  {
   "cell_type": "code",
   "execution_count": 13,
   "metadata": {},
   "outputs": [
    {
     "data": {
      "text/plain": [
       "DatetimeIndex(['2011-01-02', '2011-01-05', '2011-01-07', '2011-01-08',\n",
       "               '2011-01-10', '2011-01-12'],\n",
       "              dtype='datetime64[ns]', freq=None)"
      ]
     },
     "execution_count": 13,
     "metadata": {},
     "output_type": "execute_result"
    }
   ],
   "source": [
    "ts.index"
   ]
  },
  {
   "cell_type": "code",
   "execution_count": 14,
   "metadata": {},
   "outputs": [
    {
     "data": {
      "text/plain": [
       "2011-01-02    0.990409\n",
       "2011-01-05         NaN\n",
       "2011-01-07    1.712547\n",
       "2011-01-08         NaN\n",
       "2011-01-10    1.885682\n",
       "2011-01-12         NaN\n",
       "dtype: float64"
      ]
     },
     "execution_count": 14,
     "metadata": {},
     "output_type": "execute_result"
    }
   ],
   "source": [
    "ts + ts[::2] # selects every other point and doubles them. "
   ]
  },
  {
   "cell_type": "code",
   "execution_count": 16,
   "metadata": {},
   "outputs": [
    {
     "data": {
      "text/plain": [
       "Timestamp('2011-01-02 00:00:00')"
      ]
     },
     "execution_count": 16,
     "metadata": {},
     "output_type": "execute_result"
    }
   ],
   "source": [
    "stamp = ts.index[0]\n",
    "stamp"
   ]
  },
  {
   "cell_type": "code",
   "execution_count": 17,
   "metadata": {},
   "outputs": [
    {
     "data": {
      "text/plain": [
       "0.4952045210405504"
      ]
     },
     "execution_count": 17,
     "metadata": {},
     "output_type": "execute_result"
    }
   ],
   "source": [
    "ts[stamp]"
   ]
  },
  {
   "cell_type": "code",
   "execution_count": 18,
   "metadata": {},
   "outputs": [
    {
     "data": {
      "text/plain": [
       "0.4952045210405504"
      ]
     },
     "execution_count": 18,
     "metadata": {},
     "output_type": "execute_result"
    }
   ],
   "source": [
    "ts['2011/01/02'] # can pass a date as a string "
   ]
  },
  {
   "cell_type": "code",
   "execution_count": 23,
   "metadata": {},
   "outputs": [
    {
     "data": {
      "text/plain": [
       "2002-09-22   -0.535371\n",
       "2002-09-23   -1.157224\n",
       "2002-09-24   -0.263808\n",
       "2002-09-25    1.188756\n",
       "2002-09-26    2.559750\n",
       "Freq: D, dtype: float64"
      ]
     },
     "execution_count": 23,
     "metadata": {},
     "output_type": "execute_result"
    }
   ],
   "source": [
    "#for larger series sets \n",
    "longer_ts = pd.Series(np.random.randn(1000), index=pd.date_range('1/1/2000', periods=1000))\n",
    "longer_ts.tail()"
   ]
  },
  {
   "cell_type": "code",
   "execution_count": 28,
   "metadata": {},
   "outputs": [
    {
     "data": {
      "text/plain": [
       "2001-12-27    1.400298\n",
       "2001-12-28    0.590972\n",
       "2001-12-29    0.281058\n",
       "2001-12-30    1.065767\n",
       "2001-12-31   -0.380578\n",
       "Freq: D, dtype: float64"
      ]
     },
     "execution_count": 28,
     "metadata": {},
     "output_type": "execute_result"
    }
   ],
   "source": [
    "longer_ts['2001'].tail()"
   ]
  },
  {
   "cell_type": "code",
   "execution_count": 30,
   "metadata": {},
   "outputs": [
    {
     "data": {
      "text/plain": [
       "2002-05-27   -1.366162\n",
       "2002-05-28    1.653971\n",
       "2002-05-29    0.288634\n",
       "2002-05-30    1.218602\n",
       "2002-05-31   -0.278151\n",
       "Freq: D, dtype: float64"
      ]
     },
     "execution_count": 30,
     "metadata": {},
     "output_type": "execute_result"
    }
   ],
   "source": [
    "longer_ts['2002-05'].tail()"
   ]
  },
  {
   "cell_type": "code",
   "execution_count": 32,
   "metadata": {},
   "outputs": [
    {
     "data": {
      "text/plain": [
       "2011-01-02    0.495205\n",
       "2011-01-05   -0.269290\n",
       "2011-01-07    0.856273\n",
       "2011-01-08   -0.707436\n",
       "2011-01-10    0.942841\n",
       "2011-01-12   -0.609319\n",
       "dtype: float64"
      ]
     },
     "execution_count": 32,
     "metadata": {},
     "output_type": "execute_result"
    }
   ],
   "source": [
    "ts[datetime(2009, 5, 5):]"
   ]
  },
  {
   "cell_type": "code",
   "execution_count": 47,
   "metadata": {},
   "outputs": [
    {
     "data": {
      "text/plain": [
       "2011-01-07    0.856273\n",
       "2011-01-08   -0.707436\n",
       "2011-01-10    0.942841\n",
       "dtype: float64"
      ]
     },
     "execution_count": 47,
     "metadata": {},
     "output_type": "execute_result"
    }
   ],
   "source": [
    "ts['1/6/2011':'1/11/2011']"
   ]
  },
  {
   "cell_type": "code",
   "execution_count": 48,
   "metadata": {},
   "outputs": [
    {
     "data": {
      "text/plain": [
       "2011-01-02    0.495205\n",
       "2011-01-05   -0.269290\n",
       "2011-01-07    0.856273\n",
       "2011-01-08   -0.707436\n",
       "dtype: float64"
      ]
     },
     "execution_count": 48,
     "metadata": {},
     "output_type": "execute_result"
    }
   ],
   "source": [
    "ts.truncate(after='1/9/2011')"
   ]
  },
  {
   "cell_type": "markdown",
   "metadata": {},
   "source": [
    "## Time Series with Duplicate Indices"
   ]
  },
  {
   "cell_type": "code",
   "execution_count": 53,
   "metadata": {},
   "outputs": [
    {
     "data": {
      "text/plain": [
       "2002-01-01    0.338043\n",
       "2002-01-02    0.420432\n",
       "2002-01-03    1.040398\n",
       "2002-01-02    0.015719\n",
       "2002-01-02    0.919147\n",
       "dtype: float64"
      ]
     },
     "execution_count": 53,
     "metadata": {},
     "output_type": "execute_result"
    }
   ],
   "source": [
    "dates = pd.DatetimeIndex(['1/1/2002', '1/2/2002', '1/3/2002', '1/2/2002', '1/2/2002' ])\n",
    "dup_ts = pd.Series(np.random.randn(5), index=dates)\n",
    "dup_ts"
   ]
  },
  {
   "cell_type": "code",
   "execution_count": 55,
   "metadata": {},
   "outputs": [
    {
     "data": {
      "text/plain": [
       "DatetimeIndex(['2002-01-01', '2002-01-02', '2002-01-03'], dtype='datetime64[ns]', freq=None)"
      ]
     },
     "execution_count": 55,
     "metadata": {},
     "output_type": "execute_result"
    }
   ],
   "source": [
    "dup_ts.index.unique()"
   ]
  },
  {
   "cell_type": "code",
   "execution_count": 59,
   "metadata": {},
   "outputs": [
    {
     "data": {
      "text/plain": [
       "2002-01-01    0.338043\n",
       "2002-01-02    0.451766\n",
       "2002-01-03    1.040398\n",
       "dtype: float64"
      ]
     },
     "execution_count": 59,
     "metadata": {},
     "output_type": "execute_result"
    }
   ],
   "source": [
    "# suppose you wanted to group non-unique dates\n",
    "non_unique = dup_ts.groupby(level=0)\n",
    "non_unique.mean()"
   ]
  },
  {
   "cell_type": "code",
   "execution_count": 60,
   "metadata": {},
   "outputs": [
    {
     "data": {
      "text/plain": [
       "2002-01-01    1\n",
       "2002-01-02    3\n",
       "2002-01-03    1\n",
       "dtype: int64"
      ]
     },
     "execution_count": 60,
     "metadata": {},
     "output_type": "execute_result"
    }
   ],
   "source": [
    "non_unique.count()"
   ]
  },
  {
   "cell_type": "markdown",
   "metadata": {},
   "source": [
    "## Date Ranges Frequencies and shifting  \n",
    "often you time series may have non-uniform date ranges. For most purposes this is fine but should you whish to have equidistant dates you may whish to use the following"
   ]
  },
  {
   "cell_type": "code",
   "execution_count": 61,
   "metadata": {},
   "outputs": [
    {
     "data": {
      "text/plain": [
       "2011-01-02    0.495205\n",
       "2011-01-05   -0.269290\n",
       "2011-01-07    0.856273\n",
       "2011-01-08   -0.707436\n",
       "2011-01-10    0.942841\n",
       "2011-01-12   -0.609319\n",
       "dtype: float64"
      ]
     },
     "execution_count": 61,
     "metadata": {},
     "output_type": "execute_result"
    }
   ],
   "source": [
    "ts"
   ]
  },
  {
   "cell_type": "code",
   "execution_count": 66,
   "metadata": {},
   "outputs": [
    {
     "data": {
      "text/plain": [
       "2011-01-02    0.495205\n",
       "2011-01-03         NaN\n",
       "2011-01-04         NaN\n",
       "2011-01-05   -0.269290\n",
       "2011-01-06         NaN\n",
       "2011-01-07    0.856273\n",
       "2011-01-08   -0.707436\n",
       "2011-01-09         NaN\n",
       "2011-01-10    0.942841\n",
       "2011-01-11         NaN\n",
       "2011-01-12   -0.609319\n",
       "Freq: D, dtype: float64"
      ]
     },
     "execution_count": 66,
     "metadata": {},
     "output_type": "execute_result"
    }
   ],
   "source": [
    "resampler = ts.resample('D') #D for daily\n",
    "resampler.mean()"
   ]
  },
  {
   "cell_type": "code",
   "execution_count": 68,
   "metadata": {},
   "outputs": [
    {
     "data": {
      "text/plain": [
       "DatetimeIndex(['2009-04-01', '2009-04-02', '2009-04-03', '2009-04-04',\n",
       "               '2009-04-05', '2009-04-06', '2009-04-07', '2009-04-08',\n",
       "               '2009-04-09', '2009-04-10', '2009-04-11', '2009-04-12',\n",
       "               '2009-04-13', '2009-04-14', '2009-04-15', '2009-04-16',\n",
       "               '2009-04-17', '2009-04-18', '2009-04-19', '2009-04-20',\n",
       "               '2009-04-21', '2009-04-22', '2009-04-23', '2009-04-24',\n",
       "               '2009-04-25', '2009-04-26', '2009-04-27', '2009-04-28',\n",
       "               '2009-04-29', '2009-04-30', '2009-05-01'],\n",
       "              dtype='datetime64[ns]', freq='D')"
      ]
     },
     "execution_count": 68,
     "metadata": {},
     "output_type": "execute_result"
    }
   ],
   "source": [
    "index = pd.date_range('2009-04-01', '2009-05-01')\n",
    "index"
   ]
  },
  {
   "cell_type": "code",
   "execution_count": 72,
   "metadata": {},
   "outputs": [],
   "source": [
    "index2 = pd.date_range(start='1998-12-28', periods=365) #can also used 'end' as arg\n",
    "# should you have wanted a index that just referenced the last business day of the month\n",
    "index2 = pd.date_range(start='1998-12-28', end='2020-12-28', freq='BM') # 'BM' for business month"
   ]
  },
  {
   "cell_type": "markdown",
   "metadata": {},
   "source": [
    "### Base time series frequencies \n",
    "D -- Day   \n",
    "B -- BusinessDay   \n",
    "H -- Hour  \n",
    "T/min -- Minute   \n",
    "S -- Second  \n",
    "L/ms -- milli  \n",
    "U -- Micro  \n",
    "M -- MonthEnd  \n",
    "BM -- BusinessMonthEnd  \n",
    "MS -- MonthBegin  \n",
    "BMS -- BusinessMonthBegin   \n",
    "W-MON, W-TUE -- Week    \n",
    "WOM-1MON/WOM-2MON -- Generates dates in first/second/third/fourth week of the month.    \n",
    "Q-JAN/Q-FEB -- Quater end anchord on last calendar name of each month  \n",
    "BQ-JAN/BQ-FEB -- Business Quater End. Quaterly dates anchored on last weekday of each month  \n",
    "QS-JAN/QS-FEB -- Quaterly dates anchored on first calendar day of each month.    \n",
    "BQS-JAN/BQS-FEB -- Quarterly dates anchored onf irst weekday of each mont, for year ending in indicated month.   \n",
    "A-JAN/A-FEB -- Annual dates anchored on last calendar day of given month   \n",
    "BA-JAN/BA-FEB -- Annual dates anchored on last weekday of given month   \n",
    "AS-JAN/AS-FEB -- Annual dates anchored on first daty of given month  \n",
    "BAS-JAN/BAS-FEB -- Annual dates anchored on frist weekday of given month.  \n"
   ]
  },
  {
   "cell_type": "code",
   "execution_count": 73,
   "metadata": {},
   "outputs": [
    {
     "data": {
      "text/plain": [
       "DatetimeIndex(['2001-11-23 12:56:31', '2001-11-24 12:56:31',\n",
       "               '2001-11-25 12:56:31', '2001-11-26 12:56:31',\n",
       "               '2001-11-27 12:56:31'],\n",
       "              dtype='datetime64[ns]', freq='D')"
      ]
     },
     "execution_count": 73,
     "metadata": {},
     "output_type": "execute_result"
    }
   ],
   "source": [
    "pd.date_range('2001-11-23 12:56:31', periods=5)"
   ]
  },
  {
   "cell_type": "code",
   "execution_count": 74,
   "metadata": {},
   "outputs": [
    {
     "data": {
      "text/plain": [
       "DatetimeIndex(['2001-11-23', '2001-11-24', '2001-11-25', '2001-11-26',\n",
       "               '2001-11-27'],\n",
       "              dtype='datetime64[ns]', freq='D')"
      ]
     },
     "execution_count": 74,
     "metadata": {},
     "output_type": "execute_result"
    }
   ],
   "source": [
    "pd.date_range('2001-11-23 12:56:31', periods=5, normalize=True) #should you want to normalise them to midnight "
   ]
  },
  {
   "cell_type": "markdown",
   "metadata": {},
   "source": [
    "## Shifting Data\n",
    "moving information around by shifting date"
   ]
  },
  {
   "cell_type": "code",
   "execution_count": 87,
   "metadata": {},
   "outputs": [
    {
     "data": {
      "text/plain": [
       "1998-12-05    0.800759\n",
       "1998-12-06    0.549604\n",
       "1998-12-07    0.309382\n",
       "1998-12-08    0.343953\n",
       "1998-12-09    0.609053\n",
       "1998-12-10    1.144723\n",
       "Freq: D, dtype: float64"
      ]
     },
     "execution_count": 87,
     "metadata": {},
     "output_type": "execute_result"
    }
   ],
   "source": [
    "dates = pd.date_range('1998-12-05', periods = 6)\n",
    "ts = pd.Series(np.random.randn(6), index=dates)\n",
    "ts"
   ]
  },
  {
   "cell_type": "code",
   "execution_count": 88,
   "metadata": {},
   "outputs": [
    {
     "data": {
      "text/plain": [
       "1998-12-05         NaN\n",
       "1998-12-06         NaN\n",
       "1998-12-07         NaN\n",
       "1998-12-08    0.800759\n",
       "1998-12-09    0.549604\n",
       "1998-12-10    0.309382\n",
       "Freq: D, dtype: float64"
      ]
     },
     "execution_count": 88,
     "metadata": {},
     "output_type": "execute_result"
    }
   ],
   "source": [
    "ts.shift(3)"
   ]
  },
  {
   "cell_type": "code",
   "execution_count": 89,
   "metadata": {},
   "outputs": [
    {
     "data": {
      "text/plain": [
       "1998-12-05    0.309382\n",
       "1998-12-06    0.343953\n",
       "1998-12-07    0.609053\n",
       "1998-12-08    1.144723\n",
       "1998-12-09         NaN\n",
       "1998-12-10         NaN\n",
       "Freq: D, dtype: float64"
      ]
     },
     "execution_count": 89,
     "metadata": {},
     "output_type": "execute_result"
    }
   ],
   "source": [
    "ts.shift(-2) "
   ]
  },
  {
   "cell_type": "code",
   "execution_count": 92,
   "metadata": {},
   "outputs": [
    {
     "data": {
      "text/plain": [
       "1998-12-05 00:01:30    0.800759\n",
       "1998-12-06 00:01:30    0.549604\n",
       "1998-12-07 00:01:30    0.309382\n",
       "1998-12-08 00:01:30    0.343953\n",
       "1998-12-09 00:01:30    0.609053\n",
       "1998-12-10 00:01:30    1.144723\n",
       "Freq: D, dtype: float64"
      ]
     },
     "execution_count": 92,
     "metadata": {},
     "output_type": "execute_result"
    }
   ],
   "source": [
    "ts.shift(1, freq='90S')"
   ]
  },
  {
   "cell_type": "markdown",
   "metadata": {},
   "source": [
    "# Time Zone Handling\n",
    "working with time zones is considered to be a pain. As a result many time series used choose to with with UTC, the succsesor to GMT. IT is the current international standard. Time zones are expressed as offsets from UTC. In python, time zone information comes from pytz lirary. You can install it with pip or conda. pandas wraps pytz's functionalty so you can ignore its API outside of the time zone names. Time zone names can be found interactively and in the docs. "
   ]
  },
  {
   "cell_type": "code",
   "execution_count": 93,
   "metadata": {},
   "outputs": [
    {
     "data": {
      "text/plain": [
       "['US/Eastern', 'US/Hawaii', 'US/Mountain', 'US/Pacific', 'UTC']"
      ]
     },
     "execution_count": 93,
     "metadata": {},
     "output_type": "execute_result"
    }
   ],
   "source": [
    "import pytz \n",
    "pytz.common_timezones[-5:]"
   ]
  },
  {
   "cell_type": "code",
   "execution_count": 95,
   "metadata": {},
   "outputs": [
    {
     "data": {
      "text/plain": [
       "<DstTzInfo 'America/New_York' LMT-1 day, 19:04:00 STD>"
      ]
     },
     "execution_count": 95,
     "metadata": {},
     "output_type": "execute_result"
    }
   ],
   "source": [
    "# To get a time zone object from pytz, use pytz.timezone\n",
    "tz = pytz.timezone('America/New_York')\n",
    "tz"
   ]
  },
  {
   "cell_type": "markdown",
   "metadata": {},
   "source": [
    "## Time Zone Localization and Conversion\n",
    "By default, Time series in pandas are time zone naive. For example, consider the following time series"
   ]
  },
  {
   "cell_type": "code",
   "execution_count": 99,
   "metadata": {},
   "outputs": [
    {
     "data": {
      "text/plain": [
       "DatetimeIndex(['2012-03-09 09:20:00', '2012-03-10 09:20:00',\n",
       "               '2012-03-11 09:20:00', '2012-03-12 09:20:00',\n",
       "               '2012-03-13 09:20:00', '2012-03-14 09:20:00',\n",
       "               '2012-03-15 09:20:00'],\n",
       "              dtype='datetime64[ns]', freq='D')"
      ]
     },
     "execution_count": 99,
     "metadata": {},
     "output_type": "execute_result"
    }
   ],
   "source": [
    "rng = pd.date_range('3/9/2012 9:20', periods=7, freq='D')\n",
    "rng"
   ]
  },
  {
   "cell_type": "code",
   "execution_count": 103,
   "metadata": {},
   "outputs": [
    {
     "data": {
      "text/plain": [
       "2012-03-09 09:20:00    0.625552\n",
       "2012-03-10 09:20:00    0.098082\n",
       "2012-03-11 09:20:00    1.700966\n",
       "2012-03-12 09:20:00    1.195476\n",
       "2012-03-13 09:20:00   -0.120678\n",
       "2012-03-14 09:20:00   -0.109268\n",
       "2012-03-15 09:20:00    1.063441\n",
       "Freq: D, dtype: float64"
      ]
     },
     "execution_count": 103,
     "metadata": {},
     "output_type": "execute_result"
    }
   ],
   "source": [
    "ts = pd.Series(np.random.randn(len(rng)), index=rng)\n",
    "ts"
   ]
  },
  {
   "cell_type": "code",
   "execution_count": 105,
   "metadata": {},
   "outputs": [
    {
     "name": "stdout",
     "output_type": "stream",
     "text": [
      "None\n"
     ]
    }
   ],
   "source": [
    "print(ts.index.tz) # Shows the series does not have an associated timezone"
   ]
  },
  {
   "cell_type": "code",
   "execution_count": 107,
   "metadata": {},
   "outputs": [
    {
     "data": {
      "text/plain": [
       "DatetimeIndex(['2012-03-09 09:30:00+00:00', '2012-03-10 09:30:00+00:00',\n",
       "               '2012-03-11 09:30:00+00:00', '2012-03-12 09:30:00+00:00',\n",
       "               '2012-03-13 09:30:00+00:00', '2012-03-14 09:30:00+00:00',\n",
       "               '2012-03-15 09:30:00+00:00', '2012-03-16 09:30:00+00:00',\n",
       "               '2012-03-17 09:30:00+00:00', '2012-03-18 09:30:00+00:00'],\n",
       "              dtype='datetime64[ns, UTC]', freq='D')"
      ]
     },
     "execution_count": 107,
     "metadata": {},
     "output_type": "execute_result"
    }
   ],
   "source": [
    "pd.date_range('3/9/2012 9:30', periods=10, freq='D', tz='UTC') #can pass a series a timezone"
   ]
  },
  {
   "cell_type": "code",
   "execution_count": 112,
   "metadata": {},
   "outputs": [
    {
     "data": {
      "text/plain": [
       "2012-03-09 09:20:00+00:00    0.625552\n",
       "2012-03-10 09:20:00+00:00    0.098082\n",
       "2012-03-11 09:20:00+00:00    1.700966\n",
       "2012-03-12 09:20:00+00:00    1.195476\n",
       "2012-03-13 09:20:00+00:00   -0.120678\n",
       "2012-03-14 09:20:00+00:00   -0.109268\n",
       "2012-03-15 09:20:00+00:00    1.063441\n",
       "Freq: D, dtype: float64"
      ]
     },
     "execution_count": 112,
     "metadata": {},
     "output_type": "execute_result"
    }
   ],
   "source": [
    "ts_utc = ts.tz_localize('UTC') #localises time series to UTC \n",
    "ts_utc"
   ]
  },
  {
   "cell_type": "code",
   "execution_count": 113,
   "metadata": {},
   "outputs": [
    {
     "data": {
      "text/plain": [
       "DatetimeIndex(['2012-03-09 09:20:00+00:00', '2012-03-10 09:20:00+00:00',\n",
       "               '2012-03-11 09:20:00+00:00', '2012-03-12 09:20:00+00:00',\n",
       "               '2012-03-13 09:20:00+00:00', '2012-03-14 09:20:00+00:00',\n",
       "               '2012-03-15 09:20:00+00:00'],\n",
       "              dtype='datetime64[ns, UTC]', freq='D')"
      ]
     },
     "execution_count": 113,
     "metadata": {},
     "output_type": "execute_result"
    }
   ],
   "source": [
    "ts_utc.index"
   ]
  },
  {
   "cell_type": "code",
   "execution_count": 114,
   "metadata": {},
   "outputs": [
    {
     "data": {
      "text/plain": [
       "2012-03-09 04:20:00-05:00    0.625552\n",
       "2012-03-10 04:20:00-05:00    0.098082\n",
       "2012-03-11 05:20:00-04:00    1.700966\n",
       "2012-03-12 05:20:00-04:00    1.195476\n",
       "2012-03-13 05:20:00-04:00   -0.120678\n",
       "2012-03-14 05:20:00-04:00   -0.109268\n",
       "2012-03-15 05:20:00-04:00    1.063441\n",
       "Freq: D, dtype: float64"
      ]
     },
     "execution_count": 114,
     "metadata": {},
     "output_type": "execute_result"
    }
   ],
   "source": [
    "ts_utc.tz_convert('America/New_York') # converts it to another time zone"
   ]
  },
  {
   "cell_type": "code",
   "execution_count": 119,
   "metadata": {},
   "outputs": [
    {
     "data": {
      "text/plain": [
       "2012-03-09 14:20:00+00:00    0.625552\n",
       "2012-03-10 14:20:00+00:00    0.098082\n",
       "2012-03-11 13:20:00+00:00    1.700966\n",
       "2012-03-12 13:20:00+00:00    1.195476\n",
       "2012-03-13 13:20:00+00:00   -0.120678\n",
       "2012-03-14 13:20:00+00:00   -0.109268\n",
       "2012-03-15 13:20:00+00:00    1.063441\n",
       "Freq: D, dtype: float64"
      ]
     },
     "execution_count": 119,
     "metadata": {},
     "output_type": "execute_result"
    }
   ],
   "source": [
    "ts_eastern = ts.tz_localize('America/New_York') #localise to America/New_York\n",
    "ts_eastern.tz_convert('UTC') #Converts to UTC"
   ]
  },
  {
   "cell_type": "code",
   "execution_count": 120,
   "metadata": {},
   "outputs": [
    {
     "data": {
      "text/plain": [
       "2012-03-09 15:20:00+01:00    0.625552\n",
       "2012-03-10 15:20:00+01:00    0.098082\n",
       "2012-03-11 14:20:00+01:00    1.700966\n",
       "2012-03-12 14:20:00+01:00    1.195476\n",
       "2012-03-13 14:20:00+01:00   -0.120678\n",
       "2012-03-14 14:20:00+01:00   -0.109268\n",
       "2012-03-15 14:20:00+01:00    1.063441\n",
       "Freq: D, dtype: float64"
      ]
     },
     "execution_count": 120,
     "metadata": {},
     "output_type": "execute_result"
    }
   ],
   "source": [
    "ts_eastern.tz_convert('Europe/Berlin')"
   ]
  },
  {
   "cell_type": "code",
   "execution_count": null,
   "metadata": {},
   "outputs": [],
   "source": [
    " "
   ]
  }
 ],
 "metadata": {
  "kernelspec": {
   "display_name": "Python 2",
   "language": "python",
   "name": "python2"
  },
  "language_info": {
   "codemirror_mode": {
    "name": "ipython",
    "version": 2
   },
   "file_extension": ".py",
   "mimetype": "text/x-python",
   "name": "python",
   "nbconvert_exporter": "python",
   "pygments_lexer": "ipython2",
   "version": "2.7.16"
  }
 },
 "nbformat": 4,
 "nbformat_minor": 2
}
