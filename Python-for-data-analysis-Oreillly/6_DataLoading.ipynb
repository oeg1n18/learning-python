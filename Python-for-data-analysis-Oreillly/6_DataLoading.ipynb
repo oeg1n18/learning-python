{
 "metadata": {
  "language_info": {
   "codemirror_mode": {
    "name": "ipython",
    "version": 3
   },
   "file_extension": ".py",
   "mimetype": "text/x-python",
   "name": "python",
   "nbconvert_exporter": "python",
   "pygments_lexer": "ipython3",
   "version": 3
  },
  "orig_nbformat": 2,
  "kernelspec": {
   "name": "python_defaultSpec_1595421819132",
   "display_name": "Python 3.8.3 64-bit"
  }
 },
 "nbformat": 4,
 "nbformat_minor": 2,
 "cells": [
  {
   "cell_type": "markdown",
   "metadata": {},
   "source": [
    "# Data Loading, Storage, and File Formats\n",
    "functions for reading tabular data into a dataframe \n",
    ".  \n",
    ".  \n",
    "read_csv -- Load data from a file, URL, or file-like object; use comma as default delimiter  \n",
    "read_fwf -- Read data in fixed-width column format   \n",
    "read_clipboard -- Version of read_csv that reads data from the clipboard; useful for converiting tables from web pages  \n",
    "read_excel -- read tabular data from an XLS or XLSX file   \n",
    "read_hdf -- Read HDF5 files written by pandas  \n",
    "read_html -- Read all tables found in the given HTML documnet   \n",
    "read_json -- Read data from a JSON string representation   \n",
    "read_msgpack -- Read pandas data encoded using the MessagePack binary format    \n",
    "read_pickle -- Read an arbitrary object stored in Python pickle format   \n",
    "read_sas -- Read a SAS dataset stored in one of the SAS system's custom storage Formats  \n",
    "read_sql -- Read the results of a SQL query as a pandas DataFrame   \n",
    "read_stata -- Read a dataset from stata file format   \n",
    "read_feather -- Read the Feather binary file format  "
   ]
  },
  {
   "cell_type": "code",
   "execution_count": 347,
   "metadata": {},
   "outputs": [
    {
     "output_type": "execute_result",
     "data": {
      "text/plain": "   a   b   c   d message\n0  1   2   3   4   hello\n1  5   6   7   8   world\n2  9  10  11  12     foo",
      "text/html": "<div>\n<style scoped>\n    .dataframe tbody tr th:only-of-type {\n        vertical-align: middle;\n    }\n\n    .dataframe tbody tr th {\n        vertical-align: top;\n    }\n\n    .dataframe thead th {\n        text-align: right;\n    }\n</style>\n<table border=\"1\" class=\"dataframe\">\n  <thead>\n    <tr style=\"text-align: right;\">\n      <th></th>\n      <th>a</th>\n      <th>b</th>\n      <th>c</th>\n      <th>d</th>\n      <th>message</th>\n    </tr>\n  </thead>\n  <tbody>\n    <tr>\n      <th>0</th>\n      <td>1</td>\n      <td>2</td>\n      <td>3</td>\n      <td>4</td>\n      <td>hello</td>\n    </tr>\n    <tr>\n      <th>1</th>\n      <td>5</td>\n      <td>6</td>\n      <td>7</td>\n      <td>8</td>\n      <td>world</td>\n    </tr>\n    <tr>\n      <th>2</th>\n      <td>9</td>\n      <td>10</td>\n      <td>11</td>\n      <td>12</td>\n      <td>foo</td>\n    </tr>\n  </tbody>\n</table>\n</div>"
     },
     "metadata": {},
     "execution_count": 347
    }
   ],
   "source": [
    "import pandas as pd\n",
    "df = pd.read_csv('exampledata/ex1.csv')\n",
    "df"
   ]
  },
  {
   "cell_type": "markdown",
   "metadata": {},
   "source": [
    "A file will not always have a header row. You can load a dataframe without a header "
   ]
  },
  {
   "cell_type": "code",
   "execution_count": 348,
   "metadata": {},
   "outputs": [
    {
     "output_type": "execute_result",
     "data": {
      "text/plain": "   0   1   2   3        4\n0  a   b   c   d  message\n1  1   2   3   4    hello\n2  5   6   7   8    world\n3  9  10  11  12      foo",
      "text/html": "<div>\n<style scoped>\n    .dataframe tbody tr th:only-of-type {\n        vertical-align: middle;\n    }\n\n    .dataframe tbody tr th {\n        vertical-align: top;\n    }\n\n    .dataframe thead th {\n        text-align: right;\n    }\n</style>\n<table border=\"1\" class=\"dataframe\">\n  <thead>\n    <tr style=\"text-align: right;\">\n      <th></th>\n      <th>0</th>\n      <th>1</th>\n      <th>2</th>\n      <th>3</th>\n      <th>4</th>\n    </tr>\n  </thead>\n  <tbody>\n    <tr>\n      <th>0</th>\n      <td>a</td>\n      <td>b</td>\n      <td>c</td>\n      <td>d</td>\n      <td>message</td>\n    </tr>\n    <tr>\n      <th>1</th>\n      <td>1</td>\n      <td>2</td>\n      <td>3</td>\n      <td>4</td>\n      <td>hello</td>\n    </tr>\n    <tr>\n      <th>2</th>\n      <td>5</td>\n      <td>6</td>\n      <td>7</td>\n      <td>8</td>\n      <td>world</td>\n    </tr>\n    <tr>\n      <th>3</th>\n      <td>9</td>\n      <td>10</td>\n      <td>11</td>\n      <td>12</td>\n      <td>foo</td>\n    </tr>\n  </tbody>\n</table>\n</div>"
     },
     "metadata": {},
     "execution_count": 348
    }
   ],
   "source": [
    "df = pd.read_csv('exampledata/ex1.csv', header=None)\n",
    "df"
   ]
  },
  {
   "cell_type": "markdown",
   "metadata": {},
   "source": [
    "to specify the header yourself you can use the following code "
   ]
  },
  {
   "cell_type": "code",
   "execution_count": 349,
   "metadata": {},
   "outputs": [
    {
     "output_type": "execute_result",
     "data": {
      "text/plain": "   a   b   c   d  message\n0  a   b   c   d  message\n1  1   2   3   4    hello\n2  5   6   7   8    world\n3  9  10  11  12      foo",
      "text/html": "<div>\n<style scoped>\n    .dataframe tbody tr th:only-of-type {\n        vertical-align: middle;\n    }\n\n    .dataframe tbody tr th {\n        vertical-align: top;\n    }\n\n    .dataframe thead th {\n        text-align: right;\n    }\n</style>\n<table border=\"1\" class=\"dataframe\">\n  <thead>\n    <tr style=\"text-align: right;\">\n      <th></th>\n      <th>a</th>\n      <th>b</th>\n      <th>c</th>\n      <th>d</th>\n      <th>message</th>\n    </tr>\n  </thead>\n  <tbody>\n    <tr>\n      <th>0</th>\n      <td>a</td>\n      <td>b</td>\n      <td>c</td>\n      <td>d</td>\n      <td>message</td>\n    </tr>\n    <tr>\n      <th>1</th>\n      <td>1</td>\n      <td>2</td>\n      <td>3</td>\n      <td>4</td>\n      <td>hello</td>\n    </tr>\n    <tr>\n      <th>2</th>\n      <td>5</td>\n      <td>6</td>\n      <td>7</td>\n      <td>8</td>\n      <td>world</td>\n    </tr>\n    <tr>\n      <th>3</th>\n      <td>9</td>\n      <td>10</td>\n      <td>11</td>\n      <td>12</td>\n      <td>foo</td>\n    </tr>\n  </tbody>\n</table>\n</div>"
     },
     "metadata": {},
     "execution_count": 349
    }
   ],
   "source": [
    "df2 = pd.read_csv('exampledata/ex1.csv', names=['a', 'b', 'c', 'd', 'message'])\n",
    "df2"
   ]
  },
  {
   "cell_type": "markdown",
   "metadata": {},
   "source": [
    "Suppose you wanted a column to be the index. "
   ]
  },
  {
   "cell_type": "code",
   "execution_count": 350,
   "metadata": {},
   "outputs": [
    {
     "output_type": "execute_result",
     "data": {
      "text/plain": "         a   b   c   d\nmessage               \nhello    1   2   3   4\nworld    5   6   7   8\nfoo      9  10  11  12",
      "text/html": "<div>\n<style scoped>\n    .dataframe tbody tr th:only-of-type {\n        vertical-align: middle;\n    }\n\n    .dataframe tbody tr th {\n        vertical-align: top;\n    }\n\n    .dataframe thead th {\n        text-align: right;\n    }\n</style>\n<table border=\"1\" class=\"dataframe\">\n  <thead>\n    <tr style=\"text-align: right;\">\n      <th></th>\n      <th>a</th>\n      <th>b</th>\n      <th>c</th>\n      <th>d</th>\n    </tr>\n    <tr>\n      <th>message</th>\n      <th></th>\n      <th></th>\n      <th></th>\n      <th></th>\n    </tr>\n  </thead>\n  <tbody>\n    <tr>\n      <th>hello</th>\n      <td>1</td>\n      <td>2</td>\n      <td>3</td>\n      <td>4</td>\n    </tr>\n    <tr>\n      <th>world</th>\n      <td>5</td>\n      <td>6</td>\n      <td>7</td>\n      <td>8</td>\n    </tr>\n    <tr>\n      <th>foo</th>\n      <td>9</td>\n      <td>10</td>\n      <td>11</td>\n      <td>12</td>\n    </tr>\n  </tbody>\n</table>\n</div>"
     },
     "metadata": {},
     "execution_count": 350
    }
   ],
   "source": [
    "df = pd.read_csv('exampledata/ex1.csv', index_col='message')\n",
    "df"
   ]
  },
  {
   "cell_type": "code",
   "execution_count": 32,
   "metadata": {},
   "outputs": [
    {
     "output_type": "execute_result",
     "data": {
      "text/plain": "message\nhello     2\nworld     6\nfoo      10\nName: b, dtype: int64"
     },
     "metadata": {},
     "execution_count": 32
    }
   ],
   "source": []
  },
  {
   "cell_type": "markdown",
   "metadata": {},
   "source": [
    "should your data file represent missing cells in a certain way e.g. Na, missing, Nan you can specify this to pandas and it   \n",
    "will replace it with its own missing format. \n"
   ]
  },
  {
   "cell_type": "code",
   "execution_count": 351,
   "metadata": {},
   "outputs": [],
   "source": [
    "result = pd.read_csv('exampledata/ex1.csv', na_values=['Null']) #pandas will replace the missing value with its own sentinel NaN"
   ]
  },
  {
   "cell_type": "markdown",
   "metadata": {},
   "source": [
    "## Some Read CSV functions \n",
    "path -- String indicating filesystem location, URL, or file-like object   \n",
    "sep or delimiter -- Character sequence or regular expression to use to split fields in each row  \n",
    "header -- Row number to use as column names; defaults to 0 (frist row), but should be None if there is no header row \n",
    "index_col -- Column number or names to use as the row index in the result; can be a single name/nmber or a list of them for a hierachical index   \n",
    "names -- List of column names for result, combine with header=None\n",
    "skiprows -- Number of rows at beginning of file to ignore or list of row numbers to skip. \n",
    "na_values -- Sequence of values to replace with na_valuescomment -- Characters to split comments of the end of lines. \n",
    "parse_dates -- Attempt to parse data to datetime; False by default. If True, will attempt to parse all columns, Otherwise can specify a list of column numbers or name to parse. If  \n",
    "               element of list is tuple or list, will combine multiple columns together and parse to date \n",
    "dayfirst -- When parsing potentially ambiguous dates, treat as international format, False by default  \n",
    "nrows -- Number of rows to read from beginning of file\n",
    "iterator -- Return a TextParser object for reading file piecemeal  \n",
    "chinksize -- for iteration, size of file chunks   \n",
    "skip_footer -- number of lines to ignore at end of file   \n",
    ".  \n",
    ".  \n",
    ".  \n",
    ".  \n",
    "# Reading Text Files in Pieces\n",
    "            "
   ]
  },
  {
   "cell_type": "code",
   "execution_count": 352,
   "metadata": {},
   "outputs": [
    {
     "output_type": "execute_result",
     "data": {
      "text/plain": "   Sell   \"List\"   \"Living\"   \"Rooms\"   \"Beds\"   \"Baths\"   \"Age\"   \"Acres\"  \\\n0   142      160         28        10        5         3      60      0.28   \n1   175      180         18         8        4         1      12      0.43   \n2   129      132         13         6        3         1      41      0.33   \n3   138      140         17         7        3         1      22      0.46   \n4   232      240         25         8        4         3       5      2.05   \n\n    \"Taxes\"  \n0      3167  \n1      4033  \n2      1471  \n3      3204  \n4      3613  ",
      "text/html": "<div>\n<style scoped>\n    .dataframe tbody tr th:only-of-type {\n        vertical-align: middle;\n    }\n\n    .dataframe tbody tr th {\n        vertical-align: top;\n    }\n\n    .dataframe thead th {\n        text-align: right;\n    }\n</style>\n<table border=\"1\" class=\"dataframe\">\n  <thead>\n    <tr style=\"text-align: right;\">\n      <th></th>\n      <th>Sell</th>\n      <th>\"List\"</th>\n      <th>\"Living\"</th>\n      <th>\"Rooms\"</th>\n      <th>\"Beds\"</th>\n      <th>\"Baths\"</th>\n      <th>\"Age\"</th>\n      <th>\"Acres\"</th>\n      <th>\"Taxes\"</th>\n    </tr>\n  </thead>\n  <tbody>\n    <tr>\n      <th>0</th>\n      <td>142</td>\n      <td>160</td>\n      <td>28</td>\n      <td>10</td>\n      <td>5</td>\n      <td>3</td>\n      <td>60</td>\n      <td>0.28</td>\n      <td>3167</td>\n    </tr>\n    <tr>\n      <th>1</th>\n      <td>175</td>\n      <td>180</td>\n      <td>18</td>\n      <td>8</td>\n      <td>4</td>\n      <td>1</td>\n      <td>12</td>\n      <td>0.43</td>\n      <td>4033</td>\n    </tr>\n    <tr>\n      <th>2</th>\n      <td>129</td>\n      <td>132</td>\n      <td>13</td>\n      <td>6</td>\n      <td>3</td>\n      <td>1</td>\n      <td>41</td>\n      <td>0.33</td>\n      <td>1471</td>\n    </tr>\n    <tr>\n      <th>3</th>\n      <td>138</td>\n      <td>140</td>\n      <td>17</td>\n      <td>7</td>\n      <td>3</td>\n      <td>1</td>\n      <td>22</td>\n      <td>0.46</td>\n      <td>3204</td>\n    </tr>\n    <tr>\n      <th>4</th>\n      <td>232</td>\n      <td>240</td>\n      <td>25</td>\n      <td>8</td>\n      <td>4</td>\n      <td>3</td>\n      <td>5</td>\n      <td>2.05</td>\n      <td>3613</td>\n    </tr>\n  </tbody>\n</table>\n</div>"
     },
     "metadata": {},
     "execution_count": 352
    }
   ],
   "source": [
    "pd.read_csv('exampledata/homes.csv', nrows=5) #reads just 5 rows "
   ]
  },
  {
   "cell_type": "code",
   "execution_count": 353,
   "metadata": {
    "tags": []
   },
   "outputs": [
    {
     "output_type": "execute_result",
     "data": {
      "text/plain": "<pandas.io.parsers.TextFileReader at 0x1f228bcc8e0>"
     },
     "metadata": {},
     "execution_count": 353
    }
   ],
   "source": [
    "# to read in a number of chunks \n",
    "chunker = pd.read_csv('exampledata/homes.csv', chunksize=10) # Specifies the number of rows per chunk\n",
    "chunker"
   ]
  },
  {
   "cell_type": "code",
   "execution_count": 354,
   "metadata": {
    "tags": []
   },
   "outputs": [
    {
     "output_type": "execute_result",
     "data": {
      "text/plain": "152    2.0\n129    2.0\n157    2.0\n175    2.0\n180    2.0\n135    2.0\n110    2.0\n148    2.0\n123    1.0\n127    1.0\n128    1.0\n111    1.0\n133    1.0\n150    1.0\n136    1.0\n106    1.0\n138    1.0\n142    1.0\n143    1.0\n145    1.0\n89     1.0\n146    1.0\n567    1.0\n151    1.0\n190    1.0\n271    1.0\n265    1.0\n247    1.0\n234    1.0\n232    1.0\n212    1.0\n207    1.0\n185    1.0\n293    1.0\n184    1.0\n183    1.0\n170    1.0\n167    1.0\n166    1.0\n165    1.0\n153    1.0\n87     1.0\ndtype: float64"
     },
     "metadata": {},
     "execution_count": 354
    }
   ],
   "source": [
    "tot = pd.Series([])\n",
    "for piece in chunker:\n",
    "    #print('Piece value counts: \\n', piece['Sell'].value_counts())\n",
    "    tot = tot.add(piece['Sell'].value_counts(), fill_value=0)#.value counts returns a count of unique values. fill_value specifies what value to give missing data.\n",
    "\n",
    "tot = tot.sort_values(ascending=False)\n",
    "tot"
   ]
  },
  {
   "cell_type": "markdown",
   "metadata": {},
   "source": [
    "# Writing data to Text Format"
   ]
  },
  {
   "cell_type": "code",
   "execution_count": 355,
   "metadata": {
    "tags": []
   },
   "outputs": [
    {
     "output_type": "stream",
     "name": "stdout",
     "text": "|Sell|\" \"\"List\"\"\"|\" \"\"Living\"\"\"|\" \"\"Rooms\"\"\"|\" \"\"Beds\"\"\"|\" \"\"Baths\"\"\"|\" \"\"Age\"\"\"|\" \"\"Acres\"\"\"|\" \"\"Taxes\"\"\"\n0|142|160|28|10|5|3|60|0.28|3167\n1|175|180|18|8|4|1|12|0.43|4033\n2|129|132|13|6|3|1|41|0.33|1471\n3|138|140|17|7|3|1|22|0.46|3204\n4|232|240|25|8|4|3|5|2.05|3613\n5|135|140|18|7|4|3|9|0.57|3028\n6|150|160|20|8|4|3|18|4.0|3131\n7|207|225|22|8|4|2|16|2.22|5158\n8|271|285|30|10|5|2|30|0.53|5702\n9|89|90|10|5|3|1|43|0.3|2054\n10|153|157|22|8|3|3|18|0.38|4127\n11|87|90|16|7|3|1|50|0.65|1445\n12|234|238|25|8|4|2|2|1.61|2087\n13|106|116|20|8|4|1|13|0.22|2818\n14|175|180|22|8|4|2|15|2.06|3917\n15|165|170|17|8|4|2|33|0.46|2220\n16|166|170|23|9|4|2|37|0.27|3498\n17|136|140|19|7|3|1|22|0.63|3607\n18|148|160|17|7|3|2|13|0.36|3648\n19|151|153|19|8|4|2|24|0.34|3561\n20|180|190|24|9|4|2|10|1.55|4681\n21|293|305|26|8|4|3|6|0.46|7088\n22|167|170|20|9|4|2|46|0.46|3482\n23|190|193|22|9|5|2|37|0.48|3920\n24|184|190|21|9|5|2|27|1.3|4162\n25|157|165|20|8|4|2|7|0.3|3785\n26|110|115|16|8|4|1|26|0.29|3103\n27|135|145|18|7|4|1|35|0.43|3363\n28|567|625|64|11|4|4|4|0.85|12192\n29|180|185|20|8|4|2|11|1.0|3831\n30|183|188|17|7|3|2|16|3.0|3564\n31|185|193|20|9|3|2|56|6.49|3765\n32|152|155|17|8|4|1|33|0.7|3361\n33|148|153|13|6|3|2|22|0.39|3950\n34|152|159|15|7|3|1|25|0.59|3055\n35|146|150|16|7|3|1|31|0.36|2950\n36|170|190|24|10|3|2|33|0.57|3346\n37|127|130|20|8|4|1|65|0.4|3334\n38|265|270|36|10|6|3|33|1.2|5853\n39|157|163|18|8|4|2|12|1.13|3982\n40|128|135|17|9|4|1|25|0.52|3374\n41|110|120|15|8|4|2|11|0.59|3119\n42|123|130|18|8|4|2|43|0.39|3268\n43|212|230|39|12|5|3|202|4.29|3648\n44|145|145|18|8|4|2|44|0.22|2783\n45|129|135|10|6|3|1|15|1.0|2438\n46|143|145|21|7|4|2|10|1.2|3529\n47|247|252|29|9|4|2|4|1.25|4626\n48|111|120|15|8|3|1|97|1.11|3205\n49|133|145|26|7|3|1|42|0.36|3059\n"
    }
   ],
   "source": [
    "data = pd.read_csv('exampledata/homes.csv')\n",
    "data.to_csv('exampledata/ouput.csv')\n",
    "\n",
    "#To use other delimeter formats\n",
    "import sys \n",
    "data.to_csv(sys.stdout,  sep='|')"
   ]
  },
  {
   "cell_type": "code",
   "execution_count": 356,
   "metadata": {
    "tags": []
   },
   "outputs": [
    {
     "output_type": "stream",
     "name": "stdout",
     "text": ",Sell,\" \"\"List\"\"\",\" \"\"Living\"\"\",\" \"\"Rooms\"\"\",\" \"\"Beds\"\"\",\" \"\"Baths\"\"\",\" \"\"Age\"\"\",\" \"\"Acres\"\"\",\" \"\"Taxes\"\"\"\n0,142,160,28,10,5,3,60,0.28,3167\n1,175,180,18,8,4,1,12,0.43,4033\n2,129,132,13,6,3,1,41,0.33,1471\n3,138,140,17,7,3,1,22,0.46,3204\n4,232,240,25,8,4,3,5,2.05,3613\n5,135,140,18,7,4,3,9,0.57,3028\n6,150,160,20,8,4,3,18,4.0,3131\n7,207,225,22,8,4,2,16,2.22,5158\n8,271,285,30,10,5,2,30,0.53,5702\n9,89,90,10,5,3,1,43,0.3,2054\n10,153,157,22,8,3,3,18,0.38,4127\n11,87,90,16,7,3,1,50,0.65,1445\n12,234,238,25,8,4,2,2,1.61,2087\n13,106,116,20,8,4,1,13,0.22,2818\n14,175,180,22,8,4,2,15,2.06,3917\n15,165,170,17,8,4,2,33,0.46,2220\n16,166,170,23,9,4,2,37,0.27,3498\n17,136,140,19,7,3,1,22,0.63,3607\n18,148,160,17,7,3,2,13,0.36,3648\n19,151,153,19,8,4,2,24,0.34,3561\n20,180,190,24,9,4,2,10,1.55,4681\n21,293,305,26,8,4,3,6,0.46,7088\n22,167,170,20,9,4,2,46,0.46,3482\n23,190,193,22,9,5,2,37,0.48,3920\n24,184,190,21,9,5,2,27,1.3,4162\n25,157,165,20,8,4,2,7,0.3,3785\n26,110,115,16,8,4,1,26,0.29,3103\n27,135,145,18,7,4,1,35,0.43,3363\n28,567,625,64,11,4,4,4,0.85,12192\n29,180,185,20,8,4,2,11,1.0,3831\n30,183,188,17,7,3,2,16,3.0,3564\n31,185,193,20,9,3,2,56,6.49,3765\n32,152,155,17,8,4,1,33,0.7,3361\n33,148,153,13,6,3,2,22,0.39,3950\n34,152,159,15,7,3,1,25,0.59,3055\n35,146,150,16,7,3,1,31,0.36,2950\n36,170,190,24,10,3,2,33,0.57,3346\n37,127,130,20,8,4,1,65,0.4,3334\n38,265,270,36,10,6,3,33,1.2,5853\n39,157,163,18,8,4,2,12,1.13,3982\n40,128,135,17,9,4,1,25,0.52,3374\n41,110,120,15,8,4,2,11,0.59,3119\n42,123,130,18,8,4,2,43,0.39,3268\n43,212,230,39,12,5,3,202,4.29,3648\n44,145,145,18,8,4,2,44,0.22,2783\n45,129,135,10,6,3,1,15,1.0,2438\n46,143,145,21,7,4,2,10,1.2,3529\n47,247,252,29,9,4,2,4,1.25,4626\n48,111,120,15,8,3,1,97,1.11,3205\n49,133,145,26,7,3,1,42,0.36,3059\n"
    }
   ],
   "source": [
    "data.to_csv(sys.stdout, na_rep='NULL') # will replace all empty values with 'NULL'\n",
    "# with no other options specified the row and column labels will be written to the file \n",
    "# however you can disable them \n",
    "data.to_csv('exampledata/output.csv', index=False, header=False) #this file has been saved with no index or header "
   ]
  },
  {
   "cell_type": "markdown",
   "metadata": {},
   "source": [
    "## Working With Delimited Formats"
   ]
  },
  {
   "cell_type": "code",
   "execution_count": 357,
   "metadata": {},
   "outputs": [
    {
     "output_type": "execute_result",
     "data": {
      "text/plain": "   a  b  c\n0  1  2  3\n1  1  2  3",
      "text/html": "<div>\n<style scoped>\n    .dataframe tbody tr th:only-of-type {\n        vertical-align: middle;\n    }\n\n    .dataframe tbody tr th {\n        vertical-align: top;\n    }\n\n    .dataframe thead th {\n        text-align: right;\n    }\n</style>\n<table border=\"1\" class=\"dataframe\">\n  <thead>\n    <tr style=\"text-align: right;\">\n      <th></th>\n      <th>a</th>\n      <th>b</th>\n      <th>c</th>\n    </tr>\n  </thead>\n  <tbody>\n    <tr>\n      <th>0</th>\n      <td>1</td>\n      <td>2</td>\n      <td>3</td>\n    </tr>\n    <tr>\n      <th>1</th>\n      <td>1</td>\n      <td>2</td>\n      <td>3</td>\n    </tr>\n  </tbody>\n</table>\n</div>"
     },
     "metadata": {},
     "execution_count": 357
    }
   ],
   "source": [
    "bad_data = pd.read_csv('exampledata/bad_csv.csv')\n",
    "bad_data"
   ]
  },
  {
   "cell_type": "markdown",
   "metadata": {},
   "source": [
    "As you can see the elements are represented in double quote marks. This is more common than usual. in this case it may be necessary to manually read in the file using pythons built-in csv module. "
   ]
  },
  {
   "cell_type": "code",
   "execution_count": 358,
   "metadata": {
    "tags": []
   },
   "outputs": [
    {
     "output_type": "stream",
     "name": "stdout",
     "text": "\"a\",\"b\",\"c\"\n\"1\",\"2\",\"3\"\n\"1\",\"2\",\"3\"\n"
    }
   ],
   "source": [
    "!cat exampledata/bad_csv.csv"
   ]
  },
  {
   "cell_type": "code",
   "execution_count": 359,
   "metadata": {
    "tags": []
   },
   "outputs": [
    {
     "output_type": "stream",
     "name": "stdout",
     "text": "['a', 'b', 'c']\n['1', '2', '3']\n['1', '2', '3']\n"
    }
   ],
   "source": [
    "import csv\n",
    "f = open('exampledata/bad_csv.csv')\n",
    "reader = csv.reader(f)\n",
    "\n",
    "for line in reader: \n",
    "    print(line)"
   ]
  },
  {
   "cell_type": "markdown",
   "metadata": {},
   "source": [
    "from here, it's up to you to do the wrangling. "
   ]
  },
  {
   "cell_type": "code",
   "execution_count": 360,
   "metadata": {
    "tags": []
   },
   "outputs": [
    {
     "output_type": "execute_result",
     "data": {
      "text/plain": "{'a': ('1', '1'), 'b': ('2', '2'), 'c': ('3', '3')}"
     },
     "metadata": {},
     "execution_count": 360
    }
   ],
   "source": [
    "with open('exampledata/bad_csv.csv') as f: \n",
    "    lines = list(csv.reader(f))\n",
    "\n",
    "header, values = lines[0], lines[1:] #lines 0 is the header. lines 1 and onwards are the values.\n",
    "\n",
    "# Now create a dictionary of data columns \n",
    "# *values collects all the positions in the tuple\n",
    "# zip joins a list all positional elements together in a tuple \n",
    "\n",
    "data_dict = {h: v for h, v in zip(header, zip(*values))} \n",
    "data_dict"
   ]
  },
  {
   "cell_type": "markdown",
   "metadata": {},
   "source": [
    "csv files can come in many different forms you can specify your own by creating a class like the one below"
   ]
  },
  {
   "cell_type": "code",
   "execution_count": 361,
   "metadata": {
    "tags": []
   },
   "outputs": [
    {
     "output_type": "stream",
     "name": "stdout",
     "text": "hello;this;is;a;string\n1;2;3;4\n%;5;6;7\n"
    }
   ],
   "source": [
    "class my_dialect(csv.Dialect):\n",
    "    lineterminator = '\\n'\n",
    "    delimiter = ';'\n",
    "    quotechar = '\"'\n",
    "    quoting = csv.QUOTE_MINIMAL\n",
    "f = open('exampledata/homes.csv')\n",
    "reader = csv.reader(f, delimiter='|')\n",
    "\n",
    "with open('exampledata/mydata.csv', 'w') as f:\n",
    "    writer = csv.writer(f, dialect=my_dialect)\n",
    "    writer.writerow(('hello', 'this', 'is', 'a', 'string'))\n",
    "    writer.writerow(('1', '2', '3', '4'))\n",
    "    writer.writerow(('%', '5', '6', '7'))\n",
    "\n",
    "!cat 'exampledata/mydata.csv'"
   ]
  },
  {
   "cell_type": "markdown",
   "metadata": {},
   "source": [
    "# JSON Data\n",
    "JSON JavaScript Object Notations has become the standard format for sending HTTPS requests. (asking for and receiving data from servers through the web) below is an example "
   ]
  },
  {
   "cell_type": "code",
   "execution_count": 362,
   "metadata": {},
   "outputs": [],
   "source": [
    "obj = \"\"\"\n",
    "  {\"name\": [\"Ollie\", \"NaN\"],\n",
    "  \"places_lived\": [\"battle\", \"robertsbridge\"],\n",
    "  \"pet\": [\"Mac\", \"philip\"],\n",
    "  \"siblings\":[\"thomas\", \"Giles\"]\n",
    "  }\"\"\"\n",
    "\n"
   ]
  },
  {
   "cell_type": "markdown",
   "metadata": {},
   "source": [
    "JSON is very similar to python code apart from some nuances. All keys must be strings. Null is represented by null."
   ]
  },
  {
   "cell_type": "code",
   "execution_count": 363,
   "metadata": {},
   "outputs": [
    {
     "output_type": "execute_result",
     "data": {
      "text/plain": "{'name': ['Ollie', 'NaN'],\n 'places_lived': ['battle', 'robertsbridge'],\n 'pet': ['horse', 'philip'],\n 'siblings': ['thomas', 'Giles']}"
     },
     "metadata": {},
     "execution_count": 363
    }
   ],
   "source": [
    "import json \n",
    "result = json.loads(obj) # loads a JSON object into python\n",
    "result"
   ]
  },
  {
   "cell_type": "code",
   "execution_count": 364,
   "metadata": {},
   "outputs": [
    {
     "output_type": "execute_result",
     "data": {
      "text/plain": "'{\"name\": [\"Ollie\", \"NaN\"], \"places_lived\": [\"battle\", \"robertsbridge\"], \"pet\": [\"horse\", \"philip\"], \"siblings\": [\"thomas\", \"Giles\"]}'"
     },
     "metadata": {},
     "execution_count": 364
    }
   ],
   "source": [
    "asjson = json.dumps(result) #converts to JSON\n",
    "asjson"
   ]
  },
  {
   "cell_type": "markdown",
   "metadata": {},
   "source": [
    "once you have received the JSON into data you can load it into a dataframe like any python dicts"
   ]
  },
  {
   "cell_type": "code",
   "execution_count": 367,
   "metadata": {},
   "outputs": [
    {
     "output_type": "execute_result",
     "data": {
      "text/plain": "    name   places_lived     pet siblings\n0  Ollie         battle   horse   thomas\n1    NaN  robertsbridge  philip    Giles",
      "text/html": "<div>\n<style scoped>\n    .dataframe tbody tr th:only-of-type {\n        vertical-align: middle;\n    }\n\n    .dataframe tbody tr th {\n        vertical-align: top;\n    }\n\n    .dataframe thead th {\n        text-align: right;\n    }\n</style>\n<table border=\"1\" class=\"dataframe\">\n  <thead>\n    <tr style=\"text-align: right;\">\n      <th></th>\n      <th>name</th>\n      <th>places_lived</th>\n      <th>pet</th>\n      <th>siblings</th>\n    </tr>\n  </thead>\n  <tbody>\n    <tr>\n      <th>0</th>\n      <td>Ollie</td>\n      <td>battle</td>\n      <td>horse</td>\n      <td>thomas</td>\n    </tr>\n    <tr>\n      <th>1</th>\n      <td>NaN</td>\n      <td>robertsbridge</td>\n      <td>philip</td>\n      <td>Giles</td>\n    </tr>\n  </tbody>\n</table>\n</div>"
     },
     "metadata": {},
     "execution_count": 367
    }
   ],
   "source": [
    "df = pd.DataFrame(result, index_col='pet')\n",
    "df"
   ]
  },
  {
   "cell_type": "code",
   "execution_count": null,
   "metadata": {},
   "outputs": [],
   "source": []
  }
 ]
}