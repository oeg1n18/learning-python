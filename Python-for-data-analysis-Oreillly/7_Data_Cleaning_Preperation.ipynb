{
 "metadata": {
  "language_info": {
   "codemirror_mode": {
    "name": "ipython",
    "version": 3
   },
   "file_extension": ".py",
   "mimetype": "text/x-python",
   "name": "python",
   "nbconvert_exporter": "python",
   "pygments_lexer": "ipython3",
   "version": 3
  },
  "orig_nbformat": 2,
  "kernelspec": {
   "name": "python_defaultSpec_1595842418117",
   "display_name": "Python 3.8.3 64-bit"
  }
 },
 "nbformat": 4,
 "nbformat_minor": 2,
 "cells": [
  {
   "cell_type": "markdown",
   "metadata": {},
   "source": [
    "# Data Cleaning and Preparation\n",
    "roughly 80% of the total time spent on data analysis is used for data manipulation and cleaning  \n",
    "making sure it is in the correct form in order to be analysed. This is usually completed in \n",
    "general purpose programming languages such as python, R, Perl or java. fortunately python and  \n",
    "pandas has a number of built in functions for data manipulation \n",
    "<br/>\n",
    "<br/>\n",
    "## Handling missing Data \n",
    "pandas is designed to make missing data less painful. all descriptive stats on pandas objects skips missing data \n",
    "by defualt.  \n",
    "<br/>\n",
    "missing data in for numberic data and a pandas object represented by floating-point value NaN to represent missing data.\n",
    "We call it a sentinel value. \n",
    "<br/>\n",
    "when analysing data it is important to consider where the missing data is an what affect or bias's it may make on your \n",
    "final analysis. "
   ]
  },
  {
   "cell_type": "code",
   "execution_count": 2,
   "metadata": {},
   "outputs": [
    {
     "output_type": "execute_result",
     "data": {
      "text/plain": "0     aardvark\n1    artichoke\n2          NaN\n3      avocado\ndtype: object"
     },
     "metadata": {},
     "execution_count": 2
    }
   ],
   "source": [
    "import pandas as pd\n",
    "import numpy as np\n",
    "string_data = pd.Series(['aardvark', 'artichoke', np.nan, 'avocado'])\n",
    "string_data"
   ]
  },
  {
   "cell_type": "code",
   "execution_count": 3,
   "metadata": {},
   "outputs": [
    {
     "output_type": "execute_result",
     "data": {
      "text/plain": "0    False\n1    False\n2     True\n3    False\ndtype: bool"
     },
     "metadata": {},
     "execution_count": 3
    }
   ],
   "source": [
    "string_data.isnull() #if null returns true"
   ]
  },
  {
   "cell_type": "code",
   "execution_count": 4,
   "metadata": {},
   "outputs": [
    {
     "output_type": "execute_result",
     "data": {
      "text/plain": "0         None\n1    artichoke\n2          NaN\n3      avocado\ndtype: object"
     },
     "metadata": {},
     "execution_count": 4
    }
   ],
   "source": [
    "string_data[0] = None\n",
    "string_data"
   ]
  },
  {
   "cell_type": "code",
   "execution_count": 5,
   "metadata": {},
   "outputs": [
    {
     "output_type": "execute_result",
     "data": {
      "text/plain": "0     True\n1    False\n2     True\n3    False\ndtype: bool"
     },
     "metadata": {},
     "execution_count": 5
    }
   ],
   "source": [
    "string_data.isnull()"
   ]
  },
  {
   "cell_type": "markdown",
   "metadata": {},
   "source": [
    "### NA handling methods  \n",
    "* dropna -- Filter axis labels based on whether values for each label have missing data, with varying thresholds for how much missing data to tolerate\n",
    "* fillna -- Fill in missing data with some value or using an interpolation method such as 'ffill' or 'bfill'\n",
    "* isnull -- Return boolean values indicating which values are missing/NA\n",
    "* notnull -- Negation of isnull \n",
    "<br/>\n",
    "## Filtering Out Missing data "
   ]
  },
  {
   "cell_type": "code",
   "execution_count": 6,
   "metadata": {},
   "outputs": [
    {
     "output_type": "execute_result",
     "data": {
      "text/plain": "0    1.0\n1    NaN\n2    3.5\n3    NaN\n4    7.0\ndtype: float64"
     },
     "metadata": {},
     "execution_count": 6
    }
   ],
   "source": [
    "from numpy import nan as NA \n",
    "data = pd.Series([1, NA, 3.5, NA, 7])\n",
    "data"
   ]
  },
  {
   "cell_type": "code",
   "execution_count": 7,
   "metadata": {},
   "outputs": [
    {
     "output_type": "execute_result",
     "data": {
      "text/plain": "0    1.0\n2    3.5\n4    7.0\ndtype: float64"
     },
     "metadata": {},
     "execution_count": 7
    }
   ],
   "source": [
    "data.dropna() #gets rid of the NaN values"
   ]
  },
  {
   "cell_type": "code",
   "execution_count": 8,
   "metadata": {},
   "outputs": [
    {
     "output_type": "execute_result",
     "data": {
      "text/plain": "0    1.0\n2    3.5\n4    7.0\ndtype: float64"
     },
     "metadata": {},
     "execution_count": 8
    }
   ],
   "source": [
    "data[data.notnull()] # is the equivalent of above"
   ]
  },
  {
   "cell_type": "markdown",
   "metadata": {},
   "source": [
    "with DataFrames its a bit more complicated. you may want to drop rows or columns that are NA or only those containing\n",
    "NAs. dropna by default drops any row containing a missing value. "
   ]
  },
  {
   "cell_type": "code",
   "execution_count": 9,
   "metadata": {},
   "outputs": [
    {
     "output_type": "execute_result",
     "data": {
      "text/plain": "     0    1    2\n0  1.0  6.5  3.0\n1  1.0  NaN  NaN\n2  NaN  NaN  NaN\n3  NaN  6.5  3.0",
      "text/html": "<div>\n<style scoped>\n    .dataframe tbody tr th:only-of-type {\n        vertical-align: middle;\n    }\n\n    .dataframe tbody tr th {\n        vertical-align: top;\n    }\n\n    .dataframe thead th {\n        text-align: right;\n    }\n</style>\n<table border=\"1\" class=\"dataframe\">\n  <thead>\n    <tr style=\"text-align: right;\">\n      <th></th>\n      <th>0</th>\n      <th>1</th>\n      <th>2</th>\n    </tr>\n  </thead>\n  <tbody>\n    <tr>\n      <th>0</th>\n      <td>1.0</td>\n      <td>6.5</td>\n      <td>3.0</td>\n    </tr>\n    <tr>\n      <th>1</th>\n      <td>1.0</td>\n      <td>NaN</td>\n      <td>NaN</td>\n    </tr>\n    <tr>\n      <th>2</th>\n      <td>NaN</td>\n      <td>NaN</td>\n      <td>NaN</td>\n    </tr>\n    <tr>\n      <th>3</th>\n      <td>NaN</td>\n      <td>6.5</td>\n      <td>3.0</td>\n    </tr>\n  </tbody>\n</table>\n</div>"
     },
     "metadata": {},
     "execution_count": 9
    }
   ],
   "source": [
    "data = pd.DataFrame([[1., 6.5, 3.], [1., NA, NA], [NA, NA, NA], [NA, 6.5, 3.]])\n",
    "cleaned = data.dropna()\n",
    "data"
   ]
  },
  {
   "cell_type": "code",
   "execution_count": 10,
   "metadata": {},
   "outputs": [
    {
     "output_type": "execute_result",
     "data": {
      "text/plain": "     0    1    2\n0  1.0  6.5  3.0",
      "text/html": "<div>\n<style scoped>\n    .dataframe tbody tr th:only-of-type {\n        vertical-align: middle;\n    }\n\n    .dataframe tbody tr th {\n        vertical-align: top;\n    }\n\n    .dataframe thead th {\n        text-align: right;\n    }\n</style>\n<table border=\"1\" class=\"dataframe\">\n  <thead>\n    <tr style=\"text-align: right;\">\n      <th></th>\n      <th>0</th>\n      <th>1</th>\n      <th>2</th>\n    </tr>\n  </thead>\n  <tbody>\n    <tr>\n      <th>0</th>\n      <td>1.0</td>\n      <td>6.5</td>\n      <td>3.0</td>\n    </tr>\n  </tbody>\n</table>\n</div>"
     },
     "metadata": {},
     "execution_count": 10
    }
   ],
   "source": [
    "cleaned"
   ]
  },
  {
   "cell_type": "code",
   "execution_count": 11,
   "metadata": {},
   "outputs": [
    {
     "output_type": "execute_result",
     "data": {
      "text/plain": "     0    1    2\n0  1.0  6.5  3.0\n1  1.0  NaN  NaN\n3  NaN  6.5  3.0",
      "text/html": "<div>\n<style scoped>\n    .dataframe tbody tr th:only-of-type {\n        vertical-align: middle;\n    }\n\n    .dataframe tbody tr th {\n        vertical-align: top;\n    }\n\n    .dataframe thead th {\n        text-align: right;\n    }\n</style>\n<table border=\"1\" class=\"dataframe\">\n  <thead>\n    <tr style=\"text-align: right;\">\n      <th></th>\n      <th>0</th>\n      <th>1</th>\n      <th>2</th>\n    </tr>\n  </thead>\n  <tbody>\n    <tr>\n      <th>0</th>\n      <td>1.0</td>\n      <td>6.5</td>\n      <td>3.0</td>\n    </tr>\n    <tr>\n      <th>1</th>\n      <td>1.0</td>\n      <td>NaN</td>\n      <td>NaN</td>\n    </tr>\n    <tr>\n      <th>3</th>\n      <td>NaN</td>\n      <td>6.5</td>\n      <td>3.0</td>\n    </tr>\n  </tbody>\n</table>\n</div>"
     },
     "metadata": {},
     "execution_count": 11
    }
   ],
   "source": [
    "cleaned = data.dropna(how='all') # will only dro the rows that are all NA\n",
    "cleaned"
   ]
  },
  {
   "cell_type": "code",
   "execution_count": 12,
   "metadata": {},
   "outputs": [
    {
     "output_type": "execute_result",
     "data": {
      "text/plain": "Empty DataFrame\nColumns: []\nIndex: [0, 1, 2, 3]",
      "text/html": "<div>\n<style scoped>\n    .dataframe tbody tr th:only-of-type {\n        vertical-align: middle;\n    }\n\n    .dataframe tbody tr th {\n        vertical-align: top;\n    }\n\n    .dataframe thead th {\n        text-align: right;\n    }\n</style>\n<table border=\"1\" class=\"dataframe\">\n  <thead>\n    <tr style=\"text-align: right;\">\n      <th></th>\n    </tr>\n  </thead>\n  <tbody>\n    <tr>\n      <th>0</th>\n    </tr>\n    <tr>\n      <th>1</th>\n    </tr>\n    <tr>\n      <th>2</th>\n    </tr>\n    <tr>\n      <th>3</th>\n    </tr>\n  </tbody>\n</table>\n</div>"
     },
     "metadata": {},
     "execution_count": 12
    }
   ],
   "source": [
    "#should you which to drop the columns in the same way you can pass the axis keyword\n",
    "cleaned = data.dropna(axis=1)\n",
    "cleaned"
   ]
  },
  {
   "cell_type": "markdown",
   "metadata": {},
   "source": [
    "## Filling In Missing Data \n",
    "an alternative to filtering out data and possibly losing rows or columns you can use fillna()"
   ]
  },
  {
   "cell_type": "code",
   "execution_count": 13,
   "metadata": {},
   "outputs": [
    {
     "output_type": "execute_result",
     "data": {
      "text/plain": "          0         1         2\n0 -0.183526       NaN  1.080390\n1  0.330354       NaN  0.306555\n2  1.583294       NaN  0.786937\n3 -0.875215       NaN -2.076086\n4 -0.726774 -0.884924  0.404506\n5 -0.490088  0.120185 -0.870638\n6  0.011211  0.595754 -0.087095",
      "text/html": "<div>\n<style scoped>\n    .dataframe tbody tr th:only-of-type {\n        vertical-align: middle;\n    }\n\n    .dataframe tbody tr th {\n        vertical-align: top;\n    }\n\n    .dataframe thead th {\n        text-align: right;\n    }\n</style>\n<table border=\"1\" class=\"dataframe\">\n  <thead>\n    <tr style=\"text-align: right;\">\n      <th></th>\n      <th>0</th>\n      <th>1</th>\n      <th>2</th>\n    </tr>\n  </thead>\n  <tbody>\n    <tr>\n      <th>0</th>\n      <td>-0.183526</td>\n      <td>NaN</td>\n      <td>1.080390</td>\n    </tr>\n    <tr>\n      <th>1</th>\n      <td>0.330354</td>\n      <td>NaN</td>\n      <td>0.306555</td>\n    </tr>\n    <tr>\n      <th>2</th>\n      <td>1.583294</td>\n      <td>NaN</td>\n      <td>0.786937</td>\n    </tr>\n    <tr>\n      <th>3</th>\n      <td>-0.875215</td>\n      <td>NaN</td>\n      <td>-2.076086</td>\n    </tr>\n    <tr>\n      <th>4</th>\n      <td>-0.726774</td>\n      <td>-0.884924</td>\n      <td>0.404506</td>\n    </tr>\n    <tr>\n      <th>5</th>\n      <td>-0.490088</td>\n      <td>0.120185</td>\n      <td>-0.870638</td>\n    </tr>\n    <tr>\n      <th>6</th>\n      <td>0.011211</td>\n      <td>0.595754</td>\n      <td>-0.087095</td>\n    </tr>\n  </tbody>\n</table>\n</div>"
     },
     "metadata": {},
     "execution_count": 13
    }
   ],
   "source": [
    "df = pd.DataFrame(np.random.randn(7,3))\n",
    "df.iloc[:4, 1]=NA\n",
    "df"
   ]
  },
  {
   "cell_type": "code",
   "execution_count": 14,
   "metadata": {},
   "outputs": [
    {
     "output_type": "execute_result",
     "data": {
      "text/plain": "          0         1         2\n4 -0.726774 -0.884924  0.404506\n5 -0.490088  0.120185 -0.870638\n6  0.011211  0.595754 -0.087095",
      "text/html": "<div>\n<style scoped>\n    .dataframe tbody tr th:only-of-type {\n        vertical-align: middle;\n    }\n\n    .dataframe tbody tr th {\n        vertical-align: top;\n    }\n\n    .dataframe thead th {\n        text-align: right;\n    }\n</style>\n<table border=\"1\" class=\"dataframe\">\n  <thead>\n    <tr style=\"text-align: right;\">\n      <th></th>\n      <th>0</th>\n      <th>1</th>\n      <th>2</th>\n    </tr>\n  </thead>\n  <tbody>\n    <tr>\n      <th>4</th>\n      <td>-0.726774</td>\n      <td>-0.884924</td>\n      <td>0.404506</td>\n    </tr>\n    <tr>\n      <th>5</th>\n      <td>-0.490088</td>\n      <td>0.120185</td>\n      <td>-0.870638</td>\n    </tr>\n    <tr>\n      <th>6</th>\n      <td>0.011211</td>\n      <td>0.595754</td>\n      <td>-0.087095</td>\n    </tr>\n  </tbody>\n</table>\n</div>"
     },
     "metadata": {},
     "execution_count": 14
    }
   ],
   "source": [
    "df.dropna()"
   ]
  },
  {
   "cell_type": "code",
   "execution_count": 15,
   "metadata": {},
   "outputs": [
    {
     "output_type": "execute_result",
     "data": {
      "text/plain": "          0         1         2\n0 -0.183526  0.000000  1.080390\n1  0.330354  0.000000  0.306555\n2  1.583294  0.000000  0.786937\n3 -0.875215  0.000000 -2.076086\n4 -0.726774 -0.884924  0.404506\n5 -0.490088  0.120185 -0.870638\n6  0.011211  0.595754 -0.087095",
      "text/html": "<div>\n<style scoped>\n    .dataframe tbody tr th:only-of-type {\n        vertical-align: middle;\n    }\n\n    .dataframe tbody tr th {\n        vertical-align: top;\n    }\n\n    .dataframe thead th {\n        text-align: right;\n    }\n</style>\n<table border=\"1\" class=\"dataframe\">\n  <thead>\n    <tr style=\"text-align: right;\">\n      <th></th>\n      <th>0</th>\n      <th>1</th>\n      <th>2</th>\n    </tr>\n  </thead>\n  <tbody>\n    <tr>\n      <th>0</th>\n      <td>-0.183526</td>\n      <td>0.000000</td>\n      <td>1.080390</td>\n    </tr>\n    <tr>\n      <th>1</th>\n      <td>0.330354</td>\n      <td>0.000000</td>\n      <td>0.306555</td>\n    </tr>\n    <tr>\n      <th>2</th>\n      <td>1.583294</td>\n      <td>0.000000</td>\n      <td>0.786937</td>\n    </tr>\n    <tr>\n      <th>3</th>\n      <td>-0.875215</td>\n      <td>0.000000</td>\n      <td>-2.076086</td>\n    </tr>\n    <tr>\n      <th>4</th>\n      <td>-0.726774</td>\n      <td>-0.884924</td>\n      <td>0.404506</td>\n    </tr>\n    <tr>\n      <th>5</th>\n      <td>-0.490088</td>\n      <td>0.120185</td>\n      <td>-0.870638</td>\n    </tr>\n    <tr>\n      <th>6</th>\n      <td>0.011211</td>\n      <td>0.595754</td>\n      <td>-0.087095</td>\n    </tr>\n  </tbody>\n</table>\n</div>"
     },
     "metadata": {},
     "execution_count": 15
    }
   ],
   "source": [
    "df.fillna(0)\n"
   ]
  },
  {
   "cell_type": "markdown",
   "metadata": {},
   "source": [
    "if you pass a dict to filna it will fill each of of the key value's present  \n",
    "in the dataset will its corresponding value"
   ]
  },
  {
   "cell_type": "code",
   "execution_count": 16,
   "metadata": {},
   "outputs": [
    {
     "output_type": "execute_result",
     "data": {
      "text/plain": "          0         1         2\n0 -0.904534  0.535601  0.706661\n1 -1.671020  0.836299 -0.299906\n2 -1.097650       NaN -1.784176\n3 -1.301735       NaN  1.090550\n4  0.826451       NaN       NaN\n5 -0.385091       NaN       NaN",
      "text/html": "<div>\n<style scoped>\n    .dataframe tbody tr th:only-of-type {\n        vertical-align: middle;\n    }\n\n    .dataframe tbody tr th {\n        vertical-align: top;\n    }\n\n    .dataframe thead th {\n        text-align: right;\n    }\n</style>\n<table border=\"1\" class=\"dataframe\">\n  <thead>\n    <tr style=\"text-align: right;\">\n      <th></th>\n      <th>0</th>\n      <th>1</th>\n      <th>2</th>\n    </tr>\n  </thead>\n  <tbody>\n    <tr>\n      <th>0</th>\n      <td>-0.904534</td>\n      <td>0.535601</td>\n      <td>0.706661</td>\n    </tr>\n    <tr>\n      <th>1</th>\n      <td>-1.671020</td>\n      <td>0.836299</td>\n      <td>-0.299906</td>\n    </tr>\n    <tr>\n      <th>2</th>\n      <td>-1.097650</td>\n      <td>NaN</td>\n      <td>-1.784176</td>\n    </tr>\n    <tr>\n      <th>3</th>\n      <td>-1.301735</td>\n      <td>NaN</td>\n      <td>1.090550</td>\n    </tr>\n    <tr>\n      <th>4</th>\n      <td>0.826451</td>\n      <td>NaN</td>\n      <td>NaN</td>\n    </tr>\n    <tr>\n      <th>5</th>\n      <td>-0.385091</td>\n      <td>NaN</td>\n      <td>NaN</td>\n    </tr>\n  </tbody>\n</table>\n</div>"
     },
     "metadata": {},
     "execution_count": 16
    }
   ],
   "source": [
    "df = pd.DataFrame(np.random.randn(6, 3))\n",
    "df.iloc[2:, 1] = NA\n",
    "df.iloc[4:, 2] = NA\n",
    "df"
   ]
  },
  {
   "cell_type": "code",
   "execution_count": 17,
   "metadata": {},
   "outputs": [
    {
     "output_type": "execute_result",
     "data": {
      "text/plain": "          0         1         2\n0 -0.904534  0.535601  0.706661\n1 -1.671020  0.836299 -0.299906\n2 -1.097650  0.836299 -1.784176\n3 -1.301735  0.836299  1.090550\n4  0.826451  0.836299  1.090550\n5 -0.385091  0.836299  1.090550",
      "text/html": "<div>\n<style scoped>\n    .dataframe tbody tr th:only-of-type {\n        vertical-align: middle;\n    }\n\n    .dataframe tbody tr th {\n        vertical-align: top;\n    }\n\n    .dataframe thead th {\n        text-align: right;\n    }\n</style>\n<table border=\"1\" class=\"dataframe\">\n  <thead>\n    <tr style=\"text-align: right;\">\n      <th></th>\n      <th>0</th>\n      <th>1</th>\n      <th>2</th>\n    </tr>\n  </thead>\n  <tbody>\n    <tr>\n      <th>0</th>\n      <td>-0.904534</td>\n      <td>0.535601</td>\n      <td>0.706661</td>\n    </tr>\n    <tr>\n      <th>1</th>\n      <td>-1.671020</td>\n      <td>0.836299</td>\n      <td>-0.299906</td>\n    </tr>\n    <tr>\n      <th>2</th>\n      <td>-1.097650</td>\n      <td>0.836299</td>\n      <td>-1.784176</td>\n    </tr>\n    <tr>\n      <th>3</th>\n      <td>-1.301735</td>\n      <td>0.836299</td>\n      <td>1.090550</td>\n    </tr>\n    <tr>\n      <th>4</th>\n      <td>0.826451</td>\n      <td>0.836299</td>\n      <td>1.090550</td>\n    </tr>\n    <tr>\n      <th>5</th>\n      <td>-0.385091</td>\n      <td>0.836299</td>\n      <td>1.090550</td>\n    </tr>\n  </tbody>\n</table>\n</div>"
     },
     "metadata": {},
     "execution_count": 17
    }
   ],
   "source": [
    "df.fillna(method='ffill') #extends the value to the rest of the rows in the column "
   ]
  },
  {
   "cell_type": "code",
   "execution_count": 18,
   "metadata": {},
   "outputs": [
    {
     "output_type": "execute_result",
     "data": {
      "text/plain": "          0         1         2\n0 -0.904534  0.535601  0.706661\n1 -1.671020  0.836299 -0.299906\n2 -1.097650  0.836299 -1.784176\n3 -1.301735  0.836299  1.090550\n4  0.826451       NaN  1.090550\n5 -0.385091       NaN  1.090550",
      "text/html": "<div>\n<style scoped>\n    .dataframe tbody tr th:only-of-type {\n        vertical-align: middle;\n    }\n\n    .dataframe tbody tr th {\n        vertical-align: top;\n    }\n\n    .dataframe thead th {\n        text-align: right;\n    }\n</style>\n<table border=\"1\" class=\"dataframe\">\n  <thead>\n    <tr style=\"text-align: right;\">\n      <th></th>\n      <th>0</th>\n      <th>1</th>\n      <th>2</th>\n    </tr>\n  </thead>\n  <tbody>\n    <tr>\n      <th>0</th>\n      <td>-0.904534</td>\n      <td>0.535601</td>\n      <td>0.706661</td>\n    </tr>\n    <tr>\n      <th>1</th>\n      <td>-1.671020</td>\n      <td>0.836299</td>\n      <td>-0.299906</td>\n    </tr>\n    <tr>\n      <th>2</th>\n      <td>-1.097650</td>\n      <td>0.836299</td>\n      <td>-1.784176</td>\n    </tr>\n    <tr>\n      <th>3</th>\n      <td>-1.301735</td>\n      <td>0.836299</td>\n      <td>1.090550</td>\n    </tr>\n    <tr>\n      <th>4</th>\n      <td>0.826451</td>\n      <td>NaN</td>\n      <td>1.090550</td>\n    </tr>\n    <tr>\n      <th>5</th>\n      <td>-0.385091</td>\n      <td>NaN</td>\n      <td>1.090550</td>\n    </tr>\n  </tbody>\n</table>\n</div>"
     },
     "metadata": {},
     "execution_count": 18
    }
   ],
   "source": [
    "df.fillna(method='ffill', limit=2) ##limits the replication to two rows "
   ]
  },
  {
   "cell_type": "markdown",
   "metadata": {},
   "source": [
    "### references for fillna()\n",
    "* value -- Scalar value or dict-llike object to use to fill missing values \n",
    "* method -- interpolation; by default 'ffill' if function called with no arguments \n",
    "* axis -- Axis to fill on; default axis=0\n",
    "* inplace -- Modify the calling object without producing a copy \n",
    "* limit -- For foward and backward filling, maximum number of consecutive periods to fill\n",
    "<br/>\n",
    "<br/>\n",
    "\n",
    "# Data Transformation \n",
    "<br/>  \n",
    "\n",
    "## Removing Duplicates\n",
    "duplicates may be found in a dataframe for a number of reasons. lets create some to find out how to get \n",
    "rid of them "
   ]
  },
  {
   "cell_type": "code",
   "execution_count": 19,
   "metadata": {},
   "outputs": [
    {
     "output_type": "execute_result",
     "data": {
      "text/plain": "    k1  k2\n0  one   1\n1  two   1\n2  one   2\n3  two   3\n4  one   3\n5  two   4\n6  two   4",
      "text/html": "<div>\n<style scoped>\n    .dataframe tbody tr th:only-of-type {\n        vertical-align: middle;\n    }\n\n    .dataframe tbody tr th {\n        vertical-align: top;\n    }\n\n    .dataframe thead th {\n        text-align: right;\n    }\n</style>\n<table border=\"1\" class=\"dataframe\">\n  <thead>\n    <tr style=\"text-align: right;\">\n      <th></th>\n      <th>k1</th>\n      <th>k2</th>\n    </tr>\n  </thead>\n  <tbody>\n    <tr>\n      <th>0</th>\n      <td>one</td>\n      <td>1</td>\n    </tr>\n    <tr>\n      <th>1</th>\n      <td>two</td>\n      <td>1</td>\n    </tr>\n    <tr>\n      <th>2</th>\n      <td>one</td>\n      <td>2</td>\n    </tr>\n    <tr>\n      <th>3</th>\n      <td>two</td>\n      <td>3</td>\n    </tr>\n    <tr>\n      <th>4</th>\n      <td>one</td>\n      <td>3</td>\n    </tr>\n    <tr>\n      <th>5</th>\n      <td>two</td>\n      <td>4</td>\n    </tr>\n    <tr>\n      <th>6</th>\n      <td>two</td>\n      <td>4</td>\n    </tr>\n  </tbody>\n</table>\n</div>"
     },
     "metadata": {},
     "execution_count": 19
    }
   ],
   "source": [
    "data = pd.DataFrame({'k1':['one', 'two'] * 3 + ['two'], 'k2':[1,1,2,3,3,4,4]})\n",
    "data"
   ]
  },
  {
   "cell_type": "code",
   "execution_count": 20,
   "metadata": {},
   "outputs": [
    {
     "output_type": "execute_result",
     "data": {
      "text/plain": "0    False\n1    False\n2    False\n3    False\n4    False\n5    False\n6     True\ndtype: bool"
     },
     "metadata": {},
     "execution_count": 20
    }
   ],
   "source": [
    "data.duplicated() #returns boolean Series wether the data is duplicated "
   ]
  },
  {
   "cell_type": "code",
   "execution_count": 21,
   "metadata": {},
   "outputs": [
    {
     "output_type": "execute_result",
     "data": {
      "text/plain": "    k1  k2\n0  one   1\n1  two   1\n2  one   2\n3  two   3\n4  one   3\n5  two   4",
      "text/html": "<div>\n<style scoped>\n    .dataframe tbody tr th:only-of-type {\n        vertical-align: middle;\n    }\n\n    .dataframe tbody tr th {\n        vertical-align: top;\n    }\n\n    .dataframe thead th {\n        text-align: right;\n    }\n</style>\n<table border=\"1\" class=\"dataframe\">\n  <thead>\n    <tr style=\"text-align: right;\">\n      <th></th>\n      <th>k1</th>\n      <th>k2</th>\n    </tr>\n  </thead>\n  <tbody>\n    <tr>\n      <th>0</th>\n      <td>one</td>\n      <td>1</td>\n    </tr>\n    <tr>\n      <th>1</th>\n      <td>two</td>\n      <td>1</td>\n    </tr>\n    <tr>\n      <th>2</th>\n      <td>one</td>\n      <td>2</td>\n    </tr>\n    <tr>\n      <th>3</th>\n      <td>two</td>\n      <td>3</td>\n    </tr>\n    <tr>\n      <th>4</th>\n      <td>one</td>\n      <td>3</td>\n    </tr>\n    <tr>\n      <th>5</th>\n      <td>two</td>\n      <td>4</td>\n    </tr>\n  </tbody>\n</table>\n</div>"
     },
     "metadata": {},
     "execution_count": 21
    }
   ],
   "source": [
    "data.drop_duplicates() #drops the duplicated rows "
   ]
  },
  {
   "cell_type": "markdown",
   "metadata": {},
   "source": [
    "<br/>  \n",
    "\n",
    "## Tansforming Data Using a Function or Mapping\n",
    "\n"
   ]
  },
  {
   "cell_type": "code",
   "execution_count": 26,
   "metadata": {},
   "outputs": [
    {
     "output_type": "execute_result",
     "data": {
      "text/plain": "          food  ounces\n0        bacon       4\n1  pulled pork       3\n2        bacon      12\n3    corcodile      18",
      "text/html": "<div>\n<style scoped>\n    .dataframe tbody tr th:only-of-type {\n        vertical-align: middle;\n    }\n\n    .dataframe tbody tr th {\n        vertical-align: top;\n    }\n\n    .dataframe thead th {\n        text-align: right;\n    }\n</style>\n<table border=\"1\" class=\"dataframe\">\n  <thead>\n    <tr style=\"text-align: right;\">\n      <th></th>\n      <th>food</th>\n      <th>ounces</th>\n    </tr>\n  </thead>\n  <tbody>\n    <tr>\n      <th>0</th>\n      <td>bacon</td>\n      <td>4</td>\n    </tr>\n    <tr>\n      <th>1</th>\n      <td>pulled pork</td>\n      <td>3</td>\n    </tr>\n    <tr>\n      <th>2</th>\n      <td>bacon</td>\n      <td>12</td>\n    </tr>\n    <tr>\n      <th>3</th>\n      <td>corcodile</td>\n      <td>18</td>\n    </tr>\n  </tbody>\n</table>\n</div>"
     },
     "metadata": {},
     "execution_count": 26
    }
   ],
   "source": [
    "data = pd.DataFrame({'food':['bacon', 'pulled pork', 'bacon', 'corcodile'], 'ounces':[4,3,12,18]})\n",
    "data"
   ]
  },
  {
   "cell_type": "markdown",
   "metadata": {},
   "source": [
    "should you have a dict that maps on value to another. e.g. food source to meat"
   ]
  },
  {
   "cell_type": "code",
   "execution_count": 27,
   "metadata": {},
   "outputs": [],
   "source": [
    "meat_to_animal = {'bacon':'pig', 'pulled pork':'pig'}"
   ]
  },
  {
   "cell_type": "code",
   "execution_count": 28,
   "metadata": {},
   "outputs": [
    {
     "output_type": "execute_result",
     "data": {
      "text/plain": "          food  ounces animal\n0        bacon       4    pig\n1  pulled pork       3    pig\n2        bacon      12    pig\n3    corcodile      18    NaN",
      "text/html": "<div>\n<style scoped>\n    .dataframe tbody tr th:only-of-type {\n        vertical-align: middle;\n    }\n\n    .dataframe tbody tr th {\n        vertical-align: top;\n    }\n\n    .dataframe thead th {\n        text-align: right;\n    }\n</style>\n<table border=\"1\" class=\"dataframe\">\n  <thead>\n    <tr style=\"text-align: right;\">\n      <th></th>\n      <th>food</th>\n      <th>ounces</th>\n      <th>animal</th>\n    </tr>\n  </thead>\n  <tbody>\n    <tr>\n      <th>0</th>\n      <td>bacon</td>\n      <td>4</td>\n      <td>pig</td>\n    </tr>\n    <tr>\n      <th>1</th>\n      <td>pulled pork</td>\n      <td>3</td>\n      <td>pig</td>\n    </tr>\n    <tr>\n      <th>2</th>\n      <td>bacon</td>\n      <td>12</td>\n      <td>pig</td>\n    </tr>\n    <tr>\n      <th>3</th>\n      <td>corcodile</td>\n      <td>18</td>\n      <td>NaN</td>\n    </tr>\n  </tbody>\n</table>\n</div>"
     },
     "metadata": {},
     "execution_count": 28
    }
   ],
   "source": [
    "data['animal'] = data['food'].map(meat_to_animal)\n",
    "data"
   ]
  },
  {
   "cell_type": "markdown",
   "metadata": {},
   "source": [
    "## Replacing Values\n"
   ]
  },
  {
   "cell_type": "code",
   "execution_count": 30,
   "metadata": {},
   "outputs": [
    {
     "output_type": "execute_result",
     "data": {
      "text/plain": "0   -999\n1      1\n2      2\n3      3\n4    456\n5      5\n6   -999\ndtype: int64"
     },
     "metadata": {},
     "execution_count": 30
    }
   ],
   "source": [
    "data = pd.Series([-999, 1, 2, 3, 456, 5, -999])\n",
    "data"
   ]
  },
  {
   "cell_type": "code",
   "execution_count": 33,
   "metadata": {},
   "outputs": [
    {
     "output_type": "execute_result",
     "data": {
      "text/plain": "0      NaN\n1      1.0\n2      2.0\n3      3.0\n4    456.0\n5      5.0\n6      NaN\ndtype: float64"
     },
     "metadata": {},
     "execution_count": 33
    }
   ],
   "source": [
    "data.replace(-999, np.nan)"
   ]
  },
  {
   "cell_type": "code",
   "execution_count": 35,
   "metadata": {},
   "outputs": [
    {
     "output_type": "execute_result",
     "data": {
      "text/plain": "0        -999\n1           1\n2           2\n3    replaced\n4         456\n5           5\n6        -999\ndtype: object"
     },
     "metadata": {},
     "execution_count": 35
    }
   ],
   "source": [
    "data.replace([np.nan, 3], [-999, 'replaced'])"
   ]
  },
  {
   "cell_type": "markdown",
   "metadata": {},
   "source": [
    "##  Renaming Axis Indexes"
   ]
  },
  {
   "cell_type": "code",
   "execution_count": 40,
   "metadata": {},
   "outputs": [
    {
     "output_type": "execute_result",
     "data": {
      "text/plain": "   0  1   2   3\n0  0  1   2   3\n1  4  5   6   7\n2  8  9  10  11",
      "text/html": "<div>\n<style scoped>\n    .dataframe tbody tr th:only-of-type {\n        vertical-align: middle;\n    }\n\n    .dataframe tbody tr th {\n        vertical-align: top;\n    }\n\n    .dataframe thead th {\n        text-align: right;\n    }\n</style>\n<table border=\"1\" class=\"dataframe\">\n  <thead>\n    <tr style=\"text-align: right;\">\n      <th></th>\n      <th>0</th>\n      <th>1</th>\n      <th>2</th>\n      <th>3</th>\n    </tr>\n  </thead>\n  <tbody>\n    <tr>\n      <th>0</th>\n      <td>0</td>\n      <td>1</td>\n      <td>2</td>\n      <td>3</td>\n    </tr>\n    <tr>\n      <th>1</th>\n      <td>4</td>\n      <td>5</td>\n      <td>6</td>\n      <td>7</td>\n    </tr>\n    <tr>\n      <th>2</th>\n      <td>8</td>\n      <td>9</td>\n      <td>10</td>\n      <td>11</td>\n    </tr>\n  </tbody>\n</table>\n</div>"
     },
     "metadata": {},
     "execution_count": 40
    }
   ],
   "source": [
    "data = pd.DataFrame(np.arange(12).reshape((3,4)))\n",
    "data"
   ]
  },
  {
   "cell_type": "code",
   "execution_count": 41,
   "metadata": {},
   "outputs": [
    {
     "output_type": "execute_result",
     "data": {
      "text/plain": "             0  1   2  replacement\n0            0  1   2            3\nreplacement  4  5   6            7\n2            8  9  10           11",
      "text/html": "<div>\n<style scoped>\n    .dataframe tbody tr th:only-of-type {\n        vertical-align: middle;\n    }\n\n    .dataframe tbody tr th {\n        vertical-align: top;\n    }\n\n    .dataframe thead th {\n        text-align: right;\n    }\n</style>\n<table border=\"1\" class=\"dataframe\">\n  <thead>\n    <tr style=\"text-align: right;\">\n      <th></th>\n      <th>0</th>\n      <th>1</th>\n      <th>2</th>\n      <th>replacement</th>\n    </tr>\n  </thead>\n  <tbody>\n    <tr>\n      <th>0</th>\n      <td>0</td>\n      <td>1</td>\n      <td>2</td>\n      <td>3</td>\n    </tr>\n    <tr>\n      <th>replacement</th>\n      <td>4</td>\n      <td>5</td>\n      <td>6</td>\n      <td>7</td>\n    </tr>\n    <tr>\n      <th>2</th>\n      <td>8</td>\n      <td>9</td>\n      <td>10</td>\n      <td>11</td>\n    </tr>\n  </tbody>\n</table>\n</div>"
     },
     "metadata": {},
     "execution_count": 41
    }
   ],
   "source": [
    "data.rename(index={1:'replacement'}, columns={3:'replacement'})"
   ]
  },
  {
   "cell_type": "markdown",
   "metadata": {},
   "source": [
    "## Discretization and Binning\n",
    "continuous data is often seperated into bin for analysis."
   ]
  },
  {
   "cell_type": "code",
   "execution_count": 46,
   "metadata": {},
   "outputs": [
    {
     "output_type": "execute_result",
     "data": {
      "text/plain": "array([ 0,  1,  2,  3,  4,  5,  6,  7,  8,  9, 10, 11, 12, 13, 14, 15, 16,\n       17, 18, 19, 20, 21, 22, 23, 24, 25, 26, 27, 28, 29])"
     },
     "metadata": {},
     "execution_count": 46
    }
   ],
   "source": [
    "ages = np.arange(30)\n",
    "ages"
   ]
  },
  {
   "cell_type": "code",
   "execution_count": 53,
   "metadata": {},
   "outputs": [
    {
     "output_type": "execute_result",
     "data": {
      "text/plain": "[NaN, NaN, NaN, NaN, NaN, ..., (15, 25], (25, 30], (25, 30], (25, 30], (25, 30]]\nLength: 30\nCategories (3, interval[int64]): [(5, 15] < (15, 25] < (25, 30]]"
     },
     "metadata": {},
     "execution_count": 53
    }
   ],
   "source": [
    "bins = [5, 15, 25,30]\n",
    "cats = pd.cut(ages, bins)\n",
    "cats"
   ]
  },
  {
   "cell_type": "code",
   "execution_count": 54,
   "metadata": {},
   "outputs": [
    {
     "output_type": "execute_result",
     "data": {
      "text/plain": "array([-1, -1, -1, -1, -1, -1,  0,  0,  0,  0,  0,  0,  0,  0,  0,  0,  1,\n        1,  1,  1,  1,  1,  1,  1,  1,  1,  2,  2,  2,  2], dtype=int8)"
     },
     "metadata": {},
     "execution_count": 54
    }
   ],
   "source": [
    "cats.codes"
   ]
  },
  {
   "cell_type": "code",
   "execution_count": 55,
   "metadata": {},
   "outputs": [
    {
     "output_type": "execute_result",
     "data": {
      "text/plain": "(15, 25]    10\n(5, 15]     10\n(25, 30]     4\ndtype: int64"
     },
     "metadata": {},
     "execution_count": 55
    }
   ],
   "source": [
    "pd.value_counts(cats)"
   ]
  },
  {
   "cell_type": "markdown",
   "metadata": {},
   "source": [
    "As with mathematics the parenthesis indicated an open side and the square bracket a closed limit in the range.   \n",
    "you can also pass your own catagory labels. "
   ]
  },
  {
   "cell_type": "code",
   "execution_count": 58,
   "metadata": {},
   "outputs": [
    {
     "output_type": "execute_result",
     "data": {
      "text/plain": "[NaN, NaN, NaN, NaN, NaN, ..., young adult, middle ages, middle ages, middle ages, middle ages]\nLength: 30\nCategories (3, object): [youth < young adult < middle ages]"
     },
     "metadata": {},
     "execution_count": 58
    }
   ],
   "source": [
    "group_names = ['youth', 'young adult', 'middle ages']\n",
    "pd.cut(ages, bins, labels=group_names)"
   ]
  },
  {
   "cell_type": "markdown",
   "metadata": {},
   "source": [
    "pd.cut can place the relevant data into the number of bins you specify then can be evenly distributed. "
   ]
  },
  {
   "cell_type": "code",
   "execution_count": 60,
   "metadata": {},
   "outputs": [
    {
     "output_type": "execute_result",
     "data": {
      "text/plain": "[(0.68, 0.9], (0.68, 0.9], (0.026, 0.25], (0.46, 0.68], (0.68, 0.9], ..., (0.25, 0.46], (0.026, 0.25], (0.68, 0.9], (0.026, 0.25], (0.026, 0.25]]\nLength: 20\nCategories (4, interval[float64]): [(0.026, 0.25] < (0.25, 0.46] < (0.46, 0.68] < (0.68, 0.9]]"
     },
     "metadata": {},
     "execution_count": 60
    }
   ],
   "source": [
    "data = np.random.rand(20) #equally idstributed random \n",
    "pd.cut(data, 4, precision=2) #cuts into 4 bins precision=... limits to two decimal places"
   ]
  },
  {
   "cell_type": "markdown",
   "metadata": {},
   "source": [
    "### Cutting into Quatiles"
   ]
  },
  {
   "cell_type": "code",
   "execution_count": 63,
   "metadata": {},
   "outputs": [
    {
     "output_type": "execute_result",
     "data": {
      "text/plain": "[(-3.3689999999999998, -0.713], (-0.0426, 0.664], (-0.0426, 0.664], (-0.713, -0.0426], (-0.0426, 0.664], ..., (-0.0426, 0.664], (-0.0426, 0.664], (-0.713, -0.0426], (0.664, 3.361], (-3.3689999999999998, -0.713]]\nLength: 1000\nCategories (4, interval[float64]): [(-3.3689999999999998, -0.713] < (-0.713, -0.0426] < (-0.0426, 0.664] < (0.664, 3.361]]"
     },
     "metadata": {},
     "execution_count": 63
    }
   ],
   "source": [
    "data = np.random.randn(1000) # Normally distributed\n",
    "cats = pd.qcut(data, 4)\n",
    "cats"
   ]
  },
  {
   "cell_type": "code",
   "execution_count": 64,
   "metadata": {},
   "outputs": [
    {
     "output_type": "execute_result",
     "data": {
      "text/plain": "(0.664, 3.361]                   250\n(-0.0426, 0.664]                 250\n(-0.713, -0.0426]                250\n(-3.3689999999999998, -0.713]    250\ndtype: int64"
     },
     "metadata": {},
     "execution_count": 64
    }
   ],
   "source": [
    "pd.value_counts(cats)"
   ]
  },
  {
   "cell_type": "markdown",
   "metadata": {},
   "source": [
    "You can pass your own quantiles, numbers between 0 and 1."
   ]
  },
  {
   "cell_type": "code",
   "execution_count": 68,
   "metadata": {},
   "outputs": [],
   "source": [
    "cats = pd.qcut(data, [0, 0.1, 0.5, 0.9, 1.])"
   ]
  },
  {
   "cell_type": "code",
   "execution_count": 70,
   "metadata": {},
   "outputs": [
    {
     "output_type": "execute_result",
     "data": {
      "text/plain": "(-0.0426, 1.211]                 400\n(-1.286, -0.0426]                400\n(1.211, 3.361]                   100\n(-3.3689999999999998, -1.286]    100\ndtype: int64"
     },
     "metadata": {},
     "execution_count": 70
    }
   ],
   "source": [
    "pd.value_counts(cats)"
   ]
  },
  {
   "cell_type": "markdown",
   "metadata": {},
   "source": [
    "## Detecting and Filtering Outliers\n",
    "this process is simply a case of applying array operations.\n"
   ]
  },
  {
   "cell_type": "code",
   "execution_count": 71,
   "metadata": {},
   "outputs": [
    {
     "output_type": "execute_result",
     "data": {
      "text/plain": "                 0            1            2            3\ncount  1000.000000  1000.000000  1000.000000  1000.000000\nmean     -0.004946    -0.009557    -0.002804     0.024518\nstd       0.996536     0.990844     0.961222     0.986038\nmin      -3.581137    -3.518803    -2.755059    -3.049681\n25%      -0.629803    -0.668221    -0.664707    -0.657763\n50%      -0.000486     0.005532    -0.007814     0.008222\n75%       0.636974     0.647030     0.656196     0.748108\nmax       3.319428     3.092605     2.711915     3.459830",
      "text/html": "<div>\n<style scoped>\n    .dataframe tbody tr th:only-of-type {\n        vertical-align: middle;\n    }\n\n    .dataframe tbody tr th {\n        vertical-align: top;\n    }\n\n    .dataframe thead th {\n        text-align: right;\n    }\n</style>\n<table border=\"1\" class=\"dataframe\">\n  <thead>\n    <tr style=\"text-align: right;\">\n      <th></th>\n      <th>0</th>\n      <th>1</th>\n      <th>2</th>\n      <th>3</th>\n    </tr>\n  </thead>\n  <tbody>\n    <tr>\n      <th>count</th>\n      <td>1000.000000</td>\n      <td>1000.000000</td>\n      <td>1000.000000</td>\n      <td>1000.000000</td>\n    </tr>\n    <tr>\n      <th>mean</th>\n      <td>-0.004946</td>\n      <td>-0.009557</td>\n      <td>-0.002804</td>\n      <td>0.024518</td>\n    </tr>\n    <tr>\n      <th>std</th>\n      <td>0.996536</td>\n      <td>0.990844</td>\n      <td>0.961222</td>\n      <td>0.986038</td>\n    </tr>\n    <tr>\n      <th>min</th>\n      <td>-3.581137</td>\n      <td>-3.518803</td>\n      <td>-2.755059</td>\n      <td>-3.049681</td>\n    </tr>\n    <tr>\n      <th>25%</th>\n      <td>-0.629803</td>\n      <td>-0.668221</td>\n      <td>-0.664707</td>\n      <td>-0.657763</td>\n    </tr>\n    <tr>\n      <th>50%</th>\n      <td>-0.000486</td>\n      <td>0.005532</td>\n      <td>-0.007814</td>\n      <td>0.008222</td>\n    </tr>\n    <tr>\n      <th>75%</th>\n      <td>0.636974</td>\n      <td>0.647030</td>\n      <td>0.656196</td>\n      <td>0.748108</td>\n    </tr>\n    <tr>\n      <th>max</th>\n      <td>3.319428</td>\n      <td>3.092605</td>\n      <td>2.711915</td>\n      <td>3.459830</td>\n    </tr>\n  </tbody>\n</table>\n</div>"
     },
     "metadata": {},
     "execution_count": 71
    }
   ],
   "source": [
    "data = pd.DataFrame(np.random.randn(1000, 4))\n",
    "data.describe()"
   ]
  },
  {
   "cell_type": "markdown",
   "metadata": {},
   "source": [
    "suppose you wanted to find values in one columns exceeding 3 in absolute value"
   ]
  },
  {
   "cell_type": "code",
   "execution_count": 73,
   "metadata": {},
   "outputs": [
    {
     "output_type": "execute_result",
     "data": {
      "text/plain": "0      1.195596\n1     -0.207076\n2      0.490025\n3     -0.025798\n4      0.848825\n         ...   \n995    0.176935\n996    0.216788\n997    0.439255\n998    0.843606\n999    1.119824\nName: 2, Length: 1000, dtype: float64"
     },
     "metadata": {},
     "execution_count": 73
    }
   ],
   "source": [
    "col = data[2]\n",
    "col"
   ]
  },
  {
   "cell_type": "code",
   "execution_count": 79,
   "metadata": {},
   "outputs": [
    {
     "output_type": "execute_result",
     "data": {
      "text/plain": "100    2.711915\n960   -2.755059\nName: 2, dtype: float64"
     },
     "metadata": {},
     "execution_count": 79
    }
   ],
   "source": [
    "col[np.abs(col) > 2.7]"
   ]
  },
  {
   "cell_type": "markdown",
   "metadata": {},
   "source": [
    "To select all rows having a value exceedin 2.7 or -2.7 you can use the any method on the boolean Data frame"
   ]
  },
  {
   "cell_type": "code",
   "execution_count": 83,
   "metadata": {},
   "outputs": [
    {
     "output_type": "execute_result",
     "data": {
      "text/plain": "            0         1         2         3\n100  1.737397 -0.014729  2.711915  0.836709\n194 -3.087513 -1.588594  0.878167 -1.399535\n196 -2.994581 -0.194604  0.563069  0.319071\n215 -0.357609  1.335791  1.424017 -3.049681\n351 -0.408232  3.081563  0.563135 -0.445249\n432  3.319428 -0.005683 -1.069489  2.770649\n554 -2.784007  1.317804 -0.161120  0.992402\n567  0.729090  2.701250 -0.843015 -0.815244\n644 -0.418380 -0.448061  1.186963  3.459830\n700 -2.735510  0.945955  1.107537  1.050384\n727  3.167322  0.533816  2.546234  2.499271\n752 -0.456142  3.092605 -0.377769 -0.242404\n809 -3.581137 -0.069892 -1.919781 -0.611178\n851  0.479112 -3.194128  0.068630  1.580397\n960 -0.158464 -1.005514 -2.755059 -0.388204\n974 -3.206862  1.300587 -1.657217  0.208138\n977 -0.788273 -3.518803  0.740244  0.456317",
      "text/html": "<div>\n<style scoped>\n    .dataframe tbody tr th:only-of-type {\n        vertical-align: middle;\n    }\n\n    .dataframe tbody tr th {\n        vertical-align: top;\n    }\n\n    .dataframe thead th {\n        text-align: right;\n    }\n</style>\n<table border=\"1\" class=\"dataframe\">\n  <thead>\n    <tr style=\"text-align: right;\">\n      <th></th>\n      <th>0</th>\n      <th>1</th>\n      <th>2</th>\n      <th>3</th>\n    </tr>\n  </thead>\n  <tbody>\n    <tr>\n      <th>100</th>\n      <td>1.737397</td>\n      <td>-0.014729</td>\n      <td>2.711915</td>\n      <td>0.836709</td>\n    </tr>\n    <tr>\n      <th>194</th>\n      <td>-3.087513</td>\n      <td>-1.588594</td>\n      <td>0.878167</td>\n      <td>-1.399535</td>\n    </tr>\n    <tr>\n      <th>196</th>\n      <td>-2.994581</td>\n      <td>-0.194604</td>\n      <td>0.563069</td>\n      <td>0.319071</td>\n    </tr>\n    <tr>\n      <th>215</th>\n      <td>-0.357609</td>\n      <td>1.335791</td>\n      <td>1.424017</td>\n      <td>-3.049681</td>\n    </tr>\n    <tr>\n      <th>351</th>\n      <td>-0.408232</td>\n      <td>3.081563</td>\n      <td>0.563135</td>\n      <td>-0.445249</td>\n    </tr>\n    <tr>\n      <th>432</th>\n      <td>3.319428</td>\n      <td>-0.005683</td>\n      <td>-1.069489</td>\n      <td>2.770649</td>\n    </tr>\n    <tr>\n      <th>554</th>\n      <td>-2.784007</td>\n      <td>1.317804</td>\n      <td>-0.161120</td>\n      <td>0.992402</td>\n    </tr>\n    <tr>\n      <th>567</th>\n      <td>0.729090</td>\n      <td>2.701250</td>\n      <td>-0.843015</td>\n      <td>-0.815244</td>\n    </tr>\n    <tr>\n      <th>644</th>\n      <td>-0.418380</td>\n      <td>-0.448061</td>\n      <td>1.186963</td>\n      <td>3.459830</td>\n    </tr>\n    <tr>\n      <th>700</th>\n      <td>-2.735510</td>\n      <td>0.945955</td>\n      <td>1.107537</td>\n      <td>1.050384</td>\n    </tr>\n    <tr>\n      <th>727</th>\n      <td>3.167322</td>\n      <td>0.533816</td>\n      <td>2.546234</td>\n      <td>2.499271</td>\n    </tr>\n    <tr>\n      <th>752</th>\n      <td>-0.456142</td>\n      <td>3.092605</td>\n      <td>-0.377769</td>\n      <td>-0.242404</td>\n    </tr>\n    <tr>\n      <th>809</th>\n      <td>-3.581137</td>\n      <td>-0.069892</td>\n      <td>-1.919781</td>\n      <td>-0.611178</td>\n    </tr>\n    <tr>\n      <th>851</th>\n      <td>0.479112</td>\n      <td>-3.194128</td>\n      <td>0.068630</td>\n      <td>1.580397</td>\n    </tr>\n    <tr>\n      <th>960</th>\n      <td>-0.158464</td>\n      <td>-1.005514</td>\n      <td>-2.755059</td>\n      <td>-0.388204</td>\n    </tr>\n    <tr>\n      <th>974</th>\n      <td>-3.206862</td>\n      <td>1.300587</td>\n      <td>-1.657217</td>\n      <td>0.208138</td>\n    </tr>\n    <tr>\n      <th>977</th>\n      <td>-0.788273</td>\n      <td>-3.518803</td>\n      <td>0.740244</td>\n      <td>0.456317</td>\n    </tr>\n  </tbody>\n</table>\n</div>"
     },
     "metadata": {},
     "execution_count": 83
    }
   ],
   "source": [
    "data[(np.abs(data) > 2.7).any(1)] # selects all rows containing values exceeding abs(2.7)"
   ]
  },
  {
   "cell_type": "code",
   "execution_count": 87,
   "metadata": {},
   "outputs": [
    {
     "output_type": "execute_result",
     "data": {
      "text/plain": "                 0            1            2            3\ncount  1000.000000  1000.000000  1000.000000  1000.000000\nmean     -0.004558    -0.009018    -0.002804     0.024108\nstd       0.992163     0.987993     0.961222     0.984387\nmin      -3.000000    -3.000000    -2.755059    -3.000000\n25%      -0.629803    -0.668221    -0.664707    -0.657763\n50%      -0.000486     0.005532    -0.007814     0.008222\n75%       0.636974     0.647030     0.656196     0.748108\nmax       3.000000     3.000000     2.711915     3.000000",
      "text/html": "<div>\n<style scoped>\n    .dataframe tbody tr th:only-of-type {\n        vertical-align: middle;\n    }\n\n    .dataframe tbody tr th {\n        vertical-align: top;\n    }\n\n    .dataframe thead th {\n        text-align: right;\n    }\n</style>\n<table border=\"1\" class=\"dataframe\">\n  <thead>\n    <tr style=\"text-align: right;\">\n      <th></th>\n      <th>0</th>\n      <th>1</th>\n      <th>2</th>\n      <th>3</th>\n    </tr>\n  </thead>\n  <tbody>\n    <tr>\n      <th>count</th>\n      <td>1000.000000</td>\n      <td>1000.000000</td>\n      <td>1000.000000</td>\n      <td>1000.000000</td>\n    </tr>\n    <tr>\n      <th>mean</th>\n      <td>-0.004558</td>\n      <td>-0.009018</td>\n      <td>-0.002804</td>\n      <td>0.024108</td>\n    </tr>\n    <tr>\n      <th>std</th>\n      <td>0.992163</td>\n      <td>0.987993</td>\n      <td>0.961222</td>\n      <td>0.984387</td>\n    </tr>\n    <tr>\n      <th>min</th>\n      <td>-3.000000</td>\n      <td>-3.000000</td>\n      <td>-2.755059</td>\n      <td>-3.000000</td>\n    </tr>\n    <tr>\n      <th>25%</th>\n      <td>-0.629803</td>\n      <td>-0.668221</td>\n      <td>-0.664707</td>\n      <td>-0.657763</td>\n    </tr>\n    <tr>\n      <th>50%</th>\n      <td>-0.000486</td>\n      <td>0.005532</td>\n      <td>-0.007814</td>\n      <td>0.008222</td>\n    </tr>\n    <tr>\n      <th>75%</th>\n      <td>0.636974</td>\n      <td>0.647030</td>\n      <td>0.656196</td>\n      <td>0.748108</td>\n    </tr>\n    <tr>\n      <th>max</th>\n      <td>3.000000</td>\n      <td>3.000000</td>\n      <td>2.711915</td>\n      <td>3.000000</td>\n    </tr>\n  </tbody>\n</table>\n</div>"
     },
     "metadata": {},
     "execution_count": 87
    }
   ],
   "source": [
    "data[np.abs(data) > 3] = np.sign(data) * 2.7\n",
    "data.describe()\n"
   ]
  },
  {
   "cell_type": "markdown",
   "metadata": {},
   "source": [
    "np.sign(data) produces 1 and -1 values based on wether the data is positive or negative. therefore capping the max and min values at 2.7 and -2.7. "
   ]
  },
  {
   "cell_type": "code",
   "execution_count": 89,
   "metadata": {},
   "outputs": [
    {
     "output_type": "execute_result",
     "data": {
      "text/plain": "     0    1    2    3\n0  1.0  1.0  1.0 -1.0\n1 -1.0 -1.0 -1.0 -1.0\n2  1.0 -1.0  1.0  1.0\n3 -1.0  1.0 -1.0 -1.0\n4  1.0  1.0  1.0 -1.0",
      "text/html": "<div>\n<style scoped>\n    .dataframe tbody tr th:only-of-type {\n        vertical-align: middle;\n    }\n\n    .dataframe tbody tr th {\n        vertical-align: top;\n    }\n\n    .dataframe thead th {\n        text-align: right;\n    }\n</style>\n<table border=\"1\" class=\"dataframe\">\n  <thead>\n    <tr style=\"text-align: right;\">\n      <th></th>\n      <th>0</th>\n      <th>1</th>\n      <th>2</th>\n      <th>3</th>\n    </tr>\n  </thead>\n  <tbody>\n    <tr>\n      <th>0</th>\n      <td>1.0</td>\n      <td>1.0</td>\n      <td>1.0</td>\n      <td>-1.0</td>\n    </tr>\n    <tr>\n      <th>1</th>\n      <td>-1.0</td>\n      <td>-1.0</td>\n      <td>-1.0</td>\n      <td>-1.0</td>\n    </tr>\n    <tr>\n      <th>2</th>\n      <td>1.0</td>\n      <td>-1.0</td>\n      <td>1.0</td>\n      <td>1.0</td>\n    </tr>\n    <tr>\n      <th>3</th>\n      <td>-1.0</td>\n      <td>1.0</td>\n      <td>-1.0</td>\n      <td>-1.0</td>\n    </tr>\n    <tr>\n      <th>4</th>\n      <td>1.0</td>\n      <td>1.0</td>\n      <td>1.0</td>\n      <td>-1.0</td>\n    </tr>\n  </tbody>\n</table>\n</div>"
     },
     "metadata": {},
     "execution_count": 89
    }
   ],
   "source": [
    "np.sign(data).head() #"
   ]
  },
  {
   "cell_type": "markdown",
   "metadata": {},
   "source": [
    "# Computing Indicator/Dummy Variables\n",
    "Another type of transformation for statistical or ML. Turns catagorical data into  \n",
    "a \"dummy\" or \"indicator\" matrix which could be used to turn parameters on and  \n",
    "of in a regression equation for example"
   ]
  },
  {
   "cell_type": "code",
   "execution_count": 91,
   "metadata": {},
   "outputs": [
    {
     "output_type": "execute_result",
     "data": {
      "text/plain": "  key  data1\n0   b      0\n1   b      1\n2   a      2\n3   c      3\n4   a      4\n5   b      5",
      "text/html": "<div>\n<style scoped>\n    .dataframe tbody tr th:only-of-type {\n        vertical-align: middle;\n    }\n\n    .dataframe tbody tr th {\n        vertical-align: top;\n    }\n\n    .dataframe thead th {\n        text-align: right;\n    }\n</style>\n<table border=\"1\" class=\"dataframe\">\n  <thead>\n    <tr style=\"text-align: right;\">\n      <th></th>\n      <th>key</th>\n      <th>data1</th>\n    </tr>\n  </thead>\n  <tbody>\n    <tr>\n      <th>0</th>\n      <td>b</td>\n      <td>0</td>\n    </tr>\n    <tr>\n      <th>1</th>\n      <td>b</td>\n      <td>1</td>\n    </tr>\n    <tr>\n      <th>2</th>\n      <td>a</td>\n      <td>2</td>\n    </tr>\n    <tr>\n      <th>3</th>\n      <td>c</td>\n      <td>3</td>\n    </tr>\n    <tr>\n      <th>4</th>\n      <td>a</td>\n      <td>4</td>\n    </tr>\n    <tr>\n      <th>5</th>\n      <td>b</td>\n      <td>5</td>\n    </tr>\n  </tbody>\n</table>\n</div>"
     },
     "metadata": {},
     "execution_count": 91
    }
   ],
   "source": [
    "df = pd.DataFrame({'key':['b', 'b', 'a', 'c', 'a', 'b'], 'data1':range(6)})\n",
    "df"
   ]
  },
  {
   "cell_type": "code",
   "execution_count": 94,
   "metadata": {},
   "outputs": [
    {
     "output_type": "execute_result",
     "data": {
      "text/plain": "   key_a  key_b  key_c\n0      0      1      0\n1      0      1      0\n2      1      0      0\n3      0      0      1\n4      1      0      0\n5      0      1      0",
      "text/html": "<div>\n<style scoped>\n    .dataframe tbody tr th:only-of-type {\n        vertical-align: middle;\n    }\n\n    .dataframe tbody tr th {\n        vertical-align: top;\n    }\n\n    .dataframe thead th {\n        text-align: right;\n    }\n</style>\n<table border=\"1\" class=\"dataframe\">\n  <thead>\n    <tr style=\"text-align: right;\">\n      <th></th>\n      <th>key_a</th>\n      <th>key_b</th>\n      <th>key_c</th>\n    </tr>\n  </thead>\n  <tbody>\n    <tr>\n      <th>0</th>\n      <td>0</td>\n      <td>1</td>\n      <td>0</td>\n    </tr>\n    <tr>\n      <th>1</th>\n      <td>0</td>\n      <td>1</td>\n      <td>0</td>\n    </tr>\n    <tr>\n      <th>2</th>\n      <td>1</td>\n      <td>0</td>\n      <td>0</td>\n    </tr>\n    <tr>\n      <th>3</th>\n      <td>0</td>\n      <td>0</td>\n      <td>1</td>\n    </tr>\n    <tr>\n      <th>4</th>\n      <td>1</td>\n      <td>0</td>\n      <td>0</td>\n    </tr>\n    <tr>\n      <th>5</th>\n      <td>0</td>\n      <td>1</td>\n      <td>0</td>\n    </tr>\n  </tbody>\n</table>\n</div>"
     },
     "metadata": {},
     "execution_count": 94
    }
   ],
   "source": [
    "dummies = pd.get_dummies(df['key'], prefix='key')\n",
    "df_with_dummy = df[['data1']].join(dummies)\n",
    "dummies"
   ]
  },
  {
   "cell_type": "code",
   "execution_count": 95,
   "metadata": {},
   "outputs": [
    {
     "output_type": "execute_result",
     "data": {
      "text/plain": "   data1  key_a  key_b  key_c\n0      0      0      1      0\n1      1      0      1      0\n2      2      1      0      0\n3      3      0      0      1\n4      4      1      0      0\n5      5      0      1      0",
      "text/html": "<div>\n<style scoped>\n    .dataframe tbody tr th:only-of-type {\n        vertical-align: middle;\n    }\n\n    .dataframe tbody tr th {\n        vertical-align: top;\n    }\n\n    .dataframe thead th {\n        text-align: right;\n    }\n</style>\n<table border=\"1\" class=\"dataframe\">\n  <thead>\n    <tr style=\"text-align: right;\">\n      <th></th>\n      <th>data1</th>\n      <th>key_a</th>\n      <th>key_b</th>\n      <th>key_c</th>\n    </tr>\n  </thead>\n  <tbody>\n    <tr>\n      <th>0</th>\n      <td>0</td>\n      <td>0</td>\n      <td>1</td>\n      <td>0</td>\n    </tr>\n    <tr>\n      <th>1</th>\n      <td>1</td>\n      <td>0</td>\n      <td>1</td>\n      <td>0</td>\n    </tr>\n    <tr>\n      <th>2</th>\n      <td>2</td>\n      <td>1</td>\n      <td>0</td>\n      <td>0</td>\n    </tr>\n    <tr>\n      <th>3</th>\n      <td>3</td>\n      <td>0</td>\n      <td>0</td>\n      <td>1</td>\n    </tr>\n    <tr>\n      <th>4</th>\n      <td>4</td>\n      <td>1</td>\n      <td>0</td>\n      <td>0</td>\n    </tr>\n    <tr>\n      <th>5</th>\n      <td>5</td>\n      <td>0</td>\n      <td>1</td>\n      <td>0</td>\n    </tr>\n  </tbody>\n</table>\n</div>"
     },
     "metadata": {},
     "execution_count": 95
    }
   ],
   "source": [
    "df_with_dummy"
   ]
  },
  {
   "cell_type": "markdown",
   "metadata": {},
   "source": [
    "<br/>    \n",
    "<br/>   \n",
    "<br/>   \n",
    "\n",
    "# String Manipulation  \n",
    "pythons built-in methods for manipulating strings and text processing is particularly  \n",
    "useful for data manipulations. Pandas builds apon it by enabling manipulations for   \n",
    "whole array's of objects"
   ]
  },
  {
   "cell_type": "code",
   "execution_count": 97,
   "metadata": {},
   "outputs": [
    {
     "output_type": "execute_result",
     "data": {
      "text/plain": "['a', ' b', ' guido']"
     },
     "metadata": {},
     "execution_count": 97
    }
   ],
   "source": [
    "val = 'a, b, guido'\n",
    "val.split(',')"
   ]
  },
  {
   "cell_type": "code",
   "execution_count": 98,
   "metadata": {},
   "outputs": [
    {
     "output_type": "execute_result",
     "data": {
      "text/plain": "'a, b, guido'"
     },
     "metadata": {},
     "execution_count": 98
    }
   ],
   "source": [
    "val"
   ]
  },
  {
   "cell_type": "code",
   "execution_count": 106,
   "metadata": {},
   "outputs": [
    {
     "output_type": "execute_result",
     "data": {
      "text/plain": "['a', 'b', 'guido']"
     },
     "metadata": {},
     "execution_count": 106
    }
   ],
   "source": [
    "pieces = [x.strip() for x in val.split(',')] # pieces is now an iterable\n",
    "pieces"
   ]
  },
  {
   "cell_type": "code",
   "execution_count": 102,
   "metadata": {},
   "outputs": [
    {
     "output_type": "execute_result",
     "data": {
      "text/plain": "'b'"
     },
     "metadata": {},
     "execution_count": 102
    }
   ],
   "source": [
    "first, second, third = pieces\n",
    "second"
   ]
  },
  {
   "cell_type": "code",
   "execution_count": 103,
   "metadata": {},
   "outputs": [
    {
     "output_type": "execute_result",
     "data": {
      "text/plain": "'a::b::guido'"
     },
     "metadata": {},
     "execution_count": 103
    }
   ],
   "source": [
    "first + '::' + second + '::' + third"
   ]
  },
  {
   "cell_type": "code",
   "execution_count": 104,
   "metadata": {},
   "outputs": [
    {
     "output_type": "execute_result",
     "data": {
      "text/plain": "'a::b::guido'"
     },
     "metadata": {},
     "execution_count": 104
    }
   ],
   "source": [
    "'::'.join(pieces)"
   ]
  },
  {
   "cell_type": "code",
   "execution_count": 108,
   "metadata": {},
   "outputs": [
    {
     "output_type": "execute_result",
     "data": {
      "text/plain": "True"
     },
     "metadata": {},
     "execution_count": 108
    }
   ],
   "source": [
    "'guido' in val"
   ]
  },
  {
   "cell_type": "code",
   "execution_count": 115,
   "metadata": {},
   "outputs": [
    {
     "output_type": "execute_result",
     "data": {
      "text/plain": "1"
     },
     "metadata": {},
     "execution_count": 115
    }
   ],
   "source": [
    "val.index(',')"
   ]
  },
  {
   "cell_type": "code",
   "execution_count": 116,
   "metadata": {},
   "outputs": [
    {
     "output_type": "execute_result",
     "data": {
      "text/plain": "2"
     },
     "metadata": {},
     "execution_count": 116
    }
   ],
   "source": [
    "val.count(',')"
   ]
  },
  {
   "cell_type": "code",
   "execution_count": 122,
   "metadata": {},
   "outputs": [
    {
     "output_type": "execute_result",
     "data": {
      "text/plain": "'a:: b:: guido'"
     },
     "metadata": {},
     "execution_count": 122
    }
   ],
   "source": [
    "val.replace(',', '::')"
   ]
  },
  {
   "cell_type": "markdown",
   "metadata": {},
   "source": [
    "## Built-in string manipulations\n",
    "count -- Return the number of non-overlapping occurences of substring in the string  \n",
    "endswith -- Returns True if string ends with suffix. \n",
    "startswith -- Returns True if string starts with prefix \n",
    "join -- Use string as delimiter for concatenating a sequence of other strings\n",
    "index -- Return position of first character in substring if found in the strin; raises ValueError if not found  \n",
    "find -- Return position of first character of first occurence of substring in the string; like index, but returns -1 if not found. \n",
    "rfind -- Return position of first character of last occurence of substring in the string; -1 if not found. \n",
    "replace -- Replace occurrences of string with another string \n",
    "strip -- Trim whitespace, including newlines; equivalent to x.strip() (and rstrip, lstrip, respectively)\n",
    "rstrip,  \n",
    "lstrip  \n",
    "split -- Break string into list of substrings using passed delimiter  \n",
    "lower -- Convert a alphabet characters to lowercase  \n",
    "upper -- Convert alphabet characters to uppercase  \n",
    "casefold -- Conver haracters to lowercase, and convert any region-specific variable character combinations to a common comparable form.  \n",
    "ljust, rjust -- Left justify or right justify, respectively; pad opposite side of string with spaces(or some other fill \n",
    "character) to return a string with a minimum width.\n",
    "  \n",
    "<br/>  \n",
    "\n",
    "# Vectorised String Functions in Pandas"
   ]
  },
  {
   "cell_type": "code",
   "execution_count": 132,
   "metadata": {},
   "outputs": [
    {
     "output_type": "execute_result",
     "data": {
      "text/plain": "Dave      dave@google.com\nSteve    steve@google.com\nRob         rob@gmail.com\nWes                   NaN\ndtype: object"
     },
     "metadata": {},
     "execution_count": 132
    }
   ],
   "source": [
    "data = {'Dave': 'dave@google.com', 'Steve':'steve@google.com', 'Rob':'rob@gmail.com', 'Wes':np.nan}\n",
    "data = pd.Series(data)\n",
    "data"
   ]
  },
  {
   "cell_type": "code",
   "execution_count": 133,
   "metadata": {},
   "outputs": [
    {
     "output_type": "execute_result",
     "data": {
      "text/plain": "Dave     False\nSteve    False\nRob      False\nWes       True\ndtype: bool"
     },
     "metadata": {},
     "execution_count": 133
    }
   ],
   "source": [
    "data.isnull()"
   ]
  },
  {
   "cell_type": "code",
   "execution_count": 134,
   "metadata": {},
   "outputs": [
    {
     "output_type": "execute_result",
     "data": {
      "text/plain": "Dave     False\nSteve    False\nRob       True\nWes        NaN\ndtype: object"
     },
     "metadata": {},
     "execution_count": 134
    }
   ],
   "source": [
    "data.str.contains('gmail')"
   ]
  },
  {
   "cell_type": "code",
   "execution_count": 135,
   "metadata": {},
   "outputs": [
    {
     "output_type": "execute_result",
     "data": {
      "text/plain": "Dave     dave@\nSteve    steve\nRob      rob@g\nWes        NaN\ndtype: object"
     },
     "metadata": {},
     "execution_count": 135
    }
   ],
   "source": [
    "data.str[:5]"
   ]
  },
  {
   "cell_type": "markdown",
   "metadata": {},
   "source": [
    "# Vectorized String Methods \n",
    "cat -- Concateate strings element-wise with optional delimiter   \n",
    "contains -- returns boolean array if each string contains pattern/regex    \n",
    "count -- Count occurences of pattern \n",
    "extract -- Use a regular exprssion with groups to extract one or more strings from a Series of strings; the result will be a DataFrame with one column per group   \n",
    "endswith -- equivalent to x.endswith(pattern) for each element    \n",
    "startswith -- Equivalent to x.startsith(pattern)    \n",
    "findall - Compute a list of all occurences of pattern/regex for each string    \n",
    "get -- index into each element (retrieve ith element)  \n",
    "isalnum -- Equivalent to built-in str.alnum   \n",
    "isalpha -- Equivalent to built-in str.isalpha  \n",
    "isdecimal -- Equivalent to built-in str.isdecimal  \n",
    "isdigit, islower, isnumeric, isupper -- Equivalent to built-in str.*******  \n",
    "join -- join strings in each element of the Series with passed separator  \n",
    "len -- compute the lnegth of each string   \n",
    "match -- User re.match with the passed regular expression on each element, returning True or Flase whether it matches  \n",
    "extract -- Extract captured group element by indexing each string   \n",
    "pad -- add whitespace to left, right or both sides of the string  \n",
    "center -- Equivalent to pad(side='both')    \n",
    "repeat -- Duplicate values e.g. str.repeat(3) is equal to x * 3 for each string     \n",
    "replace -- Replace occurances of pattern/regex with some oher string    \n",
    "slice -- Slice each string in Series   \n",
    "split -- Split strings on delimiter or regular expression   \n",
    "strip -- Trim whitespace from both sides, including newlines   \n",
    "rstrip -- trim whitespace on right side   \n",
    "lstrip -- trim whitespace on left side  \n"
   ]
  },
  {
   "cell_type": "code",
   "execution_count": null,
   "metadata": {},
   "outputs": [],
   "source": []
  }
 ]
}