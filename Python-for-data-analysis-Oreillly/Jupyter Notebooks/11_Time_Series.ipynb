{
 "cells": [
  {
   "cell_type": "markdown",
   "metadata": {},
   "source": [
    "# Time Series \n",
    "how you mark and refer to time series data depends on the application, and you may have one of the following  \n",
    "* Timestamps, specific instants in time\n",
    "* fixed periods, such as the month jan 2007 or the full year 2010\n",
    "* intervals of time, indicated by a start and end timestamp. Periods can be thought of as special cases of intervals\n",
    "* Experiment or elapsed time; each timestamp is a measure of time relative to a particular start time(e.g. the diameter of a cookie baking each seocond since being placed in the oven)"
   ]
  },
  {
   "cell_type": "code",
   "execution_count": 44,
   "metadata": {},
   "outputs": [],
   "source": [
    "import pandas as pd"
   ]
  },
  {
   "cell_type": "code",
   "execution_count": 45,
   "metadata": {},
   "outputs": [
    {
     "data": {
      "text/plain": [
       "datetime.datetime(2020, 8, 4, 15, 45, 15, 197133)"
      ]
     },
     "execution_count": 45,
     "metadata": {},
     "output_type": "execute_result"
    }
   ],
   "source": [
    "\n",
    "from datetime import datetime\n",
    "now = datetime.now()\n",
    "now"
   ]
  },
  {
   "cell_type": "code",
   "execution_count": 46,
   "metadata": {},
   "outputs": [
    {
     "data": {
      "text/plain": [
       "(2020, 8, 4)"
      ]
     },
     "execution_count": 46,
     "metadata": {},
     "output_type": "execute_result"
    }
   ],
   "source": [
    "now.year, now.month, now.day"
   ]
  },
  {
   "cell_type": "code",
   "execution_count": 47,
   "metadata": {},
   "outputs": [
    {
     "data": {
      "text/plain": [
       "datetime.timedelta(926, 56700)"
      ]
     },
     "execution_count": 47,
     "metadata": {},
     "output_type": "execute_result"
    }
   ],
   "source": [
    "delta = datetime(2011, 1, 7) - datetime(2008, 6, 24, 8, 15)\n",
    "delta"
   ]
  },
  {
   "cell_type": "code",
   "execution_count": 48,
   "metadata": {},
   "outputs": [
    {
     "data": {
      "text/plain": [
       "datetime.datetime(2011, 1, 31, 0, 0)"
      ]
     },
     "execution_count": 48,
     "metadata": {},
     "output_type": "execute_result"
    }
   ],
   "source": [
    "from datetime import timedelta\n",
    "start = datetime(2011, 1, 7)\n",
    "start + 2 * timedelta(12)"
   ]
  },
  {
   "cell_type": "markdown",
   "metadata": {},
   "source": [
    "## Converting Between String and Datetime"
   ]
  },
  {
   "cell_type": "code",
   "execution_count": 49,
   "metadata": {},
   "outputs": [
    {
     "data": {
      "text/plain": [
       "'1998-12-28 00:00:00'"
      ]
     },
     "execution_count": 49,
     "metadata": {},
     "output_type": "execute_result"
    }
   ],
   "source": [
    "stamp = datetime(1998, 12, 28)\n",
    "str(stamp)"
   ]
  },
  {
   "cell_type": "code",
   "execution_count": 50,
   "metadata": {},
   "outputs": [
    {
     "data": {
      "text/plain": [
       "'1998-12-28'"
      ]
     },
     "execution_count": 50,
     "metadata": {},
     "output_type": "execute_result"
    }
   ],
   "source": [
    "stamp.strftime('%Y-%m-%d')"
   ]
  },
  {
   "cell_type": "markdown",
   "metadata": {},
   "source": [
    "## Datetime format specification \n",
    "%Y -- four  \n",
    "%y -- Two-digit year  \n",
    "%m -- Two-digit month  \n",
    "%d -- Two-digit day  \n",
    "%H -- Hour (24 hour clock)  \n",
    "%I -- House (12 hour clock)  \n",
    "%M -- Two-digit minute   \n",
    "%S -- Second [00,61] 61 account for leap second  \n",
    "%w -- Weekday as integer [0(sunday), 6]  \n",
    "%U -- Week number of the year [0-53]; sunday is considered the first day of the week, and days before the first sunday of the year are \"week 0\"   \n",
    "%W -- Week number of the year [00, 53] Monday is considered the first day of the week, and days before the first monday of the year are week \"0\"\n",
    "%z -- UTC time zone offset as +HHMM or -HHMM; empty if time zone naive   \n",
    "%F -- Shortcut for %Y-%m-%d  \n",
    "%D -- Shortcut for %m/%d/%y   \n",
    "<br/>\n",
    "you can use the same methods to convert strings to dates using datetime.strptime "
   ]
  },
  {
   "cell_type": "code",
   "execution_count": 51,
   "metadata": {},
   "outputs": [
    {
     "data": {
      "text/plain": [
       "datetime.datetime(2011, 1, 3, 0, 0)"
      ]
     },
     "execution_count": 51,
     "metadata": {},
     "output_type": "execute_result"
    }
   ],
   "source": [
    "value = '2011-01-03'\n",
    "datetime.strptime(value, '%Y-%m-%d')"
   ]
  },
  {
   "cell_type": "code",
   "execution_count": 52,
   "metadata": {},
   "outputs": [
    {
     "data": {
      "text/plain": [
       "2011-01-02   -0.596279\n",
       "2011-01-05   -0.815065\n",
       "2011-01-07    1.743168\n",
       "2011-01-08   -0.773380\n",
       "2011-01-10   -0.306357\n",
       "2011-01-12    1.100062\n",
       "dtype: float64"
      ]
     },
     "execution_count": 52,
     "metadata": {},
     "output_type": "execute_result"
    }
   ],
   "source": [
    "import numpy as np\n",
    "dates = [datetime(2011, 1, 2), datetime(2011, 1, 5), datetime(2011, 1, 7), datetime(2011, 1, 8), datetime(2011, 1, 10), datetime(2011, 1, 12)]\n",
    "ts = pd.Series(np.random.randn(6), index=dates)\n",
    "ts"
   ]
  },
  {
   "cell_type": "code",
   "execution_count": 53,
   "metadata": {},
   "outputs": [
    {
     "data": {
      "text/plain": [
       "DatetimeIndex(['2011-01-02', '2011-01-05', '2011-01-07', '2011-01-08',\n",
       "               '2011-01-10', '2011-01-12'],\n",
       "              dtype='datetime64[ns]', freq=None)"
      ]
     },
     "execution_count": 53,
     "metadata": {},
     "output_type": "execute_result"
    }
   ],
   "source": [
    "ts.index"
   ]
  },
  {
   "cell_type": "code",
   "execution_count": 54,
   "metadata": {},
   "outputs": [
    {
     "data": {
      "text/plain": [
       "2011-01-02   -1.192558\n",
       "2011-01-05         NaN\n",
       "2011-01-07    3.486336\n",
       "2011-01-08         NaN\n",
       "2011-01-10   -0.612714\n",
       "2011-01-12         NaN\n",
       "dtype: float64"
      ]
     },
     "execution_count": 54,
     "metadata": {},
     "output_type": "execute_result"
    }
   ],
   "source": [
    "ts + ts[::2] # selects every other point and doubles them. "
   ]
  },
  {
   "cell_type": "code",
   "execution_count": 55,
   "metadata": {},
   "outputs": [
    {
     "data": {
      "text/plain": [
       "Timestamp('2011-01-02 00:00:00')"
      ]
     },
     "execution_count": 55,
     "metadata": {},
     "output_type": "execute_result"
    }
   ],
   "source": [
    "stamp = ts.index[0]\n",
    "stamp"
   ]
  },
  {
   "cell_type": "code",
   "execution_count": 56,
   "metadata": {},
   "outputs": [
    {
     "data": {
      "text/plain": [
       "-0.5962792122800337"
      ]
     },
     "execution_count": 56,
     "metadata": {},
     "output_type": "execute_result"
    }
   ],
   "source": [
    "ts[stamp]"
   ]
  },
  {
   "cell_type": "code",
   "execution_count": 57,
   "metadata": {},
   "outputs": [
    {
     "data": {
      "text/plain": [
       "-0.5962792122800337"
      ]
     },
     "execution_count": 57,
     "metadata": {},
     "output_type": "execute_result"
    }
   ],
   "source": [
    "ts['2011/01/02'] # can pass a date as a string "
   ]
  },
  {
   "cell_type": "code",
   "execution_count": 58,
   "metadata": {},
   "outputs": [
    {
     "data": {
      "text/plain": [
       "2002-09-22   -0.493384\n",
       "2002-09-23   -0.207827\n",
       "2002-09-24   -0.886046\n",
       "2002-09-25    0.237732\n",
       "2002-09-26    1.460096\n",
       "Freq: D, dtype: float64"
      ]
     },
     "execution_count": 58,
     "metadata": {},
     "output_type": "execute_result"
    }
   ],
   "source": [
    "#for larger series sets \n",
    "longer_ts = pd.Series(np.random.randn(1000), index=pd.date_range('1/1/2000', periods=1000))\n",
    "longer_ts.tail()"
   ]
  },
  {
   "cell_type": "code",
   "execution_count": 59,
   "metadata": {},
   "outputs": [
    {
     "data": {
      "text/plain": [
       "2001-12-27   -0.744843\n",
       "2001-12-28   -0.074248\n",
       "2001-12-29   -0.944912\n",
       "2001-12-30    1.131164\n",
       "2001-12-31   -0.408839\n",
       "Freq: D, dtype: float64"
      ]
     },
     "execution_count": 59,
     "metadata": {},
     "output_type": "execute_result"
    }
   ],
   "source": [
    "longer_ts['2001'].tail()"
   ]
  },
  {
   "cell_type": "code",
   "execution_count": 60,
   "metadata": {},
   "outputs": [
    {
     "data": {
      "text/plain": [
       "2002-05-27    0.718844\n",
       "2002-05-28    1.360635\n",
       "2002-05-29   -2.496779\n",
       "2002-05-30    0.412370\n",
       "2002-05-31    1.176583\n",
       "Freq: D, dtype: float64"
      ]
     },
     "execution_count": 60,
     "metadata": {},
     "output_type": "execute_result"
    }
   ],
   "source": [
    "longer_ts['2002-05'].tail()"
   ]
  },
  {
   "cell_type": "code",
   "execution_count": 61,
   "metadata": {},
   "outputs": [
    {
     "data": {
      "text/plain": [
       "2011-01-02   -0.596279\n",
       "2011-01-05   -0.815065\n",
       "2011-01-07    1.743168\n",
       "2011-01-08   -0.773380\n",
       "2011-01-10   -0.306357\n",
       "2011-01-12    1.100062\n",
       "dtype: float64"
      ]
     },
     "execution_count": 61,
     "metadata": {},
     "output_type": "execute_result"
    }
   ],
   "source": [
    "ts[datetime(2009, 5, 5):]"
   ]
  },
  {
   "cell_type": "code",
   "execution_count": 62,
   "metadata": {},
   "outputs": [
    {
     "data": {
      "text/plain": [
       "2011-01-07    1.743168\n",
       "2011-01-08   -0.773380\n",
       "2011-01-10   -0.306357\n",
       "dtype: float64"
      ]
     },
     "execution_count": 62,
     "metadata": {},
     "output_type": "execute_result"
    }
   ],
   "source": [
    "ts['1/6/2011':'1/11/2011']"
   ]
  },
  {
   "cell_type": "code",
   "execution_count": 63,
   "metadata": {},
   "outputs": [
    {
     "data": {
      "text/plain": [
       "2011-01-02   -0.596279\n",
       "2011-01-05   -0.815065\n",
       "2011-01-07    1.743168\n",
       "2011-01-08   -0.773380\n",
       "dtype: float64"
      ]
     },
     "execution_count": 63,
     "metadata": {},
     "output_type": "execute_result"
    }
   ],
   "source": [
    "ts.truncate(after='1/9/2011')"
   ]
  },
  {
   "cell_type": "markdown",
   "metadata": {},
   "source": [
    "## Time Series with Duplicate Indices"
   ]
  },
  {
   "cell_type": "code",
   "execution_count": 64,
   "metadata": {},
   "outputs": [
    {
     "data": {
      "text/plain": [
       "2002-01-01   -1.410824\n",
       "2002-01-02    0.881724\n",
       "2002-01-03    1.002362\n",
       "2002-01-02    0.173960\n",
       "2002-01-02    0.180727\n",
       "dtype: float64"
      ]
     },
     "execution_count": 64,
     "metadata": {},
     "output_type": "execute_result"
    }
   ],
   "source": [
    "dates = pd.DatetimeIndex(['1/1/2002', '1/2/2002', '1/3/2002', '1/2/2002', '1/2/2002' ])\n",
    "dup_ts = pd.Series(np.random.randn(5), index=dates)\n",
    "dup_ts"
   ]
  },
  {
   "cell_type": "code",
   "execution_count": 65,
   "metadata": {},
   "outputs": [
    {
     "data": {
      "text/plain": [
       "DatetimeIndex(['2002-01-01', '2002-01-02', '2002-01-03'], dtype='datetime64[ns]', freq=None)"
      ]
     },
     "execution_count": 65,
     "metadata": {},
     "output_type": "execute_result"
    }
   ],
   "source": [
    "dup_ts.index.unique()"
   ]
  },
  {
   "cell_type": "code",
   "execution_count": 66,
   "metadata": {},
   "outputs": [
    {
     "data": {
      "text/plain": [
       "2002-01-01   -1.410824\n",
       "2002-01-02    0.412137\n",
       "2002-01-03    1.002362\n",
       "dtype: float64"
      ]
     },
     "execution_count": 66,
     "metadata": {},
     "output_type": "execute_result"
    }
   ],
   "source": [
    "# suppose you wanted to group non-unique dates\n",
    "non_unique = dup_ts.groupby(level=0)\n",
    "non_unique.mean()"
   ]
  },
  {
   "cell_type": "code",
   "execution_count": 67,
   "metadata": {},
   "outputs": [
    {
     "data": {
      "text/plain": [
       "2002-01-01    1\n",
       "2002-01-02    3\n",
       "2002-01-03    1\n",
       "dtype: int64"
      ]
     },
     "execution_count": 67,
     "metadata": {},
     "output_type": "execute_result"
    }
   ],
   "source": [
    "non_unique.count()"
   ]
  },
  {
   "cell_type": "markdown",
   "metadata": {},
   "source": [
    "## Date Ranges Frequencies and shifting  \n",
    "often you time series may have non-uniform date ranges. For most purposes this is fine but should you whish to have equidistant dates you may whish to use the following"
   ]
  },
  {
   "cell_type": "code",
   "execution_count": 68,
   "metadata": {},
   "outputs": [
    {
     "data": {
      "text/plain": [
       "2011-01-02   -0.596279\n",
       "2011-01-05   -0.815065\n",
       "2011-01-07    1.743168\n",
       "2011-01-08   -0.773380\n",
       "2011-01-10   -0.306357\n",
       "2011-01-12    1.100062\n",
       "dtype: float64"
      ]
     },
     "execution_count": 68,
     "metadata": {},
     "output_type": "execute_result"
    }
   ],
   "source": [
    "ts"
   ]
  },
  {
   "cell_type": "code",
   "execution_count": 69,
   "metadata": {},
   "outputs": [
    {
     "data": {
      "text/plain": [
       "2011-01-02   -0.596279\n",
       "2011-01-03         NaN\n",
       "2011-01-04         NaN\n",
       "2011-01-05   -0.815065\n",
       "2011-01-06         NaN\n",
       "2011-01-07    1.743168\n",
       "2011-01-08   -0.773380\n",
       "2011-01-09         NaN\n",
       "2011-01-10   -0.306357\n",
       "2011-01-11         NaN\n",
       "2011-01-12    1.100062\n",
       "Freq: D, dtype: float64"
      ]
     },
     "execution_count": 69,
     "metadata": {},
     "output_type": "execute_result"
    }
   ],
   "source": [
    "resampler = ts.resample('D') #D for daily\n",
    "resampler.mean()"
   ]
  },
  {
   "cell_type": "code",
   "execution_count": 70,
   "metadata": {},
   "outputs": [
    {
     "data": {
      "text/plain": [
       "DatetimeIndex(['2009-04-01', '2009-04-02', '2009-04-03', '2009-04-04',\n",
       "               '2009-04-05', '2009-04-06', '2009-04-07', '2009-04-08',\n",
       "               '2009-04-09', '2009-04-10', '2009-04-11', '2009-04-12',\n",
       "               '2009-04-13', '2009-04-14', '2009-04-15', '2009-04-16',\n",
       "               '2009-04-17', '2009-04-18', '2009-04-19', '2009-04-20',\n",
       "               '2009-04-21', '2009-04-22', '2009-04-23', '2009-04-24',\n",
       "               '2009-04-25', '2009-04-26', '2009-04-27', '2009-04-28',\n",
       "               '2009-04-29', '2009-04-30', '2009-05-01'],\n",
       "              dtype='datetime64[ns]', freq='D')"
      ]
     },
     "execution_count": 70,
     "metadata": {},
     "output_type": "execute_result"
    }
   ],
   "source": [
    "index = pd.date_range('2009-04-01', '2009-05-01')\n",
    "index"
   ]
  },
  {
   "cell_type": "code",
   "execution_count": 71,
   "metadata": {},
   "outputs": [],
   "source": [
    "index2 = pd.date_range(start='1998-12-28', periods=365) #can also used 'end' as arg\n",
    "# should you have wanted a index that just referenced the last business day of the month\n",
    "index2 = pd.date_range(start='1998-12-28', end='2020-12-28', freq='BM') # 'BM' for business month"
   ]
  },
  {
   "cell_type": "markdown",
   "metadata": {},
   "source": [
    "### Base time series frequencies \n",
    "D -- Day   \n",
    "B -- BusinessDay   \n",
    "H -- Hour  \n",
    "T/min -- Minute   \n",
    "S -- Second  \n",
    "L/ms -- milli  \n",
    "U -- Micro  \n",
    "M -- MonthEnd  \n",
    "BM -- BusinessMonthEnd  \n",
    "MS -- MonthBegin  \n",
    "BMS -- BusinessMonthBegin   \n",
    "W-MON, W-TUE -- Week    \n",
    "WOM-1MON/WOM-2MON -- Generates dates in first/second/third/fourth week of the month.    \n",
    "Q-JAN/Q-FEB -- Quater end anchord on last calendar name of each month  \n",
    "BQ-JAN/BQ-FEB -- Business Quater End. Quaterly dates anchored on last weekday of each month  \n",
    "QS-JAN/QS-FEB -- Quaterly dates anchored on first calendar day of each month.    \n",
    "BQS-JAN/BQS-FEB -- Quarterly dates anchored onf irst weekday of each mont, for year ending in indicated month.   \n",
    "A-JAN/A-FEB -- Annual dates anchored on last calendar day of given month   \n",
    "BA-JAN/BA-FEB -- Annual dates anchored on last weekday of given month   \n",
    "AS-JAN/AS-FEB -- Annual dates anchored on first daty of given month  \n",
    "BAS-JAN/BAS-FEB -- Annual dates anchored on frist weekday of given month.  \n"
   ]
  },
  {
   "cell_type": "code",
   "execution_count": 72,
   "metadata": {},
   "outputs": [
    {
     "data": {
      "text/plain": [
       "DatetimeIndex(['2001-11-23 12:56:31', '2001-11-24 12:56:31',\n",
       "               '2001-11-25 12:56:31', '2001-11-26 12:56:31',\n",
       "               '2001-11-27 12:56:31'],\n",
       "              dtype='datetime64[ns]', freq='D')"
      ]
     },
     "execution_count": 72,
     "metadata": {},
     "output_type": "execute_result"
    }
   ],
   "source": [
    "pd.date_range('2001-11-23 12:56:31', periods=5)"
   ]
  },
  {
   "cell_type": "code",
   "execution_count": 73,
   "metadata": {},
   "outputs": [
    {
     "data": {
      "text/plain": [
       "DatetimeIndex(['2001-11-23', '2001-11-24', '2001-11-25', '2001-11-26',\n",
       "               '2001-11-27'],\n",
       "              dtype='datetime64[ns]', freq='D')"
      ]
     },
     "execution_count": 73,
     "metadata": {},
     "output_type": "execute_result"
    }
   ],
   "source": [
    "pd.date_range('2001-11-23 12:56:31', periods=5, normalize=True) #should you want to normalise them to midnight "
   ]
  },
  {
   "cell_type": "markdown",
   "metadata": {},
   "source": [
    "## Shifting Data\n",
    "moving information around by shifting date"
   ]
  },
  {
   "cell_type": "code",
   "execution_count": 74,
   "metadata": {},
   "outputs": [
    {
     "data": {
      "text/plain": [
       "1998-12-05    0.484211\n",
       "1998-12-06   -1.271930\n",
       "1998-12-07    0.467360\n",
       "1998-12-08    0.952550\n",
       "1998-12-09    0.371530\n",
       "1998-12-10   -1.454242\n",
       "Freq: D, dtype: float64"
      ]
     },
     "execution_count": 74,
     "metadata": {},
     "output_type": "execute_result"
    }
   ],
   "source": [
    "dates = pd.date_range('1998-12-05', periods = 6)\n",
    "ts = pd.Series(np.random.randn(6), index=dates)\n",
    "ts"
   ]
  },
  {
   "cell_type": "code",
   "execution_count": 75,
   "metadata": {},
   "outputs": [
    {
     "data": {
      "text/plain": [
       "1998-12-05         NaN\n",
       "1998-12-06         NaN\n",
       "1998-12-07         NaN\n",
       "1998-12-08    0.484211\n",
       "1998-12-09   -1.271930\n",
       "1998-12-10    0.467360\n",
       "Freq: D, dtype: float64"
      ]
     },
     "execution_count": 75,
     "metadata": {},
     "output_type": "execute_result"
    }
   ],
   "source": [
    "ts.shift(3)"
   ]
  },
  {
   "cell_type": "code",
   "execution_count": 76,
   "metadata": {},
   "outputs": [
    {
     "data": {
      "text/plain": [
       "1998-12-05    0.467360\n",
       "1998-12-06    0.952550\n",
       "1998-12-07    0.371530\n",
       "1998-12-08   -1.454242\n",
       "1998-12-09         NaN\n",
       "1998-12-10         NaN\n",
       "Freq: D, dtype: float64"
      ]
     },
     "execution_count": 76,
     "metadata": {},
     "output_type": "execute_result"
    }
   ],
   "source": [
    "ts.shift(-2) "
   ]
  },
  {
   "cell_type": "code",
   "execution_count": 77,
   "metadata": {},
   "outputs": [
    {
     "data": {
      "text/plain": [
       "1998-12-05 00:01:30    0.484211\n",
       "1998-12-06 00:01:30   -1.271930\n",
       "1998-12-07 00:01:30    0.467360\n",
       "1998-12-08 00:01:30    0.952550\n",
       "1998-12-09 00:01:30    0.371530\n",
       "1998-12-10 00:01:30   -1.454242\n",
       "Freq: D, dtype: float64"
      ]
     },
     "execution_count": 77,
     "metadata": {},
     "output_type": "execute_result"
    }
   ],
   "source": [
    "ts.shift(1, freq='90S')"
   ]
  },
  {
   "cell_type": "markdown",
   "metadata": {},
   "source": [
    "# Time Zone Handling\n",
    "working with time zones is considered to be a pain. As a result many time series used choose to with with UTC, the succsesor to GMT. IT is the current international standard. Time zones are expressed as offsets from UTC. In python, time zone information comes from pytz lirary. You can install it with pip or conda. pandas wraps pytz's functionalty so you can ignore its API outside of the time zone names. Time zone names can be found interactively and in the docs. "
   ]
  },
  {
   "cell_type": "code",
   "execution_count": 78,
   "metadata": {},
   "outputs": [
    {
     "data": {
      "text/plain": [
       "['US/Eastern', 'US/Hawaii', 'US/Mountain', 'US/Pacific', 'UTC']"
      ]
     },
     "execution_count": 78,
     "metadata": {},
     "output_type": "execute_result"
    }
   ],
   "source": [
    "import pytz \n",
    "pytz.common_timezones[-5:]"
   ]
  },
  {
   "cell_type": "code",
   "execution_count": 79,
   "metadata": {},
   "outputs": [
    {
     "data": {
      "text/plain": [
       "<DstTzInfo 'America/New_York' LMT-1 day, 19:04:00 STD>"
      ]
     },
     "execution_count": 79,
     "metadata": {},
     "output_type": "execute_result"
    }
   ],
   "source": [
    "# To get a time zone object from pytz, use pytz.timezone\n",
    "tz = pytz.timezone('America/New_York')\n",
    "tz"
   ]
  },
  {
   "cell_type": "markdown",
   "metadata": {},
   "source": [
    "## Time Zone Localization and Conversion\n",
    "By default, Time series in pandas are time zone naive. For example, consider the following time series"
   ]
  },
  {
   "cell_type": "code",
   "execution_count": 80,
   "metadata": {},
   "outputs": [
    {
     "data": {
      "text/plain": [
       "DatetimeIndex(['2012-03-09 09:20:00', '2012-03-10 09:20:00',\n",
       "               '2012-03-11 09:20:00', '2012-03-12 09:20:00',\n",
       "               '2012-03-13 09:20:00', '2012-03-14 09:20:00',\n",
       "               '2012-03-15 09:20:00'],\n",
       "              dtype='datetime64[ns]', freq='D')"
      ]
     },
     "execution_count": 80,
     "metadata": {},
     "output_type": "execute_result"
    }
   ],
   "source": [
    "rng = pd.date_range('3/9/2012 9:20', periods=7, freq='D')\n",
    "rng"
   ]
  },
  {
   "cell_type": "code",
   "execution_count": 81,
   "metadata": {},
   "outputs": [
    {
     "data": {
      "text/plain": [
       "2012-03-09 09:20:00   -2.070686\n",
       "2012-03-10 09:20:00    1.916341\n",
       "2012-03-11 09:20:00   -0.393583\n",
       "2012-03-12 09:20:00    0.893082\n",
       "2012-03-13 09:20:00    1.851536\n",
       "2012-03-14 09:20:00   -0.172357\n",
       "2012-03-15 09:20:00   -0.370833\n",
       "Freq: D, dtype: float64"
      ]
     },
     "execution_count": 81,
     "metadata": {},
     "output_type": "execute_result"
    }
   ],
   "source": [
    "ts = pd.Series(np.random.randn(len(rng)), index=rng)\n",
    "ts"
   ]
  },
  {
   "cell_type": "code",
   "execution_count": 82,
   "metadata": {},
   "outputs": [
    {
     "name": "stdout",
     "output_type": "stream",
     "text": [
      "None\n"
     ]
    }
   ],
   "source": [
    "print(ts.index.tz) # Shows the series does not have an associated timezone"
   ]
  },
  {
   "cell_type": "code",
   "execution_count": 83,
   "metadata": {},
   "outputs": [
    {
     "data": {
      "text/plain": [
       "DatetimeIndex(['2012-03-09 09:30:00+00:00', '2012-03-10 09:30:00+00:00',\n",
       "               '2012-03-11 09:30:00+00:00', '2012-03-12 09:30:00+00:00',\n",
       "               '2012-03-13 09:30:00+00:00', '2012-03-14 09:30:00+00:00',\n",
       "               '2012-03-15 09:30:00+00:00', '2012-03-16 09:30:00+00:00',\n",
       "               '2012-03-17 09:30:00+00:00', '2012-03-18 09:30:00+00:00'],\n",
       "              dtype='datetime64[ns, UTC]', freq='D')"
      ]
     },
     "execution_count": 83,
     "metadata": {},
     "output_type": "execute_result"
    }
   ],
   "source": [
    "pd.date_range('3/9/2012 9:30', periods=10, freq='D', tz='UTC') #can pass a series a timezone"
   ]
  },
  {
   "cell_type": "code",
   "execution_count": 84,
   "metadata": {},
   "outputs": [
    {
     "data": {
      "text/plain": [
       "2012-03-09 09:20:00+00:00   -2.070686\n",
       "2012-03-10 09:20:00+00:00    1.916341\n",
       "2012-03-11 09:20:00+00:00   -0.393583\n",
       "2012-03-12 09:20:00+00:00    0.893082\n",
       "2012-03-13 09:20:00+00:00    1.851536\n",
       "2012-03-14 09:20:00+00:00   -0.172357\n",
       "2012-03-15 09:20:00+00:00   -0.370833\n",
       "Freq: D, dtype: float64"
      ]
     },
     "execution_count": 84,
     "metadata": {},
     "output_type": "execute_result"
    }
   ],
   "source": [
    "ts_utc = ts.tz_localize('UTC') #localises time series to UTC \n",
    "ts_utc"
   ]
  },
  {
   "cell_type": "code",
   "execution_count": 85,
   "metadata": {},
   "outputs": [
    {
     "data": {
      "text/plain": [
       "DatetimeIndex(['2012-03-09 09:20:00+00:00', '2012-03-10 09:20:00+00:00',\n",
       "               '2012-03-11 09:20:00+00:00', '2012-03-12 09:20:00+00:00',\n",
       "               '2012-03-13 09:20:00+00:00', '2012-03-14 09:20:00+00:00',\n",
       "               '2012-03-15 09:20:00+00:00'],\n",
       "              dtype='datetime64[ns, UTC]', freq='D')"
      ]
     },
     "execution_count": 85,
     "metadata": {},
     "output_type": "execute_result"
    }
   ],
   "source": [
    "ts_utc.index"
   ]
  },
  {
   "cell_type": "code",
   "execution_count": 86,
   "metadata": {},
   "outputs": [
    {
     "data": {
      "text/plain": [
       "2012-03-09 04:20:00-05:00   -2.070686\n",
       "2012-03-10 04:20:00-05:00    1.916341\n",
       "2012-03-11 05:20:00-04:00   -0.393583\n",
       "2012-03-12 05:20:00-04:00    0.893082\n",
       "2012-03-13 05:20:00-04:00    1.851536\n",
       "2012-03-14 05:20:00-04:00   -0.172357\n",
       "2012-03-15 05:20:00-04:00   -0.370833\n",
       "Freq: D, dtype: float64"
      ]
     },
     "execution_count": 86,
     "metadata": {},
     "output_type": "execute_result"
    }
   ],
   "source": [
    "ts_utc.tz_convert('America/New_York') # converts it to another time zone"
   ]
  },
  {
   "cell_type": "code",
   "execution_count": 87,
   "metadata": {},
   "outputs": [
    {
     "data": {
      "text/plain": [
       "2012-03-09 14:20:00+00:00   -2.070686\n",
       "2012-03-10 14:20:00+00:00    1.916341\n",
       "2012-03-11 13:20:00+00:00   -0.393583\n",
       "2012-03-12 13:20:00+00:00    0.893082\n",
       "2012-03-13 13:20:00+00:00    1.851536\n",
       "2012-03-14 13:20:00+00:00   -0.172357\n",
       "2012-03-15 13:20:00+00:00   -0.370833\n",
       "Freq: D, dtype: float64"
      ]
     },
     "execution_count": 87,
     "metadata": {},
     "output_type": "execute_result"
    }
   ],
   "source": [
    "ts_eastern = ts.tz_localize('America/New_York') #localise to America/New_York\n",
    "ts_eastern.tz_convert('UTC') #Converts to UTC"
   ]
  },
  {
   "cell_type": "code",
   "execution_count": 88,
   "metadata": {},
   "outputs": [
    {
     "data": {
      "text/plain": [
       "2012-03-09 15:20:00+01:00   -2.070686\n",
       "2012-03-10 15:20:00+01:00    1.916341\n",
       "2012-03-11 14:20:00+01:00   -0.393583\n",
       "2012-03-12 14:20:00+01:00    0.893082\n",
       "2012-03-13 14:20:00+01:00    1.851536\n",
       "2012-03-14 14:20:00+01:00   -0.172357\n",
       "2012-03-15 14:20:00+01:00   -0.370833\n",
       "Freq: D, dtype: float64"
      ]
     },
     "execution_count": 88,
     "metadata": {},
     "output_type": "execute_result"
    }
   ],
   "source": [
    "ts_eastern.tz_convert('Europe/Berlin')"
   ]
  },
  {
   "cell_type": "markdown",
   "metadata": {},
   "source": [
    "## Operations Between Different Time Zones\n",
    "If two Series with different time zones are combined, the result will be UTC. Since the timestamps are stored under the hood in UTC."
   ]
  },
  {
   "cell_type": "code",
   "execution_count": 89,
   "metadata": {},
   "outputs": [
    {
     "data": {
      "text/plain": [
       "2012-03-07 09:30:00    0.605051\n",
       "2012-03-08 09:30:00    0.481053\n",
       "2012-03-09 09:30:00   -0.330596\n",
       "2012-03-12 09:30:00    0.510970\n",
       "2012-03-13 09:30:00   -0.340682\n",
       "2012-03-14 09:30:00   -0.271859\n",
       "2012-03-15 09:30:00    1.490435\n",
       "2012-03-16 09:30:00   -1.887412\n",
       "2012-03-19 09:30:00   -0.395401\n",
       "2012-03-20 09:30:00    0.802360\n",
       "Freq: B, dtype: float64"
      ]
     },
     "execution_count": 89,
     "metadata": {},
     "output_type": "execute_result"
    }
   ],
   "source": [
    "rng = pd.date_range('3/7/2012 9:30', periods=10, freq='B')\n",
    "ts = pd.Series(np.random.randn(len(rng)), index=rng)\n",
    "ts"
   ]
  },
  {
   "cell_type": "code",
   "execution_count": 90,
   "metadata": {},
   "outputs": [
    {
     "data": {
      "text/plain": [
       "DatetimeIndex(['2012-03-07 09:30:00+00:00', '2012-03-08 09:30:00+00:00',\n",
       "               '2012-03-09 09:30:00+00:00', '2012-03-12 09:30:00+00:00',\n",
       "               '2012-03-13 09:30:00+00:00', '2012-03-14 09:30:00+00:00',\n",
       "               '2012-03-15 09:30:00+00:00'],\n",
       "              dtype='datetime64[ns, UTC]', freq='B')"
      ]
     },
     "execution_count": 90,
     "metadata": {},
     "output_type": "execute_result"
    }
   ],
   "source": [
    "ts1 = ts[:7].tz_localize('Europe/London')\n",
    "ts2 = ts1[2:].tz_convert('Europe/Moscow')\n",
    "result = ts1 + ts2\n",
    "result.index # Resultant time zone is UTC "
   ]
  },
  {
   "cell_type": "markdown",
   "metadata": {},
   "source": [
    "## Periods and Period Arithmetic \n",
    "Periods represent timespanes, like days, months, quaters or years. The period is represented by the Period class"
   ]
  },
  {
   "cell_type": "code",
   "execution_count": 91,
   "metadata": {},
   "outputs": [
    {
     "data": {
      "text/plain": [
       "Period('2007', 'A-DEC')"
      ]
     },
     "execution_count": 91,
     "metadata": {},
     "output_type": "execute_result"
    }
   ],
   "source": [
    "p = pd.Period(2007, freq='A-Dec')\n",
    "p"
   ]
  },
  {
   "cell_type": "code",
   "execution_count": 92,
   "metadata": {},
   "outputs": [
    {
     "data": {
      "text/plain": [
       "Period('2012', 'A-DEC')"
      ]
     },
     "execution_count": 92,
     "metadata": {},
     "output_type": "execute_result"
    }
   ],
   "source": [
    "# addidng and subtracting shift the periods date \n",
    "p + 5"
   ]
  },
  {
   "cell_type": "code",
   "execution_count": 93,
   "metadata": {},
   "outputs": [
    {
     "data": {
      "text/plain": [
       "PeriodIndex(['2000-01', '2000-02', '2000-03', '2000-04', '2000-05', '2000-06'], dtype='period[M]', freq='M')"
      ]
     },
     "execution_count": 93,
     "metadata": {},
     "output_type": "execute_result"
    }
   ],
   "source": [
    "# regular ranges or periods can be constructed with period_range\n",
    "rng = pd.period_range('2000-01-01', '2000-06-30', freq='M')\n",
    "rng"
   ]
  },
  {
   "cell_type": "code",
   "execution_count": 94,
   "metadata": {},
   "outputs": [
    {
     "data": {
      "text/plain": [
       "2000-01    0.651785\n",
       "2000-02    0.750168\n",
       "2000-03   -0.866046\n",
       "2000-04    0.470224\n",
       "2000-05   -0.949654\n",
       "2000-06   -1.326554\n",
       "Freq: M, dtype: float64"
      ]
     },
     "execution_count": 94,
     "metadata": {},
     "output_type": "execute_result"
    }
   ],
   "source": [
    "pd.Series(np.random.randn(len(rng)), index=rng) #can use as an axis index in data strucutre. "
   ]
  },
  {
   "cell_type": "markdown",
   "metadata": {},
   "source": [
    "## period Freqency Conversion\n",
    "for example shoudl you have a period index of a year and whish to convert it into months \n"
   ]
  },
  {
   "cell_type": "code",
   "execution_count": 95,
   "metadata": {},
   "outputs": [
    {
     "data": {
      "text/plain": [
       "Period('2007', 'A-DEC')"
      ]
     },
     "execution_count": 95,
     "metadata": {},
     "output_type": "execute_result"
    }
   ],
   "source": [
    "p = pd.Period('2007', freq='A-DEC')\n",
    "p"
   ]
  },
  {
   "cell_type": "code",
   "execution_count": 96,
   "metadata": {},
   "outputs": [
    {
     "data": {
      "text/plain": [
       "Period('2007-01', 'M')"
      ]
     },
     "execution_count": 96,
     "metadata": {},
     "output_type": "execute_result"
    }
   ],
   "source": [
    "p.asfreq('M', how='start')"
   ]
  },
  {
   "cell_type": "code",
   "execution_count": 97,
   "metadata": {},
   "outputs": [
    {
     "data": {
      "text/plain": [
       "Period('2007-12', 'M')"
      ]
     },
     "execution_count": 97,
     "metadata": {},
     "output_type": "execute_result"
    }
   ],
   "source": [
    "p.asfreq('M', how='end')"
   ]
  },
  {
   "cell_type": "markdown",
   "metadata": {},
   "source": [
    " PeriodIndex objects or time series can be similarly converted with the same sematincs"
   ]
  },
  {
   "cell_type": "code",
   "execution_count": 98,
   "metadata": {},
   "outputs": [
    {
     "data": {
      "text/plain": [
       "2006   -1.061012\n",
       "2007    0.163543\n",
       "2008    0.666401\n",
       "2009    2.197572\n",
       "2010    1.363657\n",
       "2011   -0.417862\n",
       "2012   -0.852959\n",
       "Freq: A-DEC, dtype: float64"
      ]
     },
     "execution_count": 98,
     "metadata": {},
     "output_type": "execute_result"
    }
   ],
   "source": [
    "rng = pd.period_range('2006','2012', freq='A-DEC')\n",
    "p = pd.Series(np.random.randn(len(rng)), index=rng)\n",
    "p"
   ]
  },
  {
   "cell_type": "code",
   "execution_count": 99,
   "metadata": {},
   "outputs": [
    {
     "data": {
      "text/plain": [
       "2006-12-29   -1.061012\n",
       "2007-12-31    0.163543\n",
       "2008-12-31    0.666401\n",
       "2009-12-31    2.197572\n",
       "2010-12-31    1.363657\n",
       "2011-12-30   -0.417862\n",
       "2012-12-31   -0.852959\n",
       "Freq: B, dtype: float64"
      ]
     },
     "execution_count": 99,
     "metadata": {},
     "output_type": "execute_result"
    }
   ],
   "source": [
    "p.asfreq('B', how='end') # last business day of each year"
   ]
  },
  {
   "cell_type": "markdown",
   "metadata": {},
   "source": [
    "## Converting Timestamps to Peridos (and Back)\n",
    "Series and DataFrame objects indexed by timestamps can be converted to periods with the to_period method"
   ]
  },
  {
   "cell_type": "code",
   "execution_count": 100,
   "metadata": {},
   "outputs": [
    {
     "data": {
      "text/plain": [
       "2000-01-31    1.408165\n",
       "2000-02-29    0.693272\n",
       "2000-03-31    0.189881\n",
       "Freq: M, dtype: float64"
      ]
     },
     "execution_count": 100,
     "metadata": {},
     "output_type": "execute_result"
    }
   ],
   "source": [
    "rng = pd.date_range('2000-01-01', periods=3, freq='M')\n",
    "ts = pd.Series(np.random.randn(3), index=rng)\n",
    "ts"
   ]
  },
  {
   "cell_type": "code",
   "execution_count": 101,
   "metadata": {},
   "outputs": [
    {
     "data": {
      "text/plain": [
       "2000-01    1.408165\n",
       "2000-02    0.693272\n",
       "2000-03    0.189881\n",
       "Freq: M, dtype: float64"
      ]
     },
     "execution_count": 101,
     "metadata": {},
     "output_type": "execute_result"
    }
   ],
   "source": [
    "pts = ts.to_period()\n",
    "pts"
   ]
  },
  {
   "cell_type": "markdown",
   "metadata": {},
   "source": [
    "Since periods refer to non-overlapping timespans, a timestamp can only belong to a single period. There however is no issue with having multiple numbers of the same period."
   ]
  },
  {
   "cell_type": "code",
   "execution_count": 102,
   "metadata": {},
   "outputs": [
    {
     "data": {
      "text/plain": [
       "2000-01-29   -0.695630\n",
       "2000-01-30   -1.227850\n",
       "2000-01-31    0.655502\n",
       "2000-02-01   -0.434818\n",
       "2000-02-02    0.157314\n",
       "2000-02-03    0.174238\n",
       "Freq: D, dtype: float64"
      ]
     },
     "execution_count": 102,
     "metadata": {},
     "output_type": "execute_result"
    }
   ],
   "source": [
    "rng = pd.date_range('1/29/2000', periods=6, freq='D')\n",
    "ts2 = pd.Series(np.random.randn(6), index=rng)\n",
    "ts2"
   ]
  },
  {
   "cell_type": "code",
   "execution_count": 103,
   "metadata": {},
   "outputs": [
    {
     "data": {
      "text/plain": [
       "2000-01   -0.695630\n",
       "2000-01   -1.227850\n",
       "2000-01    0.655502\n",
       "2000-02   -0.434818\n",
       "2000-02    0.157314\n",
       "2000-02    0.174238\n",
       "Freq: M, dtype: float64"
      ]
     },
     "execution_count": 103,
     "metadata": {},
     "output_type": "execute_result"
    }
   ],
   "source": [
    "pts2 = ts2.to_period('M')\n",
    "pts2"
   ]
  },
  {
   "cell_type": "code",
   "execution_count": 104,
   "metadata": {},
   "outputs": [],
   "source": [
    "# To convert back to timestamp use to_timestamp()"
   ]
  },
  {
   "cell_type": "code",
   "execution_count": 105,
   "metadata": {},
   "outputs": [
    {
     "data": {
      "text/plain": [
       "2000-01-31 23:59:59.999999999   -0.695630\n",
       "2000-01-31 23:59:59.999999999   -1.227850\n",
       "2000-01-31 23:59:59.999999999    0.655502\n",
       "2000-02-29 23:59:59.999999999   -0.434818\n",
       "2000-02-29 23:59:59.999999999    0.157314\n",
       "2000-02-29 23:59:59.999999999    0.174238\n",
       "dtype: float64"
      ]
     },
     "execution_count": 105,
     "metadata": {},
     "output_type": "execute_result"
    }
   ],
   "source": [
    "ts3 = pts2.to_timestamp(how='end')\n",
    "ts3"
   ]
  },
  {
   "cell_type": "markdown",
   "metadata": {},
   "source": [
    "# Resampling and Frequency conversion\n",
    "resampling referes to the process of converting a time series from one frequncy to antoher. downsampling, converts to lower frequency where upsampling refers to higher frequency. the resample method is the main workhorse for all frequency conversion. "
   ]
  },
  {
   "cell_type": "code",
   "execution_count": 106,
   "metadata": {},
   "outputs": [
    {
     "data": {
      "text/plain": [
       "2000-01-01   -1.066628\n",
       "2000-01-02   -1.394048\n",
       "2000-01-03    0.161837\n",
       "2000-01-04   -1.373027\n",
       "2000-01-05    0.055547\n",
       "2000-01-06   -1.287104\n",
       "2000-01-07   -0.352793\n",
       "2000-01-08    1.503156\n",
       "Freq: D, dtype: float64"
      ]
     },
     "execution_count": 106,
     "metadata": {},
     "output_type": "execute_result"
    }
   ],
   "source": [
    "rng = pd.date_range('2000-01-01', periods=100, freq='D')\n",
    "ts = pd.Series(np.random.randn(len(rng)), index=rng)\n",
    "ts.head(8)"
   ]
  },
  {
   "cell_type": "code",
   "execution_count": 107,
   "metadata": {},
   "outputs": [
    {
     "data": {
      "text/plain": [
       "2000-01-31   -0.400625\n",
       "2000-02-29   -0.156533\n",
       "2000-03-31    0.042490\n",
       "2000-04-30    0.069311\n",
       "Freq: M, dtype: float64"
      ]
     },
     "execution_count": 107,
     "metadata": {},
     "output_type": "execute_result"
    }
   ],
   "source": [
    "ts.resample('M').mean()"
   ]
  },
  {
   "cell_type": "code",
   "execution_count": 108,
   "metadata": {},
   "outputs": [
    {
     "data": {
      "text/plain": [
       "2000-01   -0.400625\n",
       "2000-02   -0.156533\n",
       "2000-03    0.042490\n",
       "2000-04    0.069311\n",
       "Freq: M, dtype: float64"
      ]
     },
     "execution_count": 108,
     "metadata": {},
     "output_type": "execute_result"
    }
   ],
   "source": [
    "ts.resample('M', kind='period').mean()"
   ]
  },
  {
   "cell_type": "markdown",
   "metadata": {},
   "source": [
    "## Resample method arguments  \n",
    "freq -- String or DateOffset indicating desired resampled frequency\n",
    "axis -- Axis to resample on; default=0  \n",
    "fill_method -- How to interpolate when upsampling as in 'ffill', or 'bfill';    \n",
    "closed -- In downsampling, which ened of each interval is closed 'right' or 'left'.    \n",
    "label -- In downsampling, how to lavel the aggregated result with the 'right' or 'left' bin edge    \n",
    "limit -- When foward or backward filling, the maximum number of periods to fill.   \n",
    "kind -- Aggregate to periods or timestamps 'period' or 'timestamp'   \n",
    "convention -- When resampling periods, the convention('start' or'end' for converting the low-frequncy period to high frequency'; defaults to 'start'. \n",
    "<br/>\n",
    "### Downsampling \n",
    "when downsampling you need to thingk about \n",
    "* Which side of each interval is closed\n",
    "* How to label each aggregated bin, either with the start of the interval or the end. "
   ]
  },
  {
   "cell_type": "code",
   "execution_count": 110,
   "metadata": {},
   "outputs": [
    {
     "data": {
      "text/plain": [
       "2000-01-01 00:00:00     0\n",
       "2000-01-01 00:01:00     1\n",
       "2000-01-01 00:02:00     2\n",
       "2000-01-01 00:03:00     3\n",
       "2000-01-01 00:04:00     4\n",
       "2000-01-01 00:05:00     5\n",
       "2000-01-01 00:06:00     6\n",
       "2000-01-01 00:07:00     7\n",
       "2000-01-01 00:08:00     8\n",
       "2000-01-01 00:09:00     9\n",
       "2000-01-01 00:10:00    10\n",
       "2000-01-01 00:11:00    11\n",
       "Freq: T, dtype: int64"
      ]
     },
     "execution_count": 110,
     "metadata": {},
     "output_type": "execute_result"
    }
   ],
   "source": [
    "rng = pd.date_range('2000-01-01', periods=12, freq='T')\n",
    "ts = pd.Series(np.arange(len(rng)), index=rng)\n",
    "ts"
   ]
  },
  {
   "cell_type": "code",
   "execution_count": 111,
   "metadata": {},
   "outputs": [
    {
     "data": {
      "text/plain": [
       "1999-12-31 23:55:00     0\n",
       "2000-01-01 00:00:00    15\n",
       "2000-01-01 00:05:00    40\n",
       "2000-01-01 00:10:00    11\n",
       "Freq: 5T, dtype: int64"
      ]
     },
     "execution_count": 111,
     "metadata": {},
     "output_type": "execute_result"
    }
   ],
   "source": [
    "ts.resample('5min', closed='right').sum()"
   ]
  },
  {
   "cell_type": "code",
   "execution_count": 113,
   "metadata": {},
   "outputs": [
    {
     "data": {
      "text/plain": [
       "2000-01-01 00:00:00     0\n",
       "2000-01-01 00:05:00    15\n",
       "2000-01-01 00:10:00    40\n",
       "2000-01-01 00:15:00    11\n",
       "Freq: 5T, dtype: int64"
      ]
     },
     "execution_count": 113,
     "metadata": {},
     "output_type": "execute_result"
    }
   ],
   "source": [
    "ts.resample('5min', closed='right', label='right').sum() # changes the position of the bins from left to right"
   ]
  },
  {
   "cell_type": "markdown",
   "metadata": {},
   "source": [
    "### Open-High-Low-Close resampling\n",
    "in finance a popular way to aggregate a time seires is to compute four values for each bucket. By using ohlc aggregate function you will obtain a DataFrame having columns containing these four aggregates "
   ]
  },
  {
   "cell_type": "code",
   "execution_count": 114,
   "metadata": {},
   "outputs": [
    {
     "data": {
      "text/html": [
       "<div>\n",
       "<style scoped>\n",
       "    .dataframe tbody tr th:only-of-type {\n",
       "        vertical-align: middle;\n",
       "    }\n",
       "\n",
       "    .dataframe tbody tr th {\n",
       "        vertical-align: top;\n",
       "    }\n",
       "\n",
       "    .dataframe thead th {\n",
       "        text-align: right;\n",
       "    }\n",
       "</style>\n",
       "<table border=\"1\" class=\"dataframe\">\n",
       "  <thead>\n",
       "    <tr style=\"text-align: right;\">\n",
       "      <th></th>\n",
       "      <th>open</th>\n",
       "      <th>high</th>\n",
       "      <th>low</th>\n",
       "      <th>close</th>\n",
       "    </tr>\n",
       "  </thead>\n",
       "  <tbody>\n",
       "    <tr>\n",
       "      <th>2000-01-01 00:00:00</th>\n",
       "      <td>0</td>\n",
       "      <td>4</td>\n",
       "      <td>0</td>\n",
       "      <td>4</td>\n",
       "    </tr>\n",
       "    <tr>\n",
       "      <th>2000-01-01 00:05:00</th>\n",
       "      <td>5</td>\n",
       "      <td>9</td>\n",
       "      <td>5</td>\n",
       "      <td>9</td>\n",
       "    </tr>\n",
       "    <tr>\n",
       "      <th>2000-01-01 00:10:00</th>\n",
       "      <td>10</td>\n",
       "      <td>11</td>\n",
       "      <td>10</td>\n",
       "      <td>11</td>\n",
       "    </tr>\n",
       "  </tbody>\n",
       "</table>\n",
       "</div>"
      ],
      "text/plain": [
       "                     open  high  low  close\n",
       "2000-01-01 00:00:00     0     4    0      4\n",
       "2000-01-01 00:05:00     5     9    5      9\n",
       "2000-01-01 00:10:00    10    11   10     11"
      ]
     },
     "execution_count": 114,
     "metadata": {},
     "output_type": "execute_result"
    }
   ],
   "source": [
    "ts.resample('5min').ohlc()"
   ]
  },
  {
   "cell_type": "markdown",
   "metadata": {},
   "source": [
    "## Upsampling and Interpolation\n",
    "when converting from a low frequency to a higher frequency no aggretation is needed. "
   ]
  },
  {
   "cell_type": "code",
   "execution_count": 118,
   "metadata": {},
   "outputs": [
    {
     "data": {
      "text/html": [
       "<div>\n",
       "<style scoped>\n",
       "    .dataframe tbody tr th:only-of-type {\n",
       "        vertical-align: middle;\n",
       "    }\n",
       "\n",
       "    .dataframe tbody tr th {\n",
       "        vertical-align: top;\n",
       "    }\n",
       "\n",
       "    .dataframe thead th {\n",
       "        text-align: right;\n",
       "    }\n",
       "</style>\n",
       "<table border=\"1\" class=\"dataframe\">\n",
       "  <thead>\n",
       "    <tr style=\"text-align: right;\">\n",
       "      <th></th>\n",
       "      <th>Colorado</th>\n",
       "      <th>Texas</th>\n",
       "      <th>New York</th>\n",
       "      <th>Ohio</th>\n",
       "    </tr>\n",
       "  </thead>\n",
       "  <tbody>\n",
       "    <tr>\n",
       "      <th>2000-01-05</th>\n",
       "      <td>1.312761</td>\n",
       "      <td>-0.186424</td>\n",
       "      <td>1.127892</td>\n",
       "      <td>-0.630408</td>\n",
       "    </tr>\n",
       "    <tr>\n",
       "      <th>2000-01-12</th>\n",
       "      <td>-0.880612</td>\n",
       "      <td>-0.578471</td>\n",
       "      <td>0.799949</td>\n",
       "      <td>1.848771</td>\n",
       "    </tr>\n",
       "  </tbody>\n",
       "</table>\n",
       "</div>"
      ],
      "text/plain": [
       "            Colorado     Texas  New York      Ohio\n",
       "2000-01-05  1.312761 -0.186424  1.127892 -0.630408\n",
       "2000-01-12 -0.880612 -0.578471  0.799949  1.848771"
      ]
     },
     "execution_count": 118,
     "metadata": {},
     "output_type": "execute_result"
    }
   ],
   "source": [
    "frame = pd.DataFrame(np.random.randn(2,4), index=pd.date_range('1/1/2000', periods=2, freq='W-WED'), columns=['Colorado', 'Texas', 'New York', 'Ohio'])\n",
    "frame"
   ]
  },
  {
   "cell_type": "code",
   "execution_count": 120,
   "metadata": {},
   "outputs": [
    {
     "data": {
      "text/html": [
       "<div>\n",
       "<style scoped>\n",
       "    .dataframe tbody tr th:only-of-type {\n",
       "        vertical-align: middle;\n",
       "    }\n",
       "\n",
       "    .dataframe tbody tr th {\n",
       "        vertical-align: top;\n",
       "    }\n",
       "\n",
       "    .dataframe thead th {\n",
       "        text-align: right;\n",
       "    }\n",
       "</style>\n",
       "<table border=\"1\" class=\"dataframe\">\n",
       "  <thead>\n",
       "    <tr style=\"text-align: right;\">\n",
       "      <th></th>\n",
       "      <th>Colorado</th>\n",
       "      <th>Texas</th>\n",
       "      <th>New York</th>\n",
       "      <th>Ohio</th>\n",
       "    </tr>\n",
       "  </thead>\n",
       "  <tbody>\n",
       "    <tr>\n",
       "      <th>2000-01-05</th>\n",
       "      <td>1.312761</td>\n",
       "      <td>-0.186424</td>\n",
       "      <td>1.127892</td>\n",
       "      <td>-0.630408</td>\n",
       "    </tr>\n",
       "    <tr>\n",
       "      <th>2000-01-06</th>\n",
       "      <td>NaN</td>\n",
       "      <td>NaN</td>\n",
       "      <td>NaN</td>\n",
       "      <td>NaN</td>\n",
       "    </tr>\n",
       "    <tr>\n",
       "      <th>2000-01-07</th>\n",
       "      <td>NaN</td>\n",
       "      <td>NaN</td>\n",
       "      <td>NaN</td>\n",
       "      <td>NaN</td>\n",
       "    </tr>\n",
       "    <tr>\n",
       "      <th>2000-01-08</th>\n",
       "      <td>NaN</td>\n",
       "      <td>NaN</td>\n",
       "      <td>NaN</td>\n",
       "      <td>NaN</td>\n",
       "    </tr>\n",
       "    <tr>\n",
       "      <th>2000-01-09</th>\n",
       "      <td>NaN</td>\n",
       "      <td>NaN</td>\n",
       "      <td>NaN</td>\n",
       "      <td>NaN</td>\n",
       "    </tr>\n",
       "    <tr>\n",
       "      <th>2000-01-10</th>\n",
       "      <td>NaN</td>\n",
       "      <td>NaN</td>\n",
       "      <td>NaN</td>\n",
       "      <td>NaN</td>\n",
       "    </tr>\n",
       "    <tr>\n",
       "      <th>2000-01-11</th>\n",
       "      <td>NaN</td>\n",
       "      <td>NaN</td>\n",
       "      <td>NaN</td>\n",
       "      <td>NaN</td>\n",
       "    </tr>\n",
       "    <tr>\n",
       "      <th>2000-01-12</th>\n",
       "      <td>-0.880612</td>\n",
       "      <td>-0.578471</td>\n",
       "      <td>0.799949</td>\n",
       "      <td>1.848771</td>\n",
       "    </tr>\n",
       "  </tbody>\n",
       "</table>\n",
       "</div>"
      ],
      "text/plain": [
       "            Colorado     Texas  New York      Ohio\n",
       "2000-01-05  1.312761 -0.186424  1.127892 -0.630408\n",
       "2000-01-06       NaN       NaN       NaN       NaN\n",
       "2000-01-07       NaN       NaN       NaN       NaN\n",
       "2000-01-08       NaN       NaN       NaN       NaN\n",
       "2000-01-09       NaN       NaN       NaN       NaN\n",
       "2000-01-10       NaN       NaN       NaN       NaN\n",
       "2000-01-11       NaN       NaN       NaN       NaN\n",
       "2000-01-12 -0.880612 -0.578471  0.799949  1.848771"
      ]
     },
     "execution_count": 120,
     "metadata": {},
     "output_type": "execute_result"
    }
   ],
   "source": [
    "df_daily = frame.resample('D').asfreq()\n",
    "df_daily"
   ]
  },
  {
   "cell_type": "code",
   "execution_count": 123,
   "metadata": {},
   "outputs": [
    {
     "data": {
      "text/html": [
       "<div>\n",
       "<style scoped>\n",
       "    .dataframe tbody tr th:only-of-type {\n",
       "        vertical-align: middle;\n",
       "    }\n",
       "\n",
       "    .dataframe tbody tr th {\n",
       "        vertical-align: top;\n",
       "    }\n",
       "\n",
       "    .dataframe thead th {\n",
       "        text-align: right;\n",
       "    }\n",
       "</style>\n",
       "<table border=\"1\" class=\"dataframe\">\n",
       "  <thead>\n",
       "    <tr style=\"text-align: right;\">\n",
       "      <th></th>\n",
       "      <th>Colorado</th>\n",
       "      <th>Texas</th>\n",
       "      <th>New York</th>\n",
       "      <th>Ohio</th>\n",
       "    </tr>\n",
       "  </thead>\n",
       "  <tbody>\n",
       "    <tr>\n",
       "      <th>2000-01-05</th>\n",
       "      <td>1.312761</td>\n",
       "      <td>-0.186424</td>\n",
       "      <td>1.127892</td>\n",
       "      <td>-0.630408</td>\n",
       "    </tr>\n",
       "    <tr>\n",
       "      <th>2000-01-06</th>\n",
       "      <td>1.312761</td>\n",
       "      <td>-0.186424</td>\n",
       "      <td>1.127892</td>\n",
       "      <td>-0.630408</td>\n",
       "    </tr>\n",
       "    <tr>\n",
       "      <th>2000-01-07</th>\n",
       "      <td>1.312761</td>\n",
       "      <td>-0.186424</td>\n",
       "      <td>1.127892</td>\n",
       "      <td>-0.630408</td>\n",
       "    </tr>\n",
       "    <tr>\n",
       "      <th>2000-01-08</th>\n",
       "      <td>1.312761</td>\n",
       "      <td>-0.186424</td>\n",
       "      <td>1.127892</td>\n",
       "      <td>-0.630408</td>\n",
       "    </tr>\n",
       "    <tr>\n",
       "      <th>2000-01-09</th>\n",
       "      <td>1.312761</td>\n",
       "      <td>-0.186424</td>\n",
       "      <td>1.127892</td>\n",
       "      <td>-0.630408</td>\n",
       "    </tr>\n",
       "    <tr>\n",
       "      <th>2000-01-10</th>\n",
       "      <td>1.312761</td>\n",
       "      <td>-0.186424</td>\n",
       "      <td>1.127892</td>\n",
       "      <td>-0.630408</td>\n",
       "    </tr>\n",
       "    <tr>\n",
       "      <th>2000-01-11</th>\n",
       "      <td>1.312761</td>\n",
       "      <td>-0.186424</td>\n",
       "      <td>1.127892</td>\n",
       "      <td>-0.630408</td>\n",
       "    </tr>\n",
       "    <tr>\n",
       "      <th>2000-01-12</th>\n",
       "      <td>-0.880612</td>\n",
       "      <td>-0.578471</td>\n",
       "      <td>0.799949</td>\n",
       "      <td>1.848771</td>\n",
       "    </tr>\n",
       "  </tbody>\n",
       "</table>\n",
       "</div>"
      ],
      "text/plain": [
       "            Colorado     Texas  New York      Ohio\n",
       "2000-01-05  1.312761 -0.186424  1.127892 -0.630408\n",
       "2000-01-06  1.312761 -0.186424  1.127892 -0.630408\n",
       "2000-01-07  1.312761 -0.186424  1.127892 -0.630408\n",
       "2000-01-08  1.312761 -0.186424  1.127892 -0.630408\n",
       "2000-01-09  1.312761 -0.186424  1.127892 -0.630408\n",
       "2000-01-10  1.312761 -0.186424  1.127892 -0.630408\n",
       "2000-01-11  1.312761 -0.186424  1.127892 -0.630408\n",
       "2000-01-12 -0.880612 -0.578471  0.799949  1.848771"
      ]
     },
     "execution_count": 123,
     "metadata": {},
     "output_type": "execute_result"
    }
   ],
   "source": [
    "frame.resample('D').ffill() # fill carries the data foward and resample('D') upsamples daily as\n",
    "# as ffill reduces the time frequency and therefore rows"
   ]
  },
  {
   "cell_type": "markdown",
   "metadata": {},
   "source": [
    "## Resampling with Periods\n",
    "Resampling data indexed by periods is similar to timestamps"
   ]
  },
  {
   "cell_type": "code",
   "execution_count": 125,
   "metadata": {},
   "outputs": [
    {
     "data": {
      "text/html": [
       "<div>\n",
       "<style scoped>\n",
       "    .dataframe tbody tr th:only-of-type {\n",
       "        vertical-align: middle;\n",
       "    }\n",
       "\n",
       "    .dataframe tbody tr th {\n",
       "        vertical-align: top;\n",
       "    }\n",
       "\n",
       "    .dataframe thead th {\n",
       "        text-align: right;\n",
       "    }\n",
       "</style>\n",
       "<table border=\"1\" class=\"dataframe\">\n",
       "  <thead>\n",
       "    <tr style=\"text-align: right;\">\n",
       "      <th></th>\n",
       "      <th>Colorado</th>\n",
       "      <th>Texas</th>\n",
       "      <th>New York</th>\n",
       "      <th>Ohio</th>\n",
       "    </tr>\n",
       "  </thead>\n",
       "  <tbody>\n",
       "    <tr>\n",
       "      <th>2000-01</th>\n",
       "      <td>-0.952643</td>\n",
       "      <td>-0.856533</td>\n",
       "      <td>0.024391</td>\n",
       "      <td>0.108535</td>\n",
       "    </tr>\n",
       "    <tr>\n",
       "      <th>2000-02</th>\n",
       "      <td>0.446466</td>\n",
       "      <td>-0.460336</td>\n",
       "      <td>-2.619437</td>\n",
       "      <td>-0.252802</td>\n",
       "    </tr>\n",
       "    <tr>\n",
       "      <th>2000-03</th>\n",
       "      <td>0.735194</td>\n",
       "      <td>-0.892583</td>\n",
       "      <td>1.422746</td>\n",
       "      <td>0.216618</td>\n",
       "    </tr>\n",
       "  </tbody>\n",
       "</table>\n",
       "</div>"
      ],
      "text/plain": [
       "         Colorado     Texas  New York      Ohio\n",
       "2000-01 -0.952643 -0.856533  0.024391  0.108535\n",
       "2000-02  0.446466 -0.460336 -2.619437 -0.252802\n",
       "2000-03  0.735194 -0.892583  1.422746  0.216618"
      ]
     },
     "execution_count": 125,
     "metadata": {},
     "output_type": "execute_result"
    }
   ],
   "source": [
    "frame = pd.DataFrame(np.random.randn(24, 4), index=pd.period_range('1-2000', '12-2001', freq='M'), columns=['Colorado', 'Texas', 'New York', 'Ohio'])\n",
    "frame.head(3)"
   ]
  },
  {
   "cell_type": "code",
   "execution_count": 126,
   "metadata": {},
   "outputs": [
    {
     "data": {
      "text/html": [
       "<div>\n",
       "<style scoped>\n",
       "    .dataframe tbody tr th:only-of-type {\n",
       "        vertical-align: middle;\n",
       "    }\n",
       "\n",
       "    .dataframe tbody tr th {\n",
       "        vertical-align: top;\n",
       "    }\n",
       "\n",
       "    .dataframe thead th {\n",
       "        text-align: right;\n",
       "    }\n",
       "</style>\n",
       "<table border=\"1\" class=\"dataframe\">\n",
       "  <thead>\n",
       "    <tr style=\"text-align: right;\">\n",
       "      <th></th>\n",
       "      <th>Colorado</th>\n",
       "      <th>Texas</th>\n",
       "      <th>New York</th>\n",
       "      <th>Ohio</th>\n",
       "    </tr>\n",
       "  </thead>\n",
       "  <tbody>\n",
       "    <tr>\n",
       "      <th>2000</th>\n",
       "      <td>0.164265</td>\n",
       "      <td>-0.109949</td>\n",
       "      <td>0.040561</td>\n",
       "      <td>-0.008732</td>\n",
       "    </tr>\n",
       "    <tr>\n",
       "      <th>2001</th>\n",
       "      <td>0.472907</td>\n",
       "      <td>0.223241</td>\n",
       "      <td>0.018972</td>\n",
       "      <td>-0.343108</td>\n",
       "    </tr>\n",
       "  </tbody>\n",
       "</table>\n",
       "</div>"
      ],
      "text/plain": [
       "      Colorado     Texas  New York      Ohio\n",
       "2000  0.164265 -0.109949  0.040561 -0.008732\n",
       "2001  0.472907  0.223241  0.018972 -0.343108"
      ]
     },
     "execution_count": 126,
     "metadata": {},
     "output_type": "execute_result"
    }
   ],
   "source": [
    "annual_frame = frame.resample('A-Dec').mean()\n",
    "annual_frame"
   ]
  },
  {
   "cell_type": "code",
   "execution_count": 127,
   "metadata": {},
   "outputs": [
    {
     "data": {
      "text/html": [
       "<div>\n",
       "<style scoped>\n",
       "    .dataframe tbody tr th:only-of-type {\n",
       "        vertical-align: middle;\n",
       "    }\n",
       "\n",
       "    .dataframe tbody tr th {\n",
       "        vertical-align: top;\n",
       "    }\n",
       "\n",
       "    .dataframe thead th {\n",
       "        text-align: right;\n",
       "    }\n",
       "</style>\n",
       "<table border=\"1\" class=\"dataframe\">\n",
       "  <thead>\n",
       "    <tr style=\"text-align: right;\">\n",
       "      <th></th>\n",
       "      <th>Colorado</th>\n",
       "      <th>Texas</th>\n",
       "      <th>New York</th>\n",
       "      <th>Ohio</th>\n",
       "    </tr>\n",
       "  </thead>\n",
       "  <tbody>\n",
       "    <tr>\n",
       "      <th>2000Q1</th>\n",
       "      <td>0.164265</td>\n",
       "      <td>-0.109949</td>\n",
       "      <td>0.040561</td>\n",
       "      <td>-0.008732</td>\n",
       "    </tr>\n",
       "    <tr>\n",
       "      <th>2000Q2</th>\n",
       "      <td>0.164265</td>\n",
       "      <td>-0.109949</td>\n",
       "      <td>0.040561</td>\n",
       "      <td>-0.008732</td>\n",
       "    </tr>\n",
       "    <tr>\n",
       "      <th>2000Q3</th>\n",
       "      <td>0.164265</td>\n",
       "      <td>-0.109949</td>\n",
       "      <td>0.040561</td>\n",
       "      <td>-0.008732</td>\n",
       "    </tr>\n",
       "    <tr>\n",
       "      <th>2000Q4</th>\n",
       "      <td>0.164265</td>\n",
       "      <td>-0.109949</td>\n",
       "      <td>0.040561</td>\n",
       "      <td>-0.008732</td>\n",
       "    </tr>\n",
       "    <tr>\n",
       "      <th>2001Q1</th>\n",
       "      <td>0.472907</td>\n",
       "      <td>0.223241</td>\n",
       "      <td>0.018972</td>\n",
       "      <td>-0.343108</td>\n",
       "    </tr>\n",
       "    <tr>\n",
       "      <th>2001Q2</th>\n",
       "      <td>0.472907</td>\n",
       "      <td>0.223241</td>\n",
       "      <td>0.018972</td>\n",
       "      <td>-0.343108</td>\n",
       "    </tr>\n",
       "    <tr>\n",
       "      <th>2001Q3</th>\n",
       "      <td>0.472907</td>\n",
       "      <td>0.223241</td>\n",
       "      <td>0.018972</td>\n",
       "      <td>-0.343108</td>\n",
       "    </tr>\n",
       "    <tr>\n",
       "      <th>2001Q4</th>\n",
       "      <td>0.472907</td>\n",
       "      <td>0.223241</td>\n",
       "      <td>0.018972</td>\n",
       "      <td>-0.343108</td>\n",
       "    </tr>\n",
       "  </tbody>\n",
       "</table>\n",
       "</div>"
      ],
      "text/plain": [
       "        Colorado     Texas  New York      Ohio\n",
       "2000Q1  0.164265 -0.109949  0.040561 -0.008732\n",
       "2000Q2  0.164265 -0.109949  0.040561 -0.008732\n",
       "2000Q3  0.164265 -0.109949  0.040561 -0.008732\n",
       "2000Q4  0.164265 -0.109949  0.040561 -0.008732\n",
       "2001Q1  0.472907  0.223241  0.018972 -0.343108\n",
       "2001Q2  0.472907  0.223241  0.018972 -0.343108\n",
       "2001Q3  0.472907  0.223241  0.018972 -0.343108\n",
       "2001Q4  0.472907  0.223241  0.018972 -0.343108"
      ]
     },
     "execution_count": 127,
     "metadata": {},
     "output_type": "execute_result"
    }
   ],
   "source": [
    "# Upsampling is more nuanced, as you must make a decision about which end of the timespan in the new frequuency \n",
    "# to place the values before resampling \n",
    "# Q-DEC: quaterly, year ending in December\n",
    "annual_frame.resample('Q-DEC').ffill()"
   ]
  },
  {
   "cell_type": "code",
   "execution_count": 129,
   "metadata": {},
   "outputs": [
    {
     "data": {
      "text/html": [
       "<div>\n",
       "<style scoped>\n",
       "    .dataframe tbody tr th:only-of-type {\n",
       "        vertical-align: middle;\n",
       "    }\n",
       "\n",
       "    .dataframe tbody tr th {\n",
       "        vertical-align: top;\n",
       "    }\n",
       "\n",
       "    .dataframe thead th {\n",
       "        text-align: right;\n",
       "    }\n",
       "</style>\n",
       "<table border=\"1\" class=\"dataframe\">\n",
       "  <thead>\n",
       "    <tr style=\"text-align: right;\">\n",
       "      <th></th>\n",
       "      <th>Colorado</th>\n",
       "      <th>Texas</th>\n",
       "      <th>New York</th>\n",
       "      <th>Ohio</th>\n",
       "    </tr>\n",
       "  </thead>\n",
       "  <tbody>\n",
       "    <tr>\n",
       "      <th>2000Q4</th>\n",
       "      <td>0.164265</td>\n",
       "      <td>-0.109949</td>\n",
       "      <td>0.040561</td>\n",
       "      <td>-0.008732</td>\n",
       "    </tr>\n",
       "    <tr>\n",
       "      <th>2001Q1</th>\n",
       "      <td>0.164265</td>\n",
       "      <td>-0.109949</td>\n",
       "      <td>0.040561</td>\n",
       "      <td>-0.008732</td>\n",
       "    </tr>\n",
       "    <tr>\n",
       "      <th>2001Q2</th>\n",
       "      <td>0.164265</td>\n",
       "      <td>-0.109949</td>\n",
       "      <td>0.040561</td>\n",
       "      <td>-0.008732</td>\n",
       "    </tr>\n",
       "    <tr>\n",
       "      <th>2001Q3</th>\n",
       "      <td>0.164265</td>\n",
       "      <td>-0.109949</td>\n",
       "      <td>0.040561</td>\n",
       "      <td>-0.008732</td>\n",
       "    </tr>\n",
       "    <tr>\n",
       "      <th>2001Q4</th>\n",
       "      <td>0.472907</td>\n",
       "      <td>0.223241</td>\n",
       "      <td>0.018972</td>\n",
       "      <td>-0.343108</td>\n",
       "    </tr>\n",
       "  </tbody>\n",
       "</table>\n",
       "</div>"
      ],
      "text/plain": [
       "        Colorado     Texas  New York      Ohio\n",
       "2000Q4  0.164265 -0.109949  0.040561 -0.008732\n",
       "2001Q1  0.164265 -0.109949  0.040561 -0.008732\n",
       "2001Q2  0.164265 -0.109949  0.040561 -0.008732\n",
       "2001Q3  0.164265 -0.109949  0.040561 -0.008732\n",
       "2001Q4  0.472907  0.223241  0.018972 -0.343108"
      ]
     },
     "execution_count": 129,
     "metadata": {},
     "output_type": "execute_result"
    }
   ],
   "source": [
    "annual_frame.resample('Q-DEC', convention='end').ffill()"
   ]
  },
  {
   "cell_type": "markdown",
   "metadata": {},
   "source": [
    "<br/>  \n",
    "<br/>  \n",
    "**In downsampling, the target frequency must be a subperiod of the source frequency.** \n",
    "<br/>         \n",
    "**In upsampling, the target frequency must be a superperiod fo the source frequency.**"
   ]
  },
  {
   "cell_type": "code",
   "execution_count": null,
   "metadata": {},
   "outputs": [],
   "source": []
  }
 ],
 "metadata": {
  "kernelspec": {
   "display_name": "Python 2",
   "language": "python",
   "name": "python2"
  },
  "language_info": {
   "codemirror_mode": {
    "name": "ipython",
    "version": 2
   },
   "file_extension": ".py",
   "mimetype": "text/x-python",
   "name": "python",
   "nbconvert_exporter": "python",
   "pygments_lexer": "ipython2",
   "version": "2.7.16"
  }
 },
 "nbformat": 4,
 "nbformat_minor": 2
}
